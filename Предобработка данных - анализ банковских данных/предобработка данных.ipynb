{
 "cells": [
  {
   "cell_type": "markdown",
   "id": "bfbb97e2",
   "metadata": {
    "deletable": false,
    "editable": false,
    "id": "c81daeeb"
   },
   "source": [
    "# Исследование надежности заемщиков\n"
   ]
  },
  {
   "cell_type": "markdown",
   "id": "42f82655",
   "metadata": {},
   "source": [
    "**Описание проекта:**    \n",
    "Заказчик — кредитный отдел банка. Нужно разобраться, влияет ли семейное положение и количество детей клиента на факт погашения кредита в срок. Входные данные от банка — статистика о платёжеспособности клиентов.    \n",
    "Результаты исследования будут учтены при построении модели кредитного скоринга — специальной системы, которая оценивает способность потенциального заёмщика вернуть кредит банку."
   ]
  },
  {
   "cell_type": "markdown",
   "id": "43df85f1",
   "metadata": {},
   "source": [
    "**Описание данных:**    \n",
    "children — количество детей в семье    \n",
    "days_employed — общий трудовой стаж в днях    \n",
    "dob_years — возраст клиента в годах    \n",
    "education — уровень образования клиента    \n",
    "education_id — идентификатор уровня образования    \n",
    "family_status — семейное положение    \n",
    "family_status_id — идентификатор семейного положения    \n",
    "gender — пол клиента    \n",
    "income_type — тип занятости    \n",
    "debt — имел ли задолженность по возврату кредитов    \n",
    "total_income — ежемесячный доход    \n",
    "purpose — цель получения кредита    "
   ]
  },
  {
   "cell_type": "markdown",
   "id": "51450514",
   "metadata": {
    "id": "744d7639"
   },
   "source": [
    "## Откроем таблицу и изучим общую информацию о данных"
   ]
  },
  {
   "cell_type": "code",
   "execution_count": 1,
   "id": "eacd7d8d",
   "metadata": {
    "deletable": false,
    "id": "7bcf75c9"
   },
   "outputs": [],
   "source": [
    "import pandas as pd\n",
    "\n",
    "try:\n",
    "    data = pd.read_csv('/datasets/data.csv')\n",
    "except:\n",
    "    data = pd.read_csv('https://code.s3.yandex.net/datasets/data.csv')"
   ]
  },
  {
   "cell_type": "code",
   "execution_count": 2,
   "id": "ac987d6d",
   "metadata": {
    "deletable": false,
    "id": "2a7cab99",
    "outputId": "1a8f3ef2-d323-4ec2-ddf7-89670b5944c4"
   },
   "outputs": [
    {
     "data": {
      "text/html": [
       "<div>\n",
       "<style scoped>\n",
       "    .dataframe tbody tr th:only-of-type {\n",
       "        vertical-align: middle;\n",
       "    }\n",
       "\n",
       "    .dataframe tbody tr th {\n",
       "        vertical-align: top;\n",
       "    }\n",
       "\n",
       "    .dataframe thead th {\n",
       "        text-align: right;\n",
       "    }\n",
       "</style>\n",
       "<table border=\"1\" class=\"dataframe\">\n",
       "  <thead>\n",
       "    <tr style=\"text-align: right;\">\n",
       "      <th></th>\n",
       "      <th>children</th>\n",
       "      <th>days_employed</th>\n",
       "      <th>dob_years</th>\n",
       "      <th>education</th>\n",
       "      <th>education_id</th>\n",
       "      <th>family_status</th>\n",
       "      <th>family_status_id</th>\n",
       "      <th>gender</th>\n",
       "      <th>income_type</th>\n",
       "      <th>debt</th>\n",
       "      <th>total_income</th>\n",
       "      <th>purpose</th>\n",
       "    </tr>\n",
       "  </thead>\n",
       "  <tbody>\n",
       "    <tr>\n",
       "      <th>0</th>\n",
       "      <td>1</td>\n",
       "      <td>-8437.673028</td>\n",
       "      <td>42</td>\n",
       "      <td>высшее</td>\n",
       "      <td>0</td>\n",
       "      <td>женат / замужем</td>\n",
       "      <td>0</td>\n",
       "      <td>F</td>\n",
       "      <td>сотрудник</td>\n",
       "      <td>0</td>\n",
       "      <td>253875.639453</td>\n",
       "      <td>покупка жилья</td>\n",
       "    </tr>\n",
       "    <tr>\n",
       "      <th>1</th>\n",
       "      <td>1</td>\n",
       "      <td>-4024.803754</td>\n",
       "      <td>36</td>\n",
       "      <td>среднее</td>\n",
       "      <td>1</td>\n",
       "      <td>женат / замужем</td>\n",
       "      <td>0</td>\n",
       "      <td>F</td>\n",
       "      <td>сотрудник</td>\n",
       "      <td>0</td>\n",
       "      <td>112080.014102</td>\n",
       "      <td>приобретение автомобиля</td>\n",
       "    </tr>\n",
       "    <tr>\n",
       "      <th>2</th>\n",
       "      <td>0</td>\n",
       "      <td>-5623.422610</td>\n",
       "      <td>33</td>\n",
       "      <td>Среднее</td>\n",
       "      <td>1</td>\n",
       "      <td>женат / замужем</td>\n",
       "      <td>0</td>\n",
       "      <td>M</td>\n",
       "      <td>сотрудник</td>\n",
       "      <td>0</td>\n",
       "      <td>145885.952297</td>\n",
       "      <td>покупка жилья</td>\n",
       "    </tr>\n",
       "    <tr>\n",
       "      <th>3</th>\n",
       "      <td>3</td>\n",
       "      <td>-4124.747207</td>\n",
       "      <td>32</td>\n",
       "      <td>среднее</td>\n",
       "      <td>1</td>\n",
       "      <td>женат / замужем</td>\n",
       "      <td>0</td>\n",
       "      <td>M</td>\n",
       "      <td>сотрудник</td>\n",
       "      <td>0</td>\n",
       "      <td>267628.550329</td>\n",
       "      <td>дополнительное образование</td>\n",
       "    </tr>\n",
       "    <tr>\n",
       "      <th>4</th>\n",
       "      <td>0</td>\n",
       "      <td>340266.072047</td>\n",
       "      <td>53</td>\n",
       "      <td>среднее</td>\n",
       "      <td>1</td>\n",
       "      <td>гражданский брак</td>\n",
       "      <td>1</td>\n",
       "      <td>F</td>\n",
       "      <td>пенсионер</td>\n",
       "      <td>0</td>\n",
       "      <td>158616.077870</td>\n",
       "      <td>сыграть свадьбу</td>\n",
       "    </tr>\n",
       "    <tr>\n",
       "      <th>5</th>\n",
       "      <td>0</td>\n",
       "      <td>-926.185831</td>\n",
       "      <td>27</td>\n",
       "      <td>высшее</td>\n",
       "      <td>0</td>\n",
       "      <td>гражданский брак</td>\n",
       "      <td>1</td>\n",
       "      <td>M</td>\n",
       "      <td>компаньон</td>\n",
       "      <td>0</td>\n",
       "      <td>255763.565419</td>\n",
       "      <td>покупка жилья</td>\n",
       "    </tr>\n",
       "    <tr>\n",
       "      <th>6</th>\n",
       "      <td>0</td>\n",
       "      <td>-2879.202052</td>\n",
       "      <td>43</td>\n",
       "      <td>высшее</td>\n",
       "      <td>0</td>\n",
       "      <td>женат / замужем</td>\n",
       "      <td>0</td>\n",
       "      <td>F</td>\n",
       "      <td>компаньон</td>\n",
       "      <td>0</td>\n",
       "      <td>240525.971920</td>\n",
       "      <td>операции с жильем</td>\n",
       "    </tr>\n",
       "    <tr>\n",
       "      <th>7</th>\n",
       "      <td>0</td>\n",
       "      <td>-152.779569</td>\n",
       "      <td>50</td>\n",
       "      <td>СРЕДНЕЕ</td>\n",
       "      <td>1</td>\n",
       "      <td>женат / замужем</td>\n",
       "      <td>0</td>\n",
       "      <td>M</td>\n",
       "      <td>сотрудник</td>\n",
       "      <td>0</td>\n",
       "      <td>135823.934197</td>\n",
       "      <td>образование</td>\n",
       "    </tr>\n",
       "    <tr>\n",
       "      <th>8</th>\n",
       "      <td>2</td>\n",
       "      <td>-6929.865299</td>\n",
       "      <td>35</td>\n",
       "      <td>ВЫСШЕЕ</td>\n",
       "      <td>0</td>\n",
       "      <td>гражданский брак</td>\n",
       "      <td>1</td>\n",
       "      <td>F</td>\n",
       "      <td>сотрудник</td>\n",
       "      <td>0</td>\n",
       "      <td>95856.832424</td>\n",
       "      <td>на проведение свадьбы</td>\n",
       "    </tr>\n",
       "    <tr>\n",
       "      <th>9</th>\n",
       "      <td>0</td>\n",
       "      <td>-2188.756445</td>\n",
       "      <td>41</td>\n",
       "      <td>среднее</td>\n",
       "      <td>1</td>\n",
       "      <td>женат / замужем</td>\n",
       "      <td>0</td>\n",
       "      <td>M</td>\n",
       "      <td>сотрудник</td>\n",
       "      <td>0</td>\n",
       "      <td>144425.938277</td>\n",
       "      <td>покупка жилья для семьи</td>\n",
       "    </tr>\n",
       "    <tr>\n",
       "      <th>10</th>\n",
       "      <td>2</td>\n",
       "      <td>-4171.483647</td>\n",
       "      <td>36</td>\n",
       "      <td>высшее</td>\n",
       "      <td>0</td>\n",
       "      <td>женат / замужем</td>\n",
       "      <td>0</td>\n",
       "      <td>M</td>\n",
       "      <td>компаньон</td>\n",
       "      <td>0</td>\n",
       "      <td>113943.491460</td>\n",
       "      <td>покупка недвижимости</td>\n",
       "    </tr>\n",
       "    <tr>\n",
       "      <th>11</th>\n",
       "      <td>0</td>\n",
       "      <td>-792.701887</td>\n",
       "      <td>40</td>\n",
       "      <td>среднее</td>\n",
       "      <td>1</td>\n",
       "      <td>женат / замужем</td>\n",
       "      <td>0</td>\n",
       "      <td>F</td>\n",
       "      <td>сотрудник</td>\n",
       "      <td>0</td>\n",
       "      <td>77069.234271</td>\n",
       "      <td>покупка коммерческой недвижимости</td>\n",
       "    </tr>\n",
       "    <tr>\n",
       "      <th>12</th>\n",
       "      <td>0</td>\n",
       "      <td>NaN</td>\n",
       "      <td>65</td>\n",
       "      <td>среднее</td>\n",
       "      <td>1</td>\n",
       "      <td>гражданский брак</td>\n",
       "      <td>1</td>\n",
       "      <td>M</td>\n",
       "      <td>пенсионер</td>\n",
       "      <td>0</td>\n",
       "      <td>NaN</td>\n",
       "      <td>сыграть свадьбу</td>\n",
       "    </tr>\n",
       "    <tr>\n",
       "      <th>13</th>\n",
       "      <td>0</td>\n",
       "      <td>-1846.641941</td>\n",
       "      <td>54</td>\n",
       "      <td>неоконченное высшее</td>\n",
       "      <td>2</td>\n",
       "      <td>женат / замужем</td>\n",
       "      <td>0</td>\n",
       "      <td>F</td>\n",
       "      <td>сотрудник</td>\n",
       "      <td>0</td>\n",
       "      <td>130458.228857</td>\n",
       "      <td>приобретение автомобиля</td>\n",
       "    </tr>\n",
       "    <tr>\n",
       "      <th>14</th>\n",
       "      <td>0</td>\n",
       "      <td>-1844.956182</td>\n",
       "      <td>56</td>\n",
       "      <td>высшее</td>\n",
       "      <td>0</td>\n",
       "      <td>гражданский брак</td>\n",
       "      <td>1</td>\n",
       "      <td>F</td>\n",
       "      <td>компаньон</td>\n",
       "      <td>1</td>\n",
       "      <td>165127.911772</td>\n",
       "      <td>покупка жилой недвижимости</td>\n",
       "    </tr>\n",
       "    <tr>\n",
       "      <th>15</th>\n",
       "      <td>1</td>\n",
       "      <td>-972.364419</td>\n",
       "      <td>26</td>\n",
       "      <td>среднее</td>\n",
       "      <td>1</td>\n",
       "      <td>женат / замужем</td>\n",
       "      <td>0</td>\n",
       "      <td>F</td>\n",
       "      <td>сотрудник</td>\n",
       "      <td>0</td>\n",
       "      <td>116820.904450</td>\n",
       "      <td>строительство собственной недвижимости</td>\n",
       "    </tr>\n",
       "    <tr>\n",
       "      <th>16</th>\n",
       "      <td>0</td>\n",
       "      <td>-1719.934226</td>\n",
       "      <td>35</td>\n",
       "      <td>среднее</td>\n",
       "      <td>1</td>\n",
       "      <td>женат / замужем</td>\n",
       "      <td>0</td>\n",
       "      <td>F</td>\n",
       "      <td>сотрудник</td>\n",
       "      <td>0</td>\n",
       "      <td>289202.704229</td>\n",
       "      <td>недвижимость</td>\n",
       "    </tr>\n",
       "    <tr>\n",
       "      <th>17</th>\n",
       "      <td>0</td>\n",
       "      <td>-2369.999720</td>\n",
       "      <td>33</td>\n",
       "      <td>высшее</td>\n",
       "      <td>0</td>\n",
       "      <td>гражданский брак</td>\n",
       "      <td>1</td>\n",
       "      <td>M</td>\n",
       "      <td>сотрудник</td>\n",
       "      <td>0</td>\n",
       "      <td>90410.586745</td>\n",
       "      <td>строительство недвижимости</td>\n",
       "    </tr>\n",
       "    <tr>\n",
       "      <th>18</th>\n",
       "      <td>0</td>\n",
       "      <td>400281.136913</td>\n",
       "      <td>53</td>\n",
       "      <td>среднее</td>\n",
       "      <td>1</td>\n",
       "      <td>вдовец / вдова</td>\n",
       "      <td>2</td>\n",
       "      <td>F</td>\n",
       "      <td>пенсионер</td>\n",
       "      <td>0</td>\n",
       "      <td>56823.777243</td>\n",
       "      <td>на покупку подержанного автомобиля</td>\n",
       "    </tr>\n",
       "    <tr>\n",
       "      <th>19</th>\n",
       "      <td>0</td>\n",
       "      <td>-10038.818549</td>\n",
       "      <td>48</td>\n",
       "      <td>СРЕДНЕЕ</td>\n",
       "      <td>1</td>\n",
       "      <td>в разводе</td>\n",
       "      <td>3</td>\n",
       "      <td>F</td>\n",
       "      <td>сотрудник</td>\n",
       "      <td>0</td>\n",
       "      <td>242831.107982</td>\n",
       "      <td>на покупку своего автомобиля</td>\n",
       "    </tr>\n",
       "  </tbody>\n",
       "</table>\n",
       "</div>"
      ],
      "text/plain": [
       "    children  days_employed  dob_years            education  education_id  \\\n",
       "0          1   -8437.673028         42               высшее             0   \n",
       "1          1   -4024.803754         36              среднее             1   \n",
       "2          0   -5623.422610         33              Среднее             1   \n",
       "3          3   -4124.747207         32              среднее             1   \n",
       "4          0  340266.072047         53              среднее             1   \n",
       "5          0    -926.185831         27               высшее             0   \n",
       "6          0   -2879.202052         43               высшее             0   \n",
       "7          0    -152.779569         50              СРЕДНЕЕ             1   \n",
       "8          2   -6929.865299         35               ВЫСШЕЕ             0   \n",
       "9          0   -2188.756445         41              среднее             1   \n",
       "10         2   -4171.483647         36               высшее             0   \n",
       "11         0    -792.701887         40              среднее             1   \n",
       "12         0            NaN         65              среднее             1   \n",
       "13         0   -1846.641941         54  неоконченное высшее             2   \n",
       "14         0   -1844.956182         56               высшее             0   \n",
       "15         1    -972.364419         26              среднее             1   \n",
       "16         0   -1719.934226         35              среднее             1   \n",
       "17         0   -2369.999720         33               высшее             0   \n",
       "18         0  400281.136913         53              среднее             1   \n",
       "19         0  -10038.818549         48              СРЕДНЕЕ             1   \n",
       "\n",
       "       family_status  family_status_id gender income_type  debt  \\\n",
       "0    женат / замужем                 0      F   сотрудник     0   \n",
       "1    женат / замужем                 0      F   сотрудник     0   \n",
       "2    женат / замужем                 0      M   сотрудник     0   \n",
       "3    женат / замужем                 0      M   сотрудник     0   \n",
       "4   гражданский брак                 1      F   пенсионер     0   \n",
       "5   гражданский брак                 1      M   компаньон     0   \n",
       "6    женат / замужем                 0      F   компаньон     0   \n",
       "7    женат / замужем                 0      M   сотрудник     0   \n",
       "8   гражданский брак                 1      F   сотрудник     0   \n",
       "9    женат / замужем                 0      M   сотрудник     0   \n",
       "10   женат / замужем                 0      M   компаньон     0   \n",
       "11   женат / замужем                 0      F   сотрудник     0   \n",
       "12  гражданский брак                 1      M   пенсионер     0   \n",
       "13   женат / замужем                 0      F   сотрудник     0   \n",
       "14  гражданский брак                 1      F   компаньон     1   \n",
       "15   женат / замужем                 0      F   сотрудник     0   \n",
       "16   женат / замужем                 0      F   сотрудник     0   \n",
       "17  гражданский брак                 1      M   сотрудник     0   \n",
       "18    вдовец / вдова                 2      F   пенсионер     0   \n",
       "19         в разводе                 3      F   сотрудник     0   \n",
       "\n",
       "     total_income                                 purpose  \n",
       "0   253875.639453                           покупка жилья  \n",
       "1   112080.014102                 приобретение автомобиля  \n",
       "2   145885.952297                           покупка жилья  \n",
       "3   267628.550329              дополнительное образование  \n",
       "4   158616.077870                         сыграть свадьбу  \n",
       "5   255763.565419                           покупка жилья  \n",
       "6   240525.971920                       операции с жильем  \n",
       "7   135823.934197                             образование  \n",
       "8    95856.832424                   на проведение свадьбы  \n",
       "9   144425.938277                 покупка жилья для семьи  \n",
       "10  113943.491460                    покупка недвижимости  \n",
       "11   77069.234271       покупка коммерческой недвижимости  \n",
       "12            NaN                         сыграть свадьбу  \n",
       "13  130458.228857                 приобретение автомобиля  \n",
       "14  165127.911772              покупка жилой недвижимости  \n",
       "15  116820.904450  строительство собственной недвижимости  \n",
       "16  289202.704229                            недвижимость  \n",
       "17   90410.586745              строительство недвижимости  \n",
       "18   56823.777243      на покупку подержанного автомобиля  \n",
       "19  242831.107982            на покупку своего автомобиля  "
      ]
     },
     "execution_count": 2,
     "metadata": {},
     "output_type": "execute_result"
    }
   ],
   "source": [
    "data.head(20)"
   ]
  },
  {
   "cell_type": "code",
   "execution_count": 3,
   "id": "e736e962",
   "metadata": {
    "deletable": false,
    "id": "2b757bca",
    "outputId": "15376089-8dad-46c9-b520-c05248d43158"
   },
   "outputs": [
    {
     "name": "stdout",
     "output_type": "stream",
     "text": [
      "<class 'pandas.core.frame.DataFrame'>\n",
      "RangeIndex: 21525 entries, 0 to 21524\n",
      "Data columns (total 12 columns):\n",
      " #   Column            Non-Null Count  Dtype  \n",
      "---  ------            --------------  -----  \n",
      " 0   children          21525 non-null  int64  \n",
      " 1   days_employed     19351 non-null  float64\n",
      " 2   dob_years         21525 non-null  int64  \n",
      " 3   education         21525 non-null  object \n",
      " 4   education_id      21525 non-null  int64  \n",
      " 5   family_status     21525 non-null  object \n",
      " 6   family_status_id  21525 non-null  int64  \n",
      " 7   gender            21525 non-null  object \n",
      " 8   income_type       21525 non-null  object \n",
      " 9   debt              21525 non-null  int64  \n",
      " 10  total_income      19351 non-null  float64\n",
      " 11  purpose           21525 non-null  object \n",
      "dtypes: float64(2), int64(5), object(5)\n",
      "memory usage: 2.0+ MB\n"
     ]
    }
   ],
   "source": [
    "data.info()"
   ]
  },
  {
   "cell_type": "markdown",
   "id": "b4b8dedc",
   "metadata": {
    "deletable": false,
    "editable": false,
    "id": "333ec665"
   },
   "source": [
    "## Предобработка данных"
   ]
  },
  {
   "cell_type": "markdown",
   "id": "44c0b5f8",
   "metadata": {
    "deletable": false,
    "editable": false,
    "id": "02d92d53"
   },
   "source": [
    "### Удаление пропусков"
   ]
  },
  {
   "cell_type": "code",
   "execution_count": 4,
   "id": "610a113a",
   "metadata": {
    "deletable": false,
    "id": "7f9b2309",
    "outputId": "81f4d817-781c-465c-ed15-91ce4446810d"
   },
   "outputs": [
    {
     "data": {
      "text/plain": [
       "children               0\n",
       "days_employed       2174\n",
       "dob_years              0\n",
       "education              0\n",
       "education_id           0\n",
       "family_status          0\n",
       "family_status_id       0\n",
       "gender                 0\n",
       "income_type            0\n",
       "debt                   0\n",
       "total_income        2174\n",
       "purpose                0\n",
       "dtype: int64"
      ]
     },
     "execution_count": 4,
     "metadata": {},
     "output_type": "execute_result"
    }
   ],
   "source": [
    "# посмотрим количество пропущенных значений\n",
    "data.isna().sum()"
   ]
  },
  {
   "cell_type": "markdown",
   "id": "af0d44d4",
   "metadata": {
    "id": "db86e27b"
   },
   "source": [
    "В двух столбцах есть пропущенные значения. Столбец с пропущенными значениями — `total_income` — хранит данные о доходах. На сумму дохода сильнее всего влияет тип занятости, поэтому заполнить пропуски в этом столбце следует медианным значением по каждому типу из столбца `income_type`."
   ]
  },
  {
   "cell_type": "code",
   "execution_count": 5,
   "id": "326331e8",
   "metadata": {
    "deletable": false,
    "id": "42006a93"
   },
   "outputs": [],
   "source": [
    "for t in data['income_type'].unique():\n",
    "    data.loc[(data['income_type'] == t) & (data['total_income'].isna()), 'total_income'] = \\\n",
    "    data.loc[(data['income_type'] == t), 'total_income'].median()"
   ]
  },
  {
   "cell_type": "markdown",
   "id": "e285c5f6",
   "metadata": {
    "deletable": false,
    "editable": false,
    "id": "89da5ece"
   },
   "source": [
    "### Обработка аномальных значений"
   ]
  },
  {
   "cell_type": "markdown",
   "id": "5081b943",
   "metadata": {
    "id": "57964554"
   },
   "source": [
    "Заменим все отрицательные значения в днях положительными."
   ]
  },
  {
   "cell_type": "code",
   "execution_count": 6,
   "id": "eb466a05",
   "metadata": {
    "deletable": false,
    "id": "f6f055bf"
   },
   "outputs": [],
   "source": [
    "data['days_employed'] = data['days_employed'].abs()"
   ]
  },
  {
   "cell_type": "markdown",
   "id": "8e75a5a5",
   "metadata": {
    "id": "6107dd2f"
   },
   "source": [
    "Для каждого типа занятости выведем медианное значение трудового стажа `days_employed` в днях."
   ]
  },
  {
   "cell_type": "code",
   "execution_count": 7,
   "id": "006d8cd0",
   "metadata": {
    "deletable": false,
    "id": "85a5faf6",
    "outputId": "801ef80e-522b-4668-f34e-565af7432bcf"
   },
   "outputs": [
    {
     "data": {
      "text/plain": [
       "income_type\n",
       "безработный        366413.652744\n",
       "в декрете            3296.759962\n",
       "госслужащий          2689.368353\n",
       "компаньон            1547.382223\n",
       "пенсионер          365213.306266\n",
       "предприниматель       520.848083\n",
       "сотрудник            1574.202821\n",
       "студент               578.751554\n",
       "Name: days_employed, dtype: float64"
      ]
     },
     "execution_count": 7,
     "metadata": {},
     "output_type": "execute_result"
    }
   ],
   "source": [
    "data.groupby('income_type')['days_employed'].agg('median')"
   ]
  },
  {
   "cell_type": "markdown",
   "id": "0af6c92a",
   "metadata": {
    "deletable": false,
    "editable": false,
    "id": "38d1a030"
   },
   "source": [
    "У двух типов (безработные и пенсионеры) получатся аномально большие значения. Исправить такие значения сложно, поэтому оставьте их как есть. Тем более этот столбец не понадобится вам для исследования."
   ]
  },
  {
   "cell_type": "markdown",
   "id": "2fbd7913",
   "metadata": {
    "id": "d8a9f147"
   },
   "source": [
    "Выведем перечень уникальных значений столбца `children`."
   ]
  },
  {
   "cell_type": "code",
   "execution_count": 8,
   "id": "92f0cb40",
   "metadata": {
    "deletable": false,
    "id": "ef5056eb",
    "outputId": "6975b15c-7f95-4697-d16d-a0c79b657b03"
   },
   "outputs": [
    {
     "data": {
      "text/plain": [
       "array([ 1,  0,  3,  2, -1,  4, 20,  5], dtype=int64)"
      ]
     },
     "execution_count": 8,
     "metadata": {},
     "output_type": "execute_result"
    }
   ],
   "source": [
    "data['children'].unique()"
   ]
  },
  {
   "cell_type": "markdown",
   "id": "c1e39e56",
   "metadata": {
    "id": "40b9ebf2"
   },
   "source": [
    "В столбце `children` есть два аномальных значения. Удалим строки, в которых встречаются такие аномальные значения из датафрейма `data`."
   ]
  },
  {
   "cell_type": "code",
   "execution_count": 9,
   "id": "76357eff",
   "metadata": {
    "deletable": false,
    "id": "3ff9801d"
   },
   "outputs": [],
   "source": [
    "data = data[(data['children'] != -1) & (data['children'] != 20)]"
   ]
  },
  {
   "cell_type": "code",
   "execution_count": 10,
   "id": "29664e74",
   "metadata": {
    "deletable": false,
    "id": "ad4fa8b7",
    "outputId": "b2097101-d49d-44d9-901b-32a65c9463d1"
   },
   "outputs": [
    {
     "data": {
      "text/plain": [
       "array([1, 0, 3, 2, 4, 5], dtype=int64)"
      ]
     },
     "execution_count": 10,
     "metadata": {},
     "output_type": "execute_result"
    }
   ],
   "source": [
    "data['children'].unique()"
   ]
  },
  {
   "cell_type": "markdown",
   "id": "d89f6750",
   "metadata": {
    "deletable": false,
    "editable": false,
    "id": "75440b63"
   },
   "source": [
    "### Удаление пропусков (продолжение)"
   ]
  },
  {
   "cell_type": "markdown",
   "id": "b56437ac",
   "metadata": {
    "id": "f4ea573f"
   },
   "source": [
    "Заполним пропуски в столбце `days_employed` медианными значениями по каждого типа занятости `income_type`."
   ]
  },
  {
   "cell_type": "code",
   "execution_count": 11,
   "id": "c0f22b8f",
   "metadata": {
    "deletable": false,
    "id": "af6b1a7e"
   },
   "outputs": [],
   "source": [
    "for t in data['income_type'].unique():\n",
    "    data.loc[(data['income_type'] == t) & (data['days_employed'].isna()), 'days_employed'] = \\\n",
    "    data.loc[(data['income_type'] == t), 'days_employed'].median()"
   ]
  },
  {
   "cell_type": "code",
   "execution_count": 12,
   "id": "eac9479c",
   "metadata": {
    "deletable": false,
    "id": "55f78bc2",
    "outputId": "8da1e4e1-358e-4e87-98c9-f261bce0a7b2"
   },
   "outputs": [
    {
     "data": {
      "text/plain": [
       "children            0\n",
       "days_employed       0\n",
       "dob_years           0\n",
       "education           0\n",
       "education_id        0\n",
       "family_status       0\n",
       "family_status_id    0\n",
       "gender              0\n",
       "income_type         0\n",
       "debt                0\n",
       "total_income        0\n",
       "purpose             0\n",
       "dtype: int64"
      ]
     },
     "execution_count": 12,
     "metadata": {},
     "output_type": "execute_result"
    }
   ],
   "source": [
    "data.isna().sum()"
   ]
  },
  {
   "cell_type": "markdown",
   "id": "82552ede",
   "metadata": {
    "deletable": false,
    "editable": false,
    "id": "ddc81e43"
   },
   "source": [
    "### Изменение типов данных"
   ]
  },
  {
   "cell_type": "markdown",
   "id": "2bb87fa2",
   "metadata": {
    "id": "42d19d24"
   },
   "source": [
    "Заменим вещественный тип данных в столбце `total_income` на целочисленный."
   ]
  },
  {
   "cell_type": "code",
   "execution_count": 13,
   "id": "8932e082",
   "metadata": {
    "deletable": false,
    "id": "920b65ad"
   },
   "outputs": [],
   "source": [
    "data['total_income'] = data['total_income'].astype(int)"
   ]
  },
  {
   "cell_type": "markdown",
   "id": "49f81154",
   "metadata": {
    "deletable": false,
    "editable": false,
    "id": "80c420ba"
   },
   "source": [
    "### Обработка дубликатов"
   ]
  },
  {
   "cell_type": "markdown",
   "id": "b806a402",
   "metadata": {},
   "source": [
    "Обработаем неявные дубликаты в столбце `education`. В этом столбце есть одни и те же значения, но записанные по-разному: с использованием заглавных и строчных букв. Приведем их к нижнему регистру."
   ]
  },
  {
   "cell_type": "code",
   "execution_count": 14,
   "id": "f6ed7be3",
   "metadata": {
    "deletable": false
   },
   "outputs": [],
   "source": [
    "data['education'] = data['education'].str.lower()"
   ]
  },
  {
   "cell_type": "markdown",
   "id": "ad036d5d",
   "metadata": {
    "id": "dc587695"
   },
   "source": [
    "Посмотрим количество строк-дубликатов в данных и удалим их."
   ]
  },
  {
   "cell_type": "code",
   "execution_count": 15,
   "id": "f5f1ebf1",
   "metadata": {
    "deletable": false,
    "id": "3ee445e4",
    "outputId": "9684deba-1934-42d1-99e1-cda61740f822"
   },
   "outputs": [
    {
     "data": {
      "text/plain": [
       "71"
      ]
     },
     "execution_count": 15,
     "metadata": {},
     "output_type": "execute_result"
    }
   ],
   "source": [
    "data.duplicated().sum()"
   ]
  },
  {
   "cell_type": "code",
   "execution_count": 16,
   "id": "073fb545",
   "metadata": {
    "deletable": false,
    "id": "8575fe05"
   },
   "outputs": [],
   "source": [
    "data = data.drop_duplicates()"
   ]
  },
  {
   "cell_type": "markdown",
   "id": "b08dad24",
   "metadata": {
    "deletable": false,
    "editable": false,
    "id": "9904cf55"
   },
   "source": [
    "### Категоризация данных"
   ]
  },
  {
   "cell_type": "markdown",
   "id": "e42eb6fd",
   "metadata": {
    "id": "72fcc8a2"
   },
   "source": [
    "На основании диапазонов, создим в датафрейме `data` столбец `total_income_category` с категориями:**\n",
    "\n",
    "- 0–30000 — `'E'`;\n",
    "- 30001–50000 — `'D'`;\n",
    "- 50001–200000 — `'C'`;\n",
    "- 200001–1000000 — `'B'`;\n",
    "- 1000001 и выше — `'A'`.\n"
   ]
  },
  {
   "cell_type": "code",
   "execution_count": 17,
   "id": "2ab0cd91",
   "metadata": {
    "deletable": false,
    "id": "e1771346"
   },
   "outputs": [],
   "source": [
    "def categorize_income(income):\n",
    "    try:\n",
    "        if 0 <= income <= 30000:\n",
    "            return 'E'\n",
    "        elif 30001 <= income <= 50000:\n",
    "            return 'D'\n",
    "        elif 50001 <= income <= 200000:\n",
    "            return 'C'\n",
    "        elif 200001 <= income <= 1000000:\n",
    "            return 'B'\n",
    "        elif income >= 1000001:\n",
    "            return 'A'\n",
    "    except:\n",
    "        pass"
   ]
  },
  {
   "cell_type": "code",
   "execution_count": 18,
   "id": "b2799380",
   "metadata": {
    "deletable": false,
    "id": "d5f3586d"
   },
   "outputs": [],
   "source": [
    "data['total_income_category'] = data['total_income'].apply(categorize_income)"
   ]
  },
  {
   "cell_type": "markdown",
   "id": "63859f9f",
   "metadata": {
    "id": "dde49b5c"
   },
   "source": [
    "Выведем на экран перечень уникальных целей взятия кредита из столбца `purpose`."
   ]
  },
  {
   "cell_type": "code",
   "execution_count": 19,
   "id": "fd182034",
   "metadata": {
    "deletable": false,
    "id": "f67ce9b3",
    "outputId": "673c12d9-7d7e-4ae0-9812-c622c89dd244"
   },
   "outputs": [
    {
     "data": {
      "text/plain": [
       "array(['покупка жилья', 'приобретение автомобиля',\n",
       "       'дополнительное образование', 'сыграть свадьбу',\n",
       "       'операции с жильем', 'образование', 'на проведение свадьбы',\n",
       "       'покупка жилья для семьи', 'покупка недвижимости',\n",
       "       'покупка коммерческой недвижимости', 'покупка жилой недвижимости',\n",
       "       'строительство собственной недвижимости', 'недвижимость',\n",
       "       'строительство недвижимости', 'на покупку подержанного автомобиля',\n",
       "       'на покупку своего автомобиля',\n",
       "       'операции с коммерческой недвижимостью',\n",
       "       'строительство жилой недвижимости', 'жилье',\n",
       "       'операции со своей недвижимостью', 'автомобили',\n",
       "       'заняться образованием', 'сделка с подержанным автомобилем',\n",
       "       'получение образования', 'автомобиль', 'свадьба',\n",
       "       'получение дополнительного образования', 'покупка своего жилья',\n",
       "       'операции с недвижимостью', 'получение высшего образования',\n",
       "       'свой автомобиль', 'сделка с автомобилем',\n",
       "       'профильное образование', 'высшее образование',\n",
       "       'покупка жилья для сдачи', 'на покупку автомобиля', 'ремонт жилью',\n",
       "       'заняться высшим образованием'], dtype=object)"
      ]
     },
     "execution_count": 19,
     "metadata": {},
     "output_type": "execute_result"
    }
   ],
   "source": [
    "data['purpose'].unique()"
   ]
  },
  {
   "cell_type": "markdown",
   "id": "06339f17",
   "metadata": {
    "id": "85d0aef0"
   },
   "source": [
    "Создадим функцию, которая на основании данных из столбца `purpose` сформирует новый столбец `purpose_category`, в который войдут следующие категории:**\n",
    "\n",
    "- `'операции с автомобилем'`,\n",
    "- `'операции с недвижимостью'`,\n",
    "- `'проведение свадьбы'`,\n",
    "- `'получение образования'`."
   ]
  },
  {
   "cell_type": "code",
   "execution_count": 20,
   "id": "d7a64b7f",
   "metadata": {
    "deletable": false,
    "id": "e149fab4"
   },
   "outputs": [],
   "source": [
    "def categorize_purpose(row):\n",
    "    try:\n",
    "        if 'автом' in row:\n",
    "            return 'операции с автомобилем'\n",
    "        elif 'жил' in row or 'недвиж' in row:\n",
    "            return 'операции с недвижимостью'\n",
    "        elif 'свад' in row:\n",
    "            return 'проведение свадьбы'\n",
    "        elif 'образов' in row:\n",
    "            return 'получение образования'\n",
    "    except:\n",
    "        return 'нет категории'"
   ]
  },
  {
   "cell_type": "code",
   "execution_count": 21,
   "id": "e104be4a",
   "metadata": {
    "deletable": false,
    "id": "bf36e69b"
   },
   "outputs": [],
   "source": [
    "data['purpose_category'] = data['purpose'].apply(categorize_purpose)"
   ]
  },
  {
   "cell_type": "markdown",
   "id": "f6b68deb",
   "metadata": {
    "id": "09b242bf"
   },
   "source": [
    "### Шаг 3. Исследуем данные и ответим на вопросы"
   ]
  },
  {
   "cell_type": "markdown",
   "id": "ba47841b",
   "metadata": {
    "deletable": false,
    "editable": false,
    "id": "c5d66278"
   },
   "source": [
    "#### 3.1 Есть ли зависимость между количеством детей и возвратом кредита в срок?"
   ]
  },
  {
   "cell_type": "code",
   "execution_count": 22,
   "id": "56bbbbde",
   "metadata": {},
   "outputs": [
    {
     "data": {
      "text/html": [
       "<div>\n",
       "<style scoped>\n",
       "    .dataframe tbody tr th:only-of-type {\n",
       "        vertical-align: middle;\n",
       "    }\n",
       "\n",
       "    .dataframe tbody tr th {\n",
       "        vertical-align: top;\n",
       "    }\n",
       "\n",
       "    .dataframe thead th {\n",
       "        text-align: right;\n",
       "    }\n",
       "</style>\n",
       "<table border=\"1\" class=\"dataframe\">\n",
       "  <thead>\n",
       "    <tr style=\"text-align: right;\">\n",
       "      <th></th>\n",
       "      <th>children</th>\n",
       "      <th>days_employed</th>\n",
       "      <th>dob_years</th>\n",
       "      <th>education</th>\n",
       "      <th>education_id</th>\n",
       "      <th>family_status</th>\n",
       "      <th>family_status_id</th>\n",
       "      <th>gender</th>\n",
       "      <th>income_type</th>\n",
       "      <th>debt</th>\n",
       "      <th>total_income</th>\n",
       "      <th>purpose</th>\n",
       "      <th>total_income_category</th>\n",
       "      <th>purpose_category</th>\n",
       "    </tr>\n",
       "  </thead>\n",
       "  <tbody>\n",
       "    <tr>\n",
       "      <th>0</th>\n",
       "      <td>1</td>\n",
       "      <td>8437.673028</td>\n",
       "      <td>42</td>\n",
       "      <td>высшее</td>\n",
       "      <td>0</td>\n",
       "      <td>женат / замужем</td>\n",
       "      <td>0</td>\n",
       "      <td>F</td>\n",
       "      <td>сотрудник</td>\n",
       "      <td>0</td>\n",
       "      <td>253875</td>\n",
       "      <td>покупка жилья</td>\n",
       "      <td>B</td>\n",
       "      <td>операции с недвижимостью</td>\n",
       "    </tr>\n",
       "    <tr>\n",
       "      <th>1</th>\n",
       "      <td>1</td>\n",
       "      <td>4024.803754</td>\n",
       "      <td>36</td>\n",
       "      <td>среднее</td>\n",
       "      <td>1</td>\n",
       "      <td>женат / замужем</td>\n",
       "      <td>0</td>\n",
       "      <td>F</td>\n",
       "      <td>сотрудник</td>\n",
       "      <td>0</td>\n",
       "      <td>112080</td>\n",
       "      <td>приобретение автомобиля</td>\n",
       "      <td>C</td>\n",
       "      <td>операции с автомобилем</td>\n",
       "    </tr>\n",
       "  </tbody>\n",
       "</table>\n",
       "</div>"
      ],
      "text/plain": [
       "   children  days_employed  dob_years education  education_id  \\\n",
       "0         1    8437.673028         42    высшее             0   \n",
       "1         1    4024.803754         36   среднее             1   \n",
       "\n",
       "     family_status  family_status_id gender income_type  debt  total_income  \\\n",
       "0  женат / замужем                 0      F   сотрудник     0        253875   \n",
       "1  женат / замужем                 0      F   сотрудник     0        112080   \n",
       "\n",
       "                   purpose total_income_category          purpose_category  \n",
       "0            покупка жилья                     B  операции с недвижимостью  \n",
       "1  приобретение автомобиля                     C    операции с автомобилем  "
      ]
     },
     "execution_count": 22,
     "metadata": {},
     "output_type": "execute_result"
    }
   ],
   "source": [
    "data.head(2)"
   ]
  },
  {
   "cell_type": "markdown",
   "id": "c969ffcd",
   "metadata": {},
   "source": [
    "*Найдем взамосвязь между количеством детей и возвратом кредита*"
   ]
  },
  {
   "cell_type": "code",
   "execution_count": 23,
   "id": "d22ada12",
   "metadata": {
    "deletable": false,
    "id": "2cacfc4a"
   },
   "outputs": [
    {
     "data": {
      "text/html": [
       "<div>\n",
       "<style scoped>\n",
       "    .dataframe tbody tr th:only-of-type {\n",
       "        vertical-align: middle;\n",
       "    }\n",
       "\n",
       "    .dataframe tbody tr th {\n",
       "        vertical-align: top;\n",
       "    }\n",
       "\n",
       "    .dataframe thead th {\n",
       "        text-align: right;\n",
       "    }\n",
       "</style>\n",
       "<table border=\"1\" class=\"dataframe\">\n",
       "  <thead>\n",
       "    <tr style=\"text-align: right;\">\n",
       "      <th></th>\n",
       "      <th>children</th>\n",
       "      <th>Количество кредиторов</th>\n",
       "      <th>Количество должников</th>\n",
       "      <th>Задолженность %</th>\n",
       "    </tr>\n",
       "  </thead>\n",
       "  <tbody>\n",
       "    <tr>\n",
       "      <th>0</th>\n",
       "      <td>0</td>\n",
       "      <td>14091</td>\n",
       "      <td>1063</td>\n",
       "      <td>7.54</td>\n",
       "    </tr>\n",
       "    <tr>\n",
       "      <th>1</th>\n",
       "      <td>1</td>\n",
       "      <td>4808</td>\n",
       "      <td>444</td>\n",
       "      <td>9.23</td>\n",
       "    </tr>\n",
       "    <tr>\n",
       "      <th>2</th>\n",
       "      <td>2</td>\n",
       "      <td>2052</td>\n",
       "      <td>194</td>\n",
       "      <td>9.45</td>\n",
       "    </tr>\n",
       "    <tr>\n",
       "      <th>3</th>\n",
       "      <td>3</td>\n",
       "      <td>330</td>\n",
       "      <td>27</td>\n",
       "      <td>8.18</td>\n",
       "    </tr>\n",
       "    <tr>\n",
       "      <th>4</th>\n",
       "      <td>4</td>\n",
       "      <td>41</td>\n",
       "      <td>4</td>\n",
       "      <td>9.76</td>\n",
       "    </tr>\n",
       "    <tr>\n",
       "      <th>5</th>\n",
       "      <td>5</td>\n",
       "      <td>9</td>\n",
       "      <td>0</td>\n",
       "      <td>0.00</td>\n",
       "    </tr>\n",
       "  </tbody>\n",
       "</table>\n",
       "</div>"
      ],
      "text/plain": [
       "   children  Количество кредиторов  Количество должников  Задолженность %\n",
       "0         0                  14091                  1063             7.54\n",
       "1         1                   4808                   444             9.23\n",
       "2         2                   2052                   194             9.45\n",
       "3         3                    330                    27             8.18\n",
       "4         4                     41                     4             9.76\n",
       "5         5                      9                     0             0.00"
      ]
     },
     "execution_count": 23,
     "metadata": {},
     "output_type": "execute_result"
    }
   ],
   "source": [
    "data_svod_children = data.pivot_table(index=['children'], values='debt', aggfunc=['count', 'sum', 'mean'])\n",
    "data_svod_children.columns = ['Количество кредиторов', 'Количество должников', 'Задолженность %']\n",
    "data_svod_children['Задолженность %'] = (data_svod_children['Задолженность %'] * 100).round(decimals=2)\n",
    "# произвели расчет: сколько всего взяли кредитов, сколько не вернули и % задолженности относительно количества детей \n",
    "\n",
    "data_svod_children.reset_index()"
   ]
  },
  {
   "cell_type": "markdown",
   "id": "9cb46b06",
   "metadata": {
    "deletable": false,
    "id": "3a6b99ec"
   },
   "source": [
    "**Вывод:** из полученных данных можно сделать вывод, что клиенты, имеющие 1 и 2 детей представляют наибольший риск приобретения задолженности. Самые надежные заемщики - не имеющие детей.  \n",
    "Предполагаю, что данные по клиентам, имеюих 3, 4 и 5 детей не являются полными, тк показатели сильно разнятся, и число клиентов с данными параментами слишком мало, чтобы сформировать реальную картину. Если смотреть на увеличение процента должников с увеличением количества детей (в выборке 0-2 ребенка), предполагаю, что если бы данные были более обширными, показатели задолженности бы повышались с ростом количества детей."
   ]
  },
  {
   "cell_type": "markdown",
   "id": "c55696ec",
   "metadata": {
    "id": "97be82ca"
   },
   "source": [
    "#### 3.2 Есть ли зависимость между семейным положением и возвратом кредита в срок?"
   ]
  },
  {
   "cell_type": "markdown",
   "id": "49941052",
   "metadata": {},
   "source": [
    "*Напишем функцию, чтобы не дублировать код*"
   ]
  },
  {
   "cell_type": "code",
   "execution_count": 24,
   "id": "9eb652c5",
   "metadata": {
    "deletable": false,
    "id": "dc3f7ee8"
   },
   "outputs": [
    {
     "data": {
      "text/html": [
       "<div>\n",
       "<style scoped>\n",
       "    .dataframe tbody tr th:only-of-type {\n",
       "        vertical-align: middle;\n",
       "    }\n",
       "\n",
       "    .dataframe tbody tr th {\n",
       "        vertical-align: top;\n",
       "    }\n",
       "\n",
       "    .dataframe thead th {\n",
       "        text-align: right;\n",
       "    }\n",
       "</style>\n",
       "<table border=\"1\" class=\"dataframe\">\n",
       "  <thead>\n",
       "    <tr style=\"text-align: right;\">\n",
       "      <th></th>\n",
       "      <th>family_status</th>\n",
       "      <th>Количество кредиторов</th>\n",
       "      <th>Количество должников</th>\n",
       "      <th>Задолженность %</th>\n",
       "    </tr>\n",
       "  </thead>\n",
       "  <tbody>\n",
       "    <tr>\n",
       "      <th>0</th>\n",
       "      <td>Не женат / не замужем</td>\n",
       "      <td>2796</td>\n",
       "      <td>273</td>\n",
       "      <td>9.76</td>\n",
       "    </tr>\n",
       "    <tr>\n",
       "      <th>1</th>\n",
       "      <td>в разводе</td>\n",
       "      <td>1189</td>\n",
       "      <td>84</td>\n",
       "      <td>7.06</td>\n",
       "    </tr>\n",
       "    <tr>\n",
       "      <th>2</th>\n",
       "      <td>вдовец / вдова</td>\n",
       "      <td>951</td>\n",
       "      <td>63</td>\n",
       "      <td>6.62</td>\n",
       "    </tr>\n",
       "    <tr>\n",
       "      <th>3</th>\n",
       "      <td>гражданский брак</td>\n",
       "      <td>4134</td>\n",
       "      <td>385</td>\n",
       "      <td>9.31</td>\n",
       "    </tr>\n",
       "    <tr>\n",
       "      <th>4</th>\n",
       "      <td>женат / замужем</td>\n",
       "      <td>12261</td>\n",
       "      <td>927</td>\n",
       "      <td>7.56</td>\n",
       "    </tr>\n",
       "  </tbody>\n",
       "</table>\n",
       "</div>"
      ],
      "text/plain": [
       "           family_status  Количество кредиторов  Количество должников  \\\n",
       "0  Не женат / не замужем                   2796                   273   \n",
       "1              в разводе                   1189                    84   \n",
       "2         вдовец / вдова                    951                    63   \n",
       "3       гражданский брак                   4134                   385   \n",
       "4        женат / замужем                  12261                   927   \n",
       "\n",
       "   Задолженность %  \n",
       "0             9.76  \n",
       "1             7.06  \n",
       "2             6.62  \n",
       "3             9.31  \n",
       "4             7.56  "
      ]
     },
     "execution_count": 24,
     "metadata": {},
     "output_type": "execute_result"
    }
   ],
   "source": [
    "def analysis(row):\n",
    "    data_svod = data.pivot_table(index=row, values='debt', aggfunc=['count', 'sum', 'mean'])\n",
    "    data_svod.columns = ['Количество кредиторов', 'Количество должников', 'Задолженность %']\n",
    "    data_svod['Задолженность %'] = (data_svod['Задолженность %'] * 100).round(decimals=2)\n",
    "    return data_svod.reset_index()\n",
    "# написали функцию для анализа: сколько всего взяли кредитов, сколько не вернули и % задолженности относительно семейного статуса\n",
    "\n",
    "analysis('family_status')"
   ]
  },
  {
   "cell_type": "markdown",
   "id": "5f1540ed",
   "metadata": {
    "deletable": false,
    "id": "1cef7837"
   },
   "source": [
    "**Вывод:** из полученных данных видно, что лица в категориях \"Не женат / не замужем\" и \"гражданский брак\" представляют наибольший риск приобретения задолженности. Самые надежные заемщики в категории \"вдовец / вдова\". Средние показатели по своевременному возврату задолженности имеют лица, находящиеся в статусах \"в разводе\", \"женат / замужем\"."
   ]
  },
  {
   "cell_type": "markdown",
   "id": "a6be4bd4",
   "metadata": {
    "id": "1e8b2fca"
   },
   "source": [
    "#### 3.3 Есть ли зависимость между уровнем дохода и возвратом кредита в срок?"
   ]
  },
  {
   "cell_type": "code",
   "execution_count": 25,
   "id": "1277593b",
   "metadata": {
    "deletable": false,
    "id": "cd7e3720",
    "scrolled": true
   },
   "outputs": [
    {
     "data": {
      "text/html": [
       "<div>\n",
       "<style scoped>\n",
       "    .dataframe tbody tr th:only-of-type {\n",
       "        vertical-align: middle;\n",
       "    }\n",
       "\n",
       "    .dataframe tbody tr th {\n",
       "        vertical-align: top;\n",
       "    }\n",
       "\n",
       "    .dataframe thead th {\n",
       "        text-align: right;\n",
       "    }\n",
       "</style>\n",
       "<table border=\"1\" class=\"dataframe\">\n",
       "  <thead>\n",
       "    <tr style=\"text-align: right;\">\n",
       "      <th></th>\n",
       "      <th>total_income_category</th>\n",
       "      <th>Количество кредиторов</th>\n",
       "      <th>Количество должников</th>\n",
       "      <th>Задолженность %</th>\n",
       "    </tr>\n",
       "  </thead>\n",
       "  <tbody>\n",
       "    <tr>\n",
       "      <th>0</th>\n",
       "      <td>A</td>\n",
       "      <td>25</td>\n",
       "      <td>2</td>\n",
       "      <td>8.00</td>\n",
       "    </tr>\n",
       "    <tr>\n",
       "      <th>1</th>\n",
       "      <td>B</td>\n",
       "      <td>5014</td>\n",
       "      <td>354</td>\n",
       "      <td>7.06</td>\n",
       "    </tr>\n",
       "    <tr>\n",
       "      <th>2</th>\n",
       "      <td>C</td>\n",
       "      <td>15921</td>\n",
       "      <td>1353</td>\n",
       "      <td>8.50</td>\n",
       "    </tr>\n",
       "    <tr>\n",
       "      <th>3</th>\n",
       "      <td>D</td>\n",
       "      <td>349</td>\n",
       "      <td>21</td>\n",
       "      <td>6.02</td>\n",
       "    </tr>\n",
       "    <tr>\n",
       "      <th>4</th>\n",
       "      <td>E</td>\n",
       "      <td>22</td>\n",
       "      <td>2</td>\n",
       "      <td>9.09</td>\n",
       "    </tr>\n",
       "  </tbody>\n",
       "</table>\n",
       "</div>"
      ],
      "text/plain": [
       "  total_income_category  Количество кредиторов  Количество должников  \\\n",
       "0                     A                     25                     2   \n",
       "1                     B                   5014                   354   \n",
       "2                     C                  15921                  1353   \n",
       "3                     D                    349                    21   \n",
       "4                     E                     22                     2   \n",
       "\n",
       "   Задолженность %  \n",
       "0             8.00  \n",
       "1             7.06  \n",
       "2             8.50  \n",
       "3             6.02  \n",
       "4             9.09  "
      ]
     },
     "execution_count": 25,
     "metadata": {},
     "output_type": "execute_result"
    }
   ],
   "source": [
    "analysis('total_income_category')\n",
    "# вызвали функцию для анализа: сколько всего взяли кредитов, сколько не вернули и % задолженности относительно уровня дохода"
   ]
  },
  {
   "cell_type": "markdown",
   "id": "80eeb815",
   "metadata": {
    "deletable": false,
    "id": "e8593def"
   },
   "source": [
    "**Вывод:** из проведенного анализа можно сделать вывод, что лица доходом менее 30 тыс руб представляют наибольший риск приобретения задолженности. Самые надежные заемщики - имеющие доход от 30 до 50 тыс руб. Примечательно, что лица, имеющие высокий доход больше 1 млн руб также представляют высокий риск невозврата займа в срок и приобретения задолженности."
   ]
  },
  {
   "cell_type": "markdown",
   "id": "14af0405",
   "metadata": {
    "id": "99ecbd1f"
   },
   "source": [
    "#### 3.4 Как разные цели кредита влияют на его возврат в срок?"
   ]
  },
  {
   "cell_type": "code",
   "execution_count": 26,
   "id": "cfa9bc91",
   "metadata": {
    "deletable": false,
    "id": "2b687290"
   },
   "outputs": [
    {
     "data": {
      "text/html": [
       "<div>\n",
       "<style scoped>\n",
       "    .dataframe tbody tr th:only-of-type {\n",
       "        vertical-align: middle;\n",
       "    }\n",
       "\n",
       "    .dataframe tbody tr th {\n",
       "        vertical-align: top;\n",
       "    }\n",
       "\n",
       "    .dataframe thead th {\n",
       "        text-align: right;\n",
       "    }\n",
       "</style>\n",
       "<table border=\"1\" class=\"dataframe\">\n",
       "  <thead>\n",
       "    <tr style=\"text-align: right;\">\n",
       "      <th></th>\n",
       "      <th>purpose_category</th>\n",
       "      <th>Количество кредиторов</th>\n",
       "      <th>Количество должников</th>\n",
       "      <th>Задолженность %</th>\n",
       "    </tr>\n",
       "  </thead>\n",
       "  <tbody>\n",
       "    <tr>\n",
       "      <th>0</th>\n",
       "      <td>операции с автомобилем</td>\n",
       "      <td>4279</td>\n",
       "      <td>400</td>\n",
       "      <td>9.35</td>\n",
       "    </tr>\n",
       "    <tr>\n",
       "      <th>1</th>\n",
       "      <td>операции с недвижимостью</td>\n",
       "      <td>10751</td>\n",
       "      <td>780</td>\n",
       "      <td>7.26</td>\n",
       "    </tr>\n",
       "    <tr>\n",
       "      <th>2</th>\n",
       "      <td>получение образования</td>\n",
       "      <td>3988</td>\n",
       "      <td>369</td>\n",
       "      <td>9.25</td>\n",
       "    </tr>\n",
       "    <tr>\n",
       "      <th>3</th>\n",
       "      <td>проведение свадьбы</td>\n",
       "      <td>2313</td>\n",
       "      <td>183</td>\n",
       "      <td>7.91</td>\n",
       "    </tr>\n",
       "  </tbody>\n",
       "</table>\n",
       "</div>"
      ],
      "text/plain": [
       "           purpose_category  Количество кредиторов  Количество должников  \\\n",
       "0    операции с автомобилем                   4279                   400   \n",
       "1  операции с недвижимостью                  10751                   780   \n",
       "2     получение образования                   3988                   369   \n",
       "3        проведение свадьбы                   2313                   183   \n",
       "\n",
       "   Задолженность %  \n",
       "0             9.35  \n",
       "1             7.26  \n",
       "2             9.25  \n",
       "3             7.91  "
      ]
     },
     "execution_count": 26,
     "metadata": {},
     "output_type": "execute_result"
    }
   ],
   "source": [
    "analysis('purpose_category')\n",
    "# вызвали функцию для анализа: сколько всего взяли кредитов, сколько не вернули и % задолженности относительно цели кредита"
   ]
  },
  {
   "cell_type": "markdown",
   "id": "6a9ca175",
   "metadata": {
    "deletable": false,
    "id": "b4bb2ce6"
   },
   "source": [
    "**Вывод:** из таблицы выше видно, что наибольший риск приобретения задолженности ложится на цели кредита \"операции с автомобилем\" и \"получение образования\", тогда как выплаты по кредитам на цели \"операции с недвижимостью\" и \"проведение свадьбы\" являются более стабильными."
   ]
  },
  {
   "cell_type": "markdown",
   "id": "6a73f619",
   "metadata": {
    "id": "09c3ac4c"
   },
   "source": [
    "#### 3.5 Возможные причины появления пропусков в исходных данных."
   ]
  },
  {
   "cell_type": "markdown",
   "id": "33d78459",
   "metadata": {
    "deletable": false,
    "id": "9da2ceda"
   },
   "source": [
    "Можно предположить, что пропуски в данных связаны с технической ошибкой вырузки/копирования/переноса данных, также имеет место быть человеческий фактор как со стороны сотрудника, так и со стороны клиента. Пропуски в данных также могут присутствовать у предпринимателей, безработных, студентов и женщин в декрете, т.к. их доход/труд стаж не стабилен, либо отсутствует. "
   ]
  },
  {
   "cell_type": "markdown",
   "id": "4fd0e4fb",
   "metadata": {
    "deletable": false,
    "editable": false,
    "id": "6db5255a"
   },
   "source": [
    "### Шаг 4: общий вывод."
   ]
  },
  {
   "cell_type": "markdown",
   "id": "f99b579f",
   "metadata": {
    "deletable": false,
    "id": "bad65432"
   },
   "source": [
    "  Так как целью проекта был поиск влияния семейного положения и количества детей клиента на факт погашения кредита в срок, можно сделать вывод, что люди, не вступавшие в брак и имеющие большое количество детей, подлежат более высокому риску приобретения задолженности.   \n",
    "  Исходя из дополнительно проведенных исследований можно сказать, что клиенты, зарабатывающе чуть выше минимального дохода (30-50 тр) и чуть меньше максимального дохода (200-1000 тр), являются более надежными и в большей части погашают кредиты в срок.  \n",
    "  Также наибольший риск приобретения задолженности ложится на кредиты, связанные с автомобилями и образованием, тогда как выплаты по кредитам, связанные с недвижимостью и проведением свадьбы являются более стабильными."
   ]
  },
  {
   "cell_type": "code",
   "execution_count": null,
   "id": "7c0b37ee",
   "metadata": {},
   "outputs": [],
   "source": []
  }
 ],
 "metadata": {
  "ExecuteTimeLog": [
   {
    "duration": 46,
    "start_time": "2022-10-04T10:05:48.484Z"
   },
   {
    "duration": 468,
    "start_time": "2022-10-04T10:06:03.698Z"
   },
   {
    "duration": 20,
    "start_time": "2022-10-04T10:06:04.168Z"
   },
   {
    "duration": 14,
    "start_time": "2022-10-04T10:06:04.189Z"
   },
   {
    "duration": 9,
    "start_time": "2022-10-04T10:06:04.204Z"
   },
   {
    "duration": 32,
    "start_time": "2022-10-04T10:06:04.214Z"
   },
   {
    "duration": 3,
    "start_time": "2022-10-04T10:06:04.248Z"
   },
   {
    "duration": 10,
    "start_time": "2022-10-04T10:06:04.252Z"
   },
   {
    "duration": 5,
    "start_time": "2022-10-04T10:06:04.263Z"
   },
   {
    "duration": 9,
    "start_time": "2022-10-04T10:06:04.269Z"
   },
   {
    "duration": 30,
    "start_time": "2022-10-04T10:06:04.280Z"
   },
   {
    "duration": 28,
    "start_time": "2022-10-04T10:06:04.311Z"
   },
   {
    "duration": 8,
    "start_time": "2022-10-04T10:06:04.341Z"
   },
   {
    "duration": 16,
    "start_time": "2022-10-04T10:06:04.350Z"
   },
   {
    "duration": 16,
    "start_time": "2022-10-04T10:06:04.367Z"
   },
   {
    "duration": 42,
    "start_time": "2022-10-04T10:06:04.384Z"
   },
   {
    "duration": 23,
    "start_time": "2022-10-04T10:06:04.428Z"
   },
   {
    "duration": 16,
    "start_time": "2022-10-04T10:06:04.455Z"
   },
   {
    "duration": 31,
    "start_time": "2022-10-04T10:06:04.472Z"
   },
   {
    "duration": 28,
    "start_time": "2022-10-04T10:06:04.504Z"
   },
   {
    "duration": 19,
    "start_time": "2022-10-04T10:06:04.534Z"
   },
   {
    "duration": 34,
    "start_time": "2022-10-04T10:06:04.555Z"
   },
   {
    "duration": 33,
    "start_time": "2022-10-04T10:06:04.591Z"
   },
   {
    "duration": 7,
    "start_time": "2022-10-04T10:06:04.626Z"
   },
   {
    "duration": 8,
    "start_time": "2022-10-04T10:06:04.634Z"
   },
   {
    "duration": 17,
    "start_time": "2022-10-04T10:06:04.644Z"
   },
   {
    "duration": 19,
    "start_time": "2022-10-04T10:06:04.662Z"
   },
   {
    "duration": 12,
    "start_time": "2022-10-04T10:06:28.790Z"
   },
   {
    "duration": 45,
    "start_time": "2022-10-04T10:20:58.044Z"
   },
   {
    "duration": 96,
    "start_time": "2022-10-04T10:25:03.887Z"
   },
   {
    "duration": 79,
    "start_time": "2022-10-04T10:25:38.925Z"
   },
   {
    "duration": 16,
    "start_time": "2022-10-04T10:37:45.534Z"
   },
   {
    "duration": 12,
    "start_time": "2022-10-04T10:38:05.461Z"
   },
   {
    "duration": 12,
    "start_time": "2022-10-04T10:38:08.557Z"
   },
   {
    "duration": 17,
    "start_time": "2022-10-04T10:38:23.272Z"
   },
   {
    "duration": 828,
    "start_time": "2022-10-04T10:40:39.625Z"
   },
   {
    "duration": 1281,
    "start_time": "2022-10-04T10:40:49.007Z"
   },
   {
    "duration": 16,
    "start_time": "2022-10-04T10:46:00.647Z"
   },
   {
    "duration": 5,
    "start_time": "2022-10-04T10:46:25.279Z"
   },
   {
    "duration": 12,
    "start_time": "2022-10-04T10:46:44.583Z"
   },
   {
    "duration": 23,
    "start_time": "2022-10-04T10:46:55.573Z"
   },
   {
    "duration": 3,
    "start_time": "2022-10-04T10:52:48.936Z"
   },
   {
    "duration": 6,
    "start_time": "2022-10-04T10:53:45.591Z"
   },
   {
    "duration": 7,
    "start_time": "2022-10-04T10:54:37.285Z"
   },
   {
    "duration": 7,
    "start_time": "2022-10-04T10:55:36.751Z"
   },
   {
    "duration": 6,
    "start_time": "2022-10-04T10:55:59.976Z"
   },
   {
    "duration": 58,
    "start_time": "2022-10-04T10:57:31.516Z"
   },
   {
    "duration": 7,
    "start_time": "2022-10-04T10:57:35.960Z"
   },
   {
    "duration": 11,
    "start_time": "2022-10-04T10:57:45.951Z"
   },
   {
    "duration": 12,
    "start_time": "2022-10-04T10:58:15.121Z"
   },
   {
    "duration": 10,
    "start_time": "2022-10-04T10:58:31.096Z"
   },
   {
    "duration": 46,
    "start_time": "2022-10-04T10:59:30.706Z"
   },
   {
    "duration": 16,
    "start_time": "2022-10-04T10:59:40.263Z"
   },
   {
    "duration": 19,
    "start_time": "2022-10-04T10:59:51.673Z"
   },
   {
    "duration": 5,
    "start_time": "2022-10-04T11:00:40.074Z"
   },
   {
    "duration": 4,
    "start_time": "2022-10-04T11:01:05.221Z"
   },
   {
    "duration": 12,
    "start_time": "2022-10-04T11:01:18.247Z"
   },
   {
    "duration": 10,
    "start_time": "2022-10-04T11:01:26.005Z"
   },
   {
    "duration": 15,
    "start_time": "2022-10-04T11:01:49.576Z"
   },
   {
    "duration": 15,
    "start_time": "2022-10-04T11:08:17.707Z"
   },
   {
    "duration": 17,
    "start_time": "2022-10-04T11:09:17.738Z"
   },
   {
    "duration": 836,
    "start_time": "2022-10-04T11:10:12.692Z"
   },
   {
    "duration": 944,
    "start_time": "2022-10-04T11:14:15.392Z"
   },
   {
    "duration": 1053,
    "start_time": "2022-10-04T11:14:37.377Z"
   },
   {
    "duration": 1625,
    "start_time": "2022-10-04T11:15:24.102Z"
   },
   {
    "duration": 1534,
    "start_time": "2022-10-04T11:16:40.672Z"
   },
   {
    "duration": 23,
    "start_time": "2022-10-04T11:26:58.047Z"
   },
   {
    "duration": 22,
    "start_time": "2022-10-04T11:53:03.678Z"
   },
   {
    "duration": 22,
    "start_time": "2022-10-04T11:53:08.160Z"
   },
   {
    "duration": 25,
    "start_time": "2022-10-04T12:02:58.377Z"
   },
   {
    "duration": 30,
    "start_time": "2022-10-04T12:03:11.898Z"
   },
   {
    "duration": 22,
    "start_time": "2022-10-04T12:03:18.316Z"
   },
   {
    "duration": 26,
    "start_time": "2022-10-04T12:04:45.513Z"
   },
   {
    "duration": 1108,
    "start_time": "2022-10-04T12:05:23.979Z"
   },
   {
    "duration": 23,
    "start_time": "2022-10-04T12:05:40.375Z"
   },
   {
    "duration": 1293,
    "start_time": "2022-10-04T12:05:56.425Z"
   },
   {
    "duration": 22,
    "start_time": "2022-10-04T12:06:21.568Z"
   },
   {
    "duration": 374,
    "start_time": "2022-10-04T12:07:21.302Z"
   },
   {
    "duration": 30,
    "start_time": "2022-10-04T12:07:26.924Z"
   },
   {
    "duration": 12,
    "start_time": "2022-10-04T12:07:46.572Z"
   },
   {
    "duration": 11,
    "start_time": "2022-10-04T12:07:52.552Z"
   },
   {
    "duration": 31,
    "start_time": "2022-10-04T12:19:29.961Z"
   },
   {
    "duration": 35,
    "start_time": "2022-10-04T12:20:45.720Z"
   },
   {
    "duration": 31,
    "start_time": "2022-10-04T12:21:30.378Z"
   },
   {
    "duration": 58,
    "start_time": "2022-10-04T12:24:35.757Z"
   },
   {
    "duration": 65,
    "start_time": "2022-10-04T12:24:42.112Z"
   },
   {
    "duration": 1472,
    "start_time": "2022-10-04T12:24:52.484Z"
   },
   {
    "duration": 28,
    "start_time": "2022-10-04T12:25:27.597Z"
   },
   {
    "duration": 34,
    "start_time": "2022-10-04T12:28:30.664Z"
   },
   {
    "duration": 30,
    "start_time": "2022-10-04T12:28:55.730Z"
   },
   {
    "duration": 23,
    "start_time": "2022-10-04T12:29:02.325Z"
   },
   {
    "duration": 22,
    "start_time": "2022-10-04T12:31:02.531Z"
   },
   {
    "duration": 25,
    "start_time": "2022-10-04T12:42:58.303Z"
   },
   {
    "duration": 31,
    "start_time": "2022-10-04T12:44:09.238Z"
   },
   {
    "duration": 455,
    "start_time": "2022-10-04T12:50:45.830Z"
   },
   {
    "duration": 21,
    "start_time": "2022-10-04T12:50:46.286Z"
   },
   {
    "duration": 14,
    "start_time": "2022-10-04T12:50:46.308Z"
   },
   {
    "duration": 9,
    "start_time": "2022-10-04T12:50:46.325Z"
   },
   {
    "duration": 32,
    "start_time": "2022-10-04T12:50:46.336Z"
   },
   {
    "duration": 3,
    "start_time": "2022-10-04T12:50:46.369Z"
   },
   {
    "duration": 8,
    "start_time": "2022-10-04T12:50:46.374Z"
   },
   {
    "duration": 27,
    "start_time": "2022-10-04T12:50:46.384Z"
   },
   {
    "duration": 11,
    "start_time": "2022-10-04T12:50:46.412Z"
   },
   {
    "duration": 6,
    "start_time": "2022-10-04T12:50:46.426Z"
   },
   {
    "duration": 44,
    "start_time": "2022-10-04T12:50:46.433Z"
   },
   {
    "duration": 8,
    "start_time": "2022-10-04T12:50:46.479Z"
   },
   {
    "duration": 6,
    "start_time": "2022-10-04T12:50:46.489Z"
   },
   {
    "duration": 16,
    "start_time": "2022-10-04T12:50:46.496Z"
   },
   {
    "duration": 23,
    "start_time": "2022-10-04T12:50:46.513Z"
   },
   {
    "duration": 21,
    "start_time": "2022-10-04T12:50:46.537Z"
   },
   {
    "duration": 4,
    "start_time": "2022-10-04T12:50:46.559Z"
   },
   {
    "duration": 15,
    "start_time": "2022-10-04T12:50:46.564Z"
   },
   {
    "duration": 8,
    "start_time": "2022-10-04T12:50:46.580Z"
   },
   {
    "duration": 3,
    "start_time": "2022-10-04T12:50:46.609Z"
   },
   {
    "duration": 10,
    "start_time": "2022-10-04T12:50:46.613Z"
   },
   {
    "duration": 11,
    "start_time": "2022-10-04T12:50:46.624Z"
   },
   {
    "duration": 31,
    "start_time": "2022-10-04T12:50:46.636Z"
   },
   {
    "duration": 44,
    "start_time": "2022-10-04T12:50:46.669Z"
   },
   {
    "duration": 2,
    "start_time": "2022-10-04T12:50:46.714Z"
   },
   {
    "duration": 8,
    "start_time": "2022-10-04T12:50:46.717Z"
   },
   {
    "duration": 28,
    "start_time": "2022-10-04T12:51:13.579Z"
   },
   {
    "duration": 36,
    "start_time": "2022-10-04T13:00:40.250Z"
   },
   {
    "duration": 60,
    "start_time": "2022-10-04T13:01:15.056Z"
   },
   {
    "duration": 22,
    "start_time": "2022-10-04T13:03:57.741Z"
   },
   {
    "duration": 25,
    "start_time": "2022-10-04T13:04:24.006Z"
   },
   {
    "duration": 24,
    "start_time": "2022-10-04T13:13:37.509Z"
   },
   {
    "duration": 23,
    "start_time": "2022-10-04T13:13:58.896Z"
   },
   {
    "duration": 29,
    "start_time": "2022-10-04T13:14:01.901Z"
   },
   {
    "duration": 29,
    "start_time": "2022-10-04T13:14:04.401Z"
   },
   {
    "duration": 28,
    "start_time": "2022-10-04T13:14:23.368Z"
   },
   {
    "duration": 25,
    "start_time": "2022-10-04T13:14:49.881Z"
   },
   {
    "duration": 27,
    "start_time": "2022-10-04T13:15:52.124Z"
   },
   {
    "duration": 5,
    "start_time": "2022-10-04T13:29:58.721Z"
   },
   {
    "duration": 433,
    "start_time": "2022-10-04T14:00:31.452Z"
   },
   {
    "duration": 21,
    "start_time": "2022-10-04T14:00:31.887Z"
   },
   {
    "duration": 31,
    "start_time": "2022-10-04T14:00:31.909Z"
   },
   {
    "duration": 34,
    "start_time": "2022-10-04T14:00:31.942Z"
   },
   {
    "duration": 40,
    "start_time": "2022-10-04T14:00:31.978Z"
   },
   {
    "duration": 3,
    "start_time": "2022-10-04T14:00:32.019Z"
   },
   {
    "duration": 28,
    "start_time": "2022-10-04T14:00:32.023Z"
   },
   {
    "duration": 8,
    "start_time": "2022-10-04T14:00:32.053Z"
   },
   {
    "duration": 25,
    "start_time": "2022-10-04T14:00:32.063Z"
   },
   {
    "duration": 11,
    "start_time": "2022-10-04T14:00:32.089Z"
   },
   {
    "duration": 38,
    "start_time": "2022-10-04T14:00:32.101Z"
   },
   {
    "duration": 11,
    "start_time": "2022-10-04T14:00:32.141Z"
   },
   {
    "duration": 13,
    "start_time": "2022-10-04T14:00:32.154Z"
   },
   {
    "duration": 16,
    "start_time": "2022-10-04T14:00:32.169Z"
   },
   {
    "duration": 22,
    "start_time": "2022-10-04T14:00:32.187Z"
   },
   {
    "duration": 16,
    "start_time": "2022-10-04T14:00:32.211Z"
   },
   {
    "duration": 7,
    "start_time": "2022-10-04T14:00:32.229Z"
   },
   {
    "duration": 20,
    "start_time": "2022-10-04T14:00:32.237Z"
   },
   {
    "duration": 24,
    "start_time": "2022-10-04T14:00:32.258Z"
   },
   {
    "duration": 6,
    "start_time": "2022-10-04T14:00:32.283Z"
   },
   {
    "duration": 14,
    "start_time": "2022-10-04T14:00:32.290Z"
   },
   {
    "duration": 20,
    "start_time": "2022-10-04T14:00:32.305Z"
   },
   {
    "duration": 35,
    "start_time": "2022-10-04T14:00:32.327Z"
   },
   {
    "duration": 27,
    "start_time": "2022-10-04T14:00:32.364Z"
   },
   {
    "duration": 26,
    "start_time": "2022-10-04T14:00:32.393Z"
   },
   {
    "duration": 26,
    "start_time": "2022-10-04T14:00:32.421Z"
   },
   {
    "duration": 656,
    "start_time": "2022-10-04T15:50:30.173Z"
   },
   {
    "duration": 23,
    "start_time": "2022-10-04T15:50:30.832Z"
   },
   {
    "duration": 24,
    "start_time": "2022-10-04T15:50:30.857Z"
   },
   {
    "duration": 34,
    "start_time": "2022-10-04T15:50:30.883Z"
   },
   {
    "duration": 53,
    "start_time": "2022-10-04T15:50:30.918Z"
   },
   {
    "duration": 3,
    "start_time": "2022-10-04T15:50:30.973Z"
   },
   {
    "duration": 53,
    "start_time": "2022-10-04T15:50:30.978Z"
   },
   {
    "duration": 30,
    "start_time": "2022-10-04T15:50:31.032Z"
   },
   {
    "duration": 52,
    "start_time": "2022-10-04T15:50:31.063Z"
   },
   {
    "duration": 40,
    "start_time": "2022-10-04T15:50:31.118Z"
   },
   {
    "duration": 81,
    "start_time": "2022-10-04T15:50:31.160Z"
   },
   {
    "duration": 16,
    "start_time": "2022-10-04T15:50:31.243Z"
   },
   {
    "duration": 22,
    "start_time": "2022-10-04T15:50:31.260Z"
   },
   {
    "duration": 35,
    "start_time": "2022-10-04T15:50:31.284Z"
   },
   {
    "duration": 43,
    "start_time": "2022-10-04T15:50:31.321Z"
   },
   {
    "duration": 44,
    "start_time": "2022-10-04T15:50:31.366Z"
   },
   {
    "duration": 32,
    "start_time": "2022-10-04T15:50:31.412Z"
   },
   {
    "duration": 64,
    "start_time": "2022-10-04T15:50:31.446Z"
   },
   {
    "duration": 59,
    "start_time": "2022-10-04T15:50:31.512Z"
   },
   {
    "duration": 38,
    "start_time": "2022-10-04T15:50:31.572Z"
   },
   {
    "duration": 34,
    "start_time": "2022-10-04T15:50:31.612Z"
   },
   {
    "duration": 39,
    "start_time": "2022-10-04T15:50:31.647Z"
   },
   {
    "duration": 45,
    "start_time": "2022-10-04T15:50:31.687Z"
   },
   {
    "duration": 38,
    "start_time": "2022-10-04T15:50:31.734Z"
   },
   {
    "duration": 25,
    "start_time": "2022-10-04T15:50:31.774Z"
   },
   {
    "duration": 44,
    "start_time": "2022-10-04T15:50:31.801Z"
   },
   {
    "duration": 729,
    "start_time": "2022-10-04T20:25:02.865Z"
   },
   {
    "duration": 26,
    "start_time": "2022-10-04T20:25:03.596Z"
   },
   {
    "duration": 17,
    "start_time": "2022-10-04T20:25:03.624Z"
   },
   {
    "duration": 14,
    "start_time": "2022-10-04T20:25:03.643Z"
   },
   {
    "duration": 47,
    "start_time": "2022-10-04T20:25:03.659Z"
   },
   {
    "duration": 4,
    "start_time": "2022-10-04T20:25:03.708Z"
   },
   {
    "duration": 19,
    "start_time": "2022-10-04T20:25:03.714Z"
   },
   {
    "duration": 20,
    "start_time": "2022-10-04T20:25:03.735Z"
   },
   {
    "duration": 15,
    "start_time": "2022-10-04T20:25:03.757Z"
   },
   {
    "duration": 7,
    "start_time": "2022-10-04T20:25:03.774Z"
   },
   {
    "duration": 36,
    "start_time": "2022-10-04T20:25:03.782Z"
   },
   {
    "duration": 10,
    "start_time": "2022-10-04T20:25:03.819Z"
   },
   {
    "duration": 24,
    "start_time": "2022-10-04T20:25:03.830Z"
   },
   {
    "duration": 12,
    "start_time": "2022-10-04T20:25:03.857Z"
   },
   {
    "duration": 23,
    "start_time": "2022-10-04T20:25:03.870Z"
   },
   {
    "duration": 20,
    "start_time": "2022-10-04T20:25:03.894Z"
   },
   {
    "duration": 3,
    "start_time": "2022-10-04T20:25:03.917Z"
   },
   {
    "duration": 36,
    "start_time": "2022-10-04T20:25:03.922Z"
   },
   {
    "duration": 14,
    "start_time": "2022-10-04T20:25:03.960Z"
   },
   {
    "duration": 5,
    "start_time": "2022-10-04T20:25:03.976Z"
   },
   {
    "duration": 18,
    "start_time": "2022-10-04T20:25:03.983Z"
   },
   {
    "duration": 18,
    "start_time": "2022-10-04T20:25:04.003Z"
   },
   {
    "duration": 39,
    "start_time": "2022-10-04T20:25:04.024Z"
   },
   {
    "duration": 31,
    "start_time": "2022-10-04T20:25:04.065Z"
   },
   {
    "duration": 26,
    "start_time": "2022-10-04T20:25:04.098Z"
   },
   {
    "duration": 54,
    "start_time": "2022-10-04T20:25:04.125Z"
   },
   {
    "duration": 707,
    "start_time": "2022-10-05T19:30:25.818Z"
   },
   {
    "duration": 23,
    "start_time": "2022-10-05T19:30:26.527Z"
   },
   {
    "duration": 15,
    "start_time": "2022-10-05T19:30:26.552Z"
   },
   {
    "duration": 10,
    "start_time": "2022-10-05T19:30:26.569Z"
   },
   {
    "duration": 60,
    "start_time": "2022-10-05T19:30:26.581Z"
   },
   {
    "duration": 3,
    "start_time": "2022-10-05T19:30:26.643Z"
   },
   {
    "duration": 11,
    "start_time": "2022-10-05T19:30:26.648Z"
   },
   {
    "duration": 4,
    "start_time": "2022-10-05T19:30:26.660Z"
   },
   {
    "duration": 9,
    "start_time": "2022-10-05T19:30:26.666Z"
   },
   {
    "duration": 5,
    "start_time": "2022-10-05T19:30:26.676Z"
   },
   {
    "duration": 63,
    "start_time": "2022-10-05T19:30:26.683Z"
   },
   {
    "duration": 9,
    "start_time": "2022-10-05T19:30:26.748Z"
   },
   {
    "duration": 6,
    "start_time": "2022-10-05T19:30:26.759Z"
   },
   {
    "duration": 11,
    "start_time": "2022-10-05T19:30:26.767Z"
   },
   {
    "duration": 41,
    "start_time": "2022-10-05T19:30:26.780Z"
   },
   {
    "duration": 19,
    "start_time": "2022-10-05T19:30:26.823Z"
   },
   {
    "duration": 4,
    "start_time": "2022-10-05T19:30:26.843Z"
   },
   {
    "duration": 13,
    "start_time": "2022-10-05T19:30:26.849Z"
   },
   {
    "duration": 6,
    "start_time": "2022-10-05T19:30:26.864Z"
   },
   {
    "duration": 5,
    "start_time": "2022-10-05T19:30:26.871Z"
   },
   {
    "duration": 15,
    "start_time": "2022-10-05T19:30:26.877Z"
   },
   {
    "duration": 33,
    "start_time": "2022-10-05T19:30:26.894Z"
   },
   {
    "duration": 31,
    "start_time": "2022-10-05T19:30:26.929Z"
   },
   {
    "duration": 30,
    "start_time": "2022-10-05T19:30:26.962Z"
   },
   {
    "duration": 53,
    "start_time": "2022-10-05T19:30:26.994Z"
   },
   {
    "duration": 31,
    "start_time": "2022-10-05T19:30:27.049Z"
   }
  ],
  "celltoolbar": "Необработанный формат ячейки",
  "colab": {
   "name": "dpp_template_part2.ipynb",
   "provenance": []
  },
  "kernelspec": {
   "display_name": "Python 3 (ipykernel)",
   "language": "python",
   "name": "python3"
  },
  "language_info": {
   "codemirror_mode": {
    "name": "ipython",
    "version": 3
   },
   "file_extension": ".py",
   "mimetype": "text/x-python",
   "name": "python",
   "nbconvert_exporter": "python",
   "pygments_lexer": "ipython3",
   "version": "3.9.13"
  },
  "toc": {
   "base_numbering": 1,
   "nav_menu": {},
   "number_sections": true,
   "sideBar": true,
   "skip_h1_title": true,
   "title_cell": "Table of Contents",
   "title_sidebar": "Contents",
   "toc_cell": false,
   "toc_position": {},
   "toc_section_display": true,
   "toc_window_display": false
  }
 },
 "nbformat": 4,
 "nbformat_minor": 5
}
