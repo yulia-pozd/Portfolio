{
 "cells": [
  {
   "cell_type": "markdown",
   "metadata": {},
   "source": [
    "# Принятие решений в бизнесе"
   ]
  },
  {
   "cell_type": "markdown",
   "metadata": {},
   "source": [
    "**Задача проводимого исследования - приоритизация гипотез для увеличения выручки крупного интернет-магазина, запуск A/B-теста и и анализ результатов.**"
   ]
  },
  {
   "cell_type": "code",
   "execution_count": 1,
   "metadata": {},
   "outputs": [],
   "source": [
    "import pandas as pd\n",
    "import datetime as dt\n",
    "import numpy as np\n",
    "import scipy.stats as stats\n",
    "import matplotlib.pyplot as plt\n",
    "from pandas.plotting import register_matplotlib_converters\n",
    "import warnings\n",
    "register_matplotlib_converters()"
   ]
  },
  {
   "cell_type": "markdown",
   "metadata": {},
   "source": [
    "## 1 Часть. Приоритизация гипотез."
   ]
  },
  {
   "cell_type": "markdown",
   "metadata": {},
   "source": [
    "**Описание данных:**    \n",
    "    \n",
    "Файл /datasets/hypothesis.csv    \n",
    "    \n",
    "Hypothesis — краткое описание гипотезы;    \n",
    "Reach — охват пользователей по 10-балльной шкале;    \n",
    "Impact — влияние на пользователей по 10-балльной шкале;    \n",
    "Confidence — уверенность в гипотезе по 10-балльной шкале;    \n",
    "Efforts — затраты ресурсов на проверку гипотезы по 10-балльной шкале. Чем больше значение Efforts, тем дороже проверка гипотезы."
   ]
  },
  {
   "cell_type": "markdown",
   "metadata": {},
   "source": [
    "### Обработаем данные"
   ]
  },
  {
   "cell_type": "code",
   "execution_count": 2,
   "metadata": {},
   "outputs": [
    {
     "data": {
      "text/html": [
       "<div>\n",
       "<style scoped>\n",
       "    .dataframe tbody tr th:only-of-type {\n",
       "        vertical-align: middle;\n",
       "    }\n",
       "\n",
       "    .dataframe tbody tr th {\n",
       "        vertical-align: top;\n",
       "    }\n",
       "\n",
       "    .dataframe thead th {\n",
       "        text-align: right;\n",
       "    }\n",
       "</style>\n",
       "<table border=\"1\" class=\"dataframe\">\n",
       "  <thead>\n",
       "    <tr style=\"text-align: right;\">\n",
       "      <th></th>\n",
       "      <th>Hypothesis</th>\n",
       "      <th>Reach</th>\n",
       "      <th>Impact</th>\n",
       "      <th>Confidence</th>\n",
       "      <th>Efforts</th>\n",
       "    </tr>\n",
       "  </thead>\n",
       "  <tbody>\n",
       "    <tr>\n",
       "      <th>0</th>\n",
       "      <td>Добавить два новых канала привлечения трафика,...</td>\n",
       "      <td>3</td>\n",
       "      <td>10</td>\n",
       "      <td>8</td>\n",
       "      <td>6</td>\n",
       "    </tr>\n",
       "    <tr>\n",
       "      <th>1</th>\n",
       "      <td>Запустить собственную службу доставки, что сок...</td>\n",
       "      <td>2</td>\n",
       "      <td>5</td>\n",
       "      <td>4</td>\n",
       "      <td>10</td>\n",
       "    </tr>\n",
       "  </tbody>\n",
       "</table>\n",
       "</div>"
      ],
      "text/plain": [
       "                                          Hypothesis  Reach  Impact  \\\n",
       "0  Добавить два новых канала привлечения трафика,...      3      10   \n",
       "1  Запустить собственную службу доставки, что сок...      2       5   \n",
       "\n",
       "   Confidence  Efforts  \n",
       "0           8        6  \n",
       "1           4       10  "
      ]
     },
     "execution_count": 2,
     "metadata": {},
     "output_type": "execute_result"
    }
   ],
   "source": [
    "# откроем файл\n",
    "df = pd.read_csv(r'C:\\Users\\Юлия\\Desktop\\projects\\hypothesis.csv')\n",
    "df.head(2)"
   ]
  },
  {
   "cell_type": "code",
   "execution_count": 3,
   "metadata": {},
   "outputs": [
    {
     "data": {
      "text/plain": [
       "Index(['hypothesis', 'reach', 'impact', 'confidence', 'efforts'], dtype='object')"
      ]
     },
     "execution_count": 3,
     "metadata": {},
     "output_type": "execute_result"
    }
   ],
   "source": [
    "# переименуем названия колонок\n",
    "df.columns= df.columns.str.lower()\n",
    "df.columns"
   ]
  },
  {
   "cell_type": "code",
   "execution_count": 4,
   "metadata": {},
   "outputs": [
    {
     "name": "stdout",
     "output_type": "stream",
     "text": [
      "<class 'pandas.core.frame.DataFrame'>\n",
      "RangeIndex: 9 entries, 0 to 8\n",
      "Data columns (total 5 columns):\n",
      " #   Column      Non-Null Count  Dtype \n",
      "---  ------      --------------  ----- \n",
      " 0   hypothesis  9 non-null      object\n",
      " 1   reach       9 non-null      int64 \n",
      " 2   impact      9 non-null      int64 \n",
      " 3   confidence  9 non-null      int64 \n",
      " 4   efforts     9 non-null      int64 \n",
      "dtypes: int64(4), object(1)\n",
      "memory usage: 488.0+ bytes\n"
     ]
    }
   ],
   "source": [
    "# посмотрим общую информацию\n",
    "df.info()"
   ]
  },
  {
   "cell_type": "code",
   "execution_count": 5,
   "metadata": {},
   "outputs": [
    {
     "data": {
      "text/plain": [
       "0"
      ]
     },
     "execution_count": 5,
     "metadata": {},
     "output_type": "execute_result"
    }
   ],
   "source": [
    "# посмотрим дубликаты\n",
    "df.duplicated().sum()"
   ]
  },
  {
   "cell_type": "markdown",
   "metadata": {},
   "source": [
    "### Применим фреймворк ICE для приоритизации гипотез"
   ]
  },
  {
   "cell_type": "code",
   "execution_count": 6,
   "metadata": {
    "scrolled": true
   },
   "outputs": [
    {
     "data": {
      "text/html": [
       "<div>\n",
       "<style scoped>\n",
       "    .dataframe tbody tr th:only-of-type {\n",
       "        vertical-align: middle;\n",
       "    }\n",
       "\n",
       "    .dataframe tbody tr th {\n",
       "        vertical-align: top;\n",
       "    }\n",
       "\n",
       "    .dataframe thead th {\n",
       "        text-align: right;\n",
       "    }\n",
       "</style>\n",
       "<table border=\"1\" class=\"dataframe\">\n",
       "  <thead>\n",
       "    <tr style=\"text-align: right;\">\n",
       "      <th></th>\n",
       "      <th>hypothesis</th>\n",
       "      <th>reach</th>\n",
       "      <th>impact</th>\n",
       "      <th>confidence</th>\n",
       "      <th>efforts</th>\n",
       "    </tr>\n",
       "  </thead>\n",
       "  <tbody>\n",
       "    <tr>\n",
       "      <th>0</th>\n",
       "      <td>Добавить два новых канала привлечения трафика, что позволит привлекать на 30% больше пользователей</td>\n",
       "      <td>3</td>\n",
       "      <td>10</td>\n",
       "      <td>8</td>\n",
       "      <td>6</td>\n",
       "    </tr>\n",
       "    <tr>\n",
       "      <th>1</th>\n",
       "      <td>Запустить собственную службу доставки, что сократит срок доставки заказов</td>\n",
       "      <td>2</td>\n",
       "      <td>5</td>\n",
       "      <td>4</td>\n",
       "      <td>10</td>\n",
       "    </tr>\n",
       "    <tr>\n",
       "      <th>2</th>\n",
       "      <td>Добавить блоки рекомендаций товаров на сайт интернет магазина, чтобы повысить конверсию и средни...</td>\n",
       "      <td>8</td>\n",
       "      <td>3</td>\n",
       "      <td>7</td>\n",
       "      <td>3</td>\n",
       "    </tr>\n",
       "    <tr>\n",
       "      <th>3</th>\n",
       "      <td>Изменить структура категорий, что увеличит конверсию, т.к. пользователи быстрее найдут нужный товар</td>\n",
       "      <td>8</td>\n",
       "      <td>3</td>\n",
       "      <td>3</td>\n",
       "      <td>8</td>\n",
       "    </tr>\n",
       "    <tr>\n",
       "      <th>4</th>\n",
       "      <td>Изменить цвет фона главной страницы, чтобы увеличить вовлеченность пользователей</td>\n",
       "      <td>3</td>\n",
       "      <td>1</td>\n",
       "      <td>1</td>\n",
       "      <td>1</td>\n",
       "    </tr>\n",
       "    <tr>\n",
       "      <th>5</th>\n",
       "      <td>Добавить страницу отзывов клиентов о магазине, что позволит увеличить количество заказов</td>\n",
       "      <td>3</td>\n",
       "      <td>2</td>\n",
       "      <td>2</td>\n",
       "      <td>3</td>\n",
       "    </tr>\n",
       "    <tr>\n",
       "      <th>6</th>\n",
       "      <td>Показать на главной странице баннеры с актуальными акциями и распродажами, чтобы увеличить конве...</td>\n",
       "      <td>5</td>\n",
       "      <td>3</td>\n",
       "      <td>8</td>\n",
       "      <td>3</td>\n",
       "    </tr>\n",
       "    <tr>\n",
       "      <th>7</th>\n",
       "      <td>Добавить форму подписки на все основные страницы, чтобы собрать базу клиентов для email-рассылок</td>\n",
       "      <td>10</td>\n",
       "      <td>7</td>\n",
       "      <td>8</td>\n",
       "      <td>5</td>\n",
       "    </tr>\n",
       "    <tr>\n",
       "      <th>8</th>\n",
       "      <td>Запустить акцию, дающую скидку на товар в день рождения</td>\n",
       "      <td>1</td>\n",
       "      <td>9</td>\n",
       "      <td>9</td>\n",
       "      <td>5</td>\n",
       "    </tr>\n",
       "  </tbody>\n",
       "</table>\n",
       "</div>"
      ],
      "text/plain": [
       "                                                                                            hypothesis  \\\n",
       "0   Добавить два новых канала привлечения трафика, что позволит привлекать на 30% больше пользователей   \n",
       "1                            Запустить собственную службу доставки, что сократит срок доставки заказов   \n",
       "2  Добавить блоки рекомендаций товаров на сайт интернет магазина, чтобы повысить конверсию и средни...   \n",
       "3  Изменить структура категорий, что увеличит конверсию, т.к. пользователи быстрее найдут нужный товар   \n",
       "4                     Изменить цвет фона главной страницы, чтобы увеличить вовлеченность пользователей   \n",
       "5             Добавить страницу отзывов клиентов о магазине, что позволит увеличить количество заказов   \n",
       "6  Показать на главной странице баннеры с актуальными акциями и распродажами, чтобы увеличить конве...   \n",
       "7     Добавить форму подписки на все основные страницы, чтобы собрать базу клиентов для email-рассылок   \n",
       "8                                              Запустить акцию, дающую скидку на товар в день рождения   \n",
       "\n",
       "   reach  impact  confidence  efforts  \n",
       "0      3      10           8        6  \n",
       "1      2       5           4       10  \n",
       "2      8       3           7        3  \n",
       "3      8       3           3        8  \n",
       "4      3       1           1        1  \n",
       "5      3       2           2        3  \n",
       "6      5       3           8        3  \n",
       "7     10       7           8        5  \n",
       "8      1       9           9        5  "
      ]
     },
     "execution_count": 6,
     "metadata": {},
     "output_type": "execute_result"
    }
   ],
   "source": [
    "pd.options.display.max_colwidth = 100\n",
    "df"
   ]
  },
  {
   "cell_type": "code",
   "execution_count": 7,
   "metadata": {
    "scrolled": false
   },
   "outputs": [
    {
     "data": {
      "text/html": [
       "<div>\n",
       "<style scoped>\n",
       "    .dataframe tbody tr th:only-of-type {\n",
       "        vertical-align: middle;\n",
       "    }\n",
       "\n",
       "    .dataframe tbody tr th {\n",
       "        vertical-align: top;\n",
       "    }\n",
       "\n",
       "    .dataframe thead th {\n",
       "        text-align: right;\n",
       "    }\n",
       "</style>\n",
       "<table border=\"1\" class=\"dataframe\">\n",
       "  <thead>\n",
       "    <tr style=\"text-align: right;\">\n",
       "      <th></th>\n",
       "      <th>hypothesis</th>\n",
       "      <th>ICE</th>\n",
       "    </tr>\n",
       "  </thead>\n",
       "  <tbody>\n",
       "    <tr>\n",
       "      <th>8</th>\n",
       "      <td>Запустить акцию, дающую скидку на товар в день рождения</td>\n",
       "      <td>16.20</td>\n",
       "    </tr>\n",
       "    <tr>\n",
       "      <th>0</th>\n",
       "      <td>Добавить два новых канала привлечения трафика, что позволит привлекать на 30% больше пользователей</td>\n",
       "      <td>13.33</td>\n",
       "    </tr>\n",
       "    <tr>\n",
       "      <th>7</th>\n",
       "      <td>Добавить форму подписки на все основные страницы, чтобы собрать базу клиентов для email-рассылок</td>\n",
       "      <td>11.20</td>\n",
       "    </tr>\n",
       "    <tr>\n",
       "      <th>6</th>\n",
       "      <td>Показать на главной странице баннеры с актуальными акциями и распродажами, чтобы увеличить конве...</td>\n",
       "      <td>8.00</td>\n",
       "    </tr>\n",
       "    <tr>\n",
       "      <th>2</th>\n",
       "      <td>Добавить блоки рекомендаций товаров на сайт интернет магазина, чтобы повысить конверсию и средни...</td>\n",
       "      <td>7.00</td>\n",
       "    </tr>\n",
       "    <tr>\n",
       "      <th>1</th>\n",
       "      <td>Запустить собственную службу доставки, что сократит срок доставки заказов</td>\n",
       "      <td>2.00</td>\n",
       "    </tr>\n",
       "    <tr>\n",
       "      <th>5</th>\n",
       "      <td>Добавить страницу отзывов клиентов о магазине, что позволит увеличить количество заказов</td>\n",
       "      <td>1.33</td>\n",
       "    </tr>\n",
       "    <tr>\n",
       "      <th>3</th>\n",
       "      <td>Изменить структура категорий, что увеличит конверсию, т.к. пользователи быстрее найдут нужный товар</td>\n",
       "      <td>1.12</td>\n",
       "    </tr>\n",
       "    <tr>\n",
       "      <th>4</th>\n",
       "      <td>Изменить цвет фона главной страницы, чтобы увеличить вовлеченность пользователей</td>\n",
       "      <td>1.00</td>\n",
       "    </tr>\n",
       "  </tbody>\n",
       "</table>\n",
       "</div>"
      ],
      "text/plain": [
       "                                                                                            hypothesis  \\\n",
       "8                                              Запустить акцию, дающую скидку на товар в день рождения   \n",
       "0   Добавить два новых канала привлечения трафика, что позволит привлекать на 30% больше пользователей   \n",
       "7     Добавить форму подписки на все основные страницы, чтобы собрать базу клиентов для email-рассылок   \n",
       "6  Показать на главной странице баннеры с актуальными акциями и распродажами, чтобы увеличить конве...   \n",
       "2  Добавить блоки рекомендаций товаров на сайт интернет магазина, чтобы повысить конверсию и средни...   \n",
       "1                            Запустить собственную службу доставки, что сократит срок доставки заказов   \n",
       "5             Добавить страницу отзывов клиентов о магазине, что позволит увеличить количество заказов   \n",
       "3  Изменить структура категорий, что увеличит конверсию, т.к. пользователи быстрее найдут нужный товар   \n",
       "4                     Изменить цвет фона главной страницы, чтобы увеличить вовлеченность пользователей   \n",
       "\n",
       "     ICE  \n",
       "8  16.20  \n",
       "0  13.33  \n",
       "7  11.20  \n",
       "6   8.00  \n",
       "2   7.00  \n",
       "1   2.00  \n",
       "5   1.33  \n",
       "3   1.12  \n",
       "4   1.00  "
      ]
     },
     "execution_count": 7,
     "metadata": {},
     "output_type": "execute_result"
    }
   ],
   "source": [
    "pd.options.display.max_colwidth = 100\n",
    "# применим фреймворк ICE\n",
    "df['ICE'] = round(df['impact'] * df['confidence'] / df['efforts'],2)\n",
    "\n",
    "# отсортируем их по убыванию приоритета\n",
    "df[['hypothesis', 'ICE']].sort_values(by='ICE', ascending=False)"
   ]
  },
  {
   "cell_type": "markdown",
   "metadata": {},
   "source": [
    "Исходя из анализа мы можем видеть первую пятерку самых перспективных гипотез"
   ]
  },
  {
   "cell_type": "markdown",
   "metadata": {},
   "source": [
    "### Применим фреймворк RICE для приоритизации гипотез"
   ]
  },
  {
   "cell_type": "code",
   "execution_count": 8,
   "metadata": {},
   "outputs": [
    {
     "data": {
      "text/html": [
       "<div>\n",
       "<style scoped>\n",
       "    .dataframe tbody tr th:only-of-type {\n",
       "        vertical-align: middle;\n",
       "    }\n",
       "\n",
       "    .dataframe tbody tr th {\n",
       "        vertical-align: top;\n",
       "    }\n",
       "\n",
       "    .dataframe thead th {\n",
       "        text-align: right;\n",
       "    }\n",
       "</style>\n",
       "<table border=\"1\" class=\"dataframe\">\n",
       "  <thead>\n",
       "    <tr style=\"text-align: right;\">\n",
       "      <th></th>\n",
       "      <th>hypothesis</th>\n",
       "      <th>reach</th>\n",
       "      <th>impact</th>\n",
       "      <th>confidence</th>\n",
       "      <th>RICE</th>\n",
       "    </tr>\n",
       "  </thead>\n",
       "  <tbody>\n",
       "    <tr>\n",
       "      <th>7</th>\n",
       "      <td>Добавить форму подписки на все основные страницы, чтобы собрать базу клиентов для email-рассылок</td>\n",
       "      <td>10</td>\n",
       "      <td>7</td>\n",
       "      <td>8</td>\n",
       "      <td>112.0</td>\n",
       "    </tr>\n",
       "    <tr>\n",
       "      <th>2</th>\n",
       "      <td>Добавить блоки рекомендаций товаров на сайт интернет магазина, чтобы повысить конверсию и средни...</td>\n",
       "      <td>8</td>\n",
       "      <td>3</td>\n",
       "      <td>7</td>\n",
       "      <td>56.0</td>\n",
       "    </tr>\n",
       "    <tr>\n",
       "      <th>0</th>\n",
       "      <td>Добавить два новых канала привлечения трафика, что позволит привлекать на 30% больше пользователей</td>\n",
       "      <td>3</td>\n",
       "      <td>10</td>\n",
       "      <td>8</td>\n",
       "      <td>40.0</td>\n",
       "    </tr>\n",
       "    <tr>\n",
       "      <th>6</th>\n",
       "      <td>Показать на главной странице баннеры с актуальными акциями и распродажами, чтобы увеличить конве...</td>\n",
       "      <td>5</td>\n",
       "      <td>3</td>\n",
       "      <td>8</td>\n",
       "      <td>40.0</td>\n",
       "    </tr>\n",
       "    <tr>\n",
       "      <th>8</th>\n",
       "      <td>Запустить акцию, дающую скидку на товар в день рождения</td>\n",
       "      <td>1</td>\n",
       "      <td>9</td>\n",
       "      <td>9</td>\n",
       "      <td>16.2</td>\n",
       "    </tr>\n",
       "    <tr>\n",
       "      <th>3</th>\n",
       "      <td>Изменить структура категорий, что увеличит конверсию, т.к. пользователи быстрее найдут нужный товар</td>\n",
       "      <td>8</td>\n",
       "      <td>3</td>\n",
       "      <td>3</td>\n",
       "      <td>9.0</td>\n",
       "    </tr>\n",
       "    <tr>\n",
       "      <th>1</th>\n",
       "      <td>Запустить собственную службу доставки, что сократит срок доставки заказов</td>\n",
       "      <td>2</td>\n",
       "      <td>5</td>\n",
       "      <td>4</td>\n",
       "      <td>4.0</td>\n",
       "    </tr>\n",
       "    <tr>\n",
       "      <th>5</th>\n",
       "      <td>Добавить страницу отзывов клиентов о магазине, что позволит увеличить количество заказов</td>\n",
       "      <td>3</td>\n",
       "      <td>2</td>\n",
       "      <td>2</td>\n",
       "      <td>4.0</td>\n",
       "    </tr>\n",
       "    <tr>\n",
       "      <th>4</th>\n",
       "      <td>Изменить цвет фона главной страницы, чтобы увеличить вовлеченность пользователей</td>\n",
       "      <td>3</td>\n",
       "      <td>1</td>\n",
       "      <td>1</td>\n",
       "      <td>3.0</td>\n",
       "    </tr>\n",
       "  </tbody>\n",
       "</table>\n",
       "</div>"
      ],
      "text/plain": [
       "                                                                                            hypothesis  \\\n",
       "7     Добавить форму подписки на все основные страницы, чтобы собрать базу клиентов для email-рассылок   \n",
       "2  Добавить блоки рекомендаций товаров на сайт интернет магазина, чтобы повысить конверсию и средни...   \n",
       "0   Добавить два новых канала привлечения трафика, что позволит привлекать на 30% больше пользователей   \n",
       "6  Показать на главной странице баннеры с актуальными акциями и распродажами, чтобы увеличить конве...   \n",
       "8                                              Запустить акцию, дающую скидку на товар в день рождения   \n",
       "3  Изменить структура категорий, что увеличит конверсию, т.к. пользователи быстрее найдут нужный товар   \n",
       "1                            Запустить собственную службу доставки, что сократит срок доставки заказов   \n",
       "5             Добавить страницу отзывов клиентов о магазине, что позволит увеличить количество заказов   \n",
       "4                     Изменить цвет фона главной страницы, чтобы увеличить вовлеченность пользователей   \n",
       "\n",
       "   reach  impact  confidence   RICE  \n",
       "7     10       7           8  112.0  \n",
       "2      8       3           7   56.0  \n",
       "0      3      10           8   40.0  \n",
       "6      5       3           8   40.0  \n",
       "8      1       9           9   16.2  \n",
       "3      8       3           3    9.0  \n",
       "1      2       5           4    4.0  \n",
       "5      3       2           2    4.0  \n",
       "4      3       1           1    3.0  "
      ]
     },
     "execution_count": 8,
     "metadata": {},
     "output_type": "execute_result"
    }
   ],
   "source": [
    "pd.options.display.max_colwidth = 100\n",
    "# применим фреймворк RICE\n",
    "df['RICE'] = df['reach'] * df['impact'] * df['confidence'] / df['efforts']\n",
    "\n",
    "# отсортируем их по убыванию приоритета\n",
    "df[['hypothesis', 'reach', 'impact', 'confidence', 'RICE']].sort_values(by='RICE', ascending=False)"
   ]
  },
  {
   "cell_type": "markdown",
   "metadata": {},
   "source": [
    "Пять перспективных гипотез остались неизменными, но они изменили свои позиции в рейтинге. Лидирует уже другая гипотеза о добавлении формы подписки на все основные страницы, тк ее парметр reach самый высокий, это говорит о том, что изменение затронет всех пользователей."
   ]
  },
  {
   "cell_type": "markdown",
   "metadata": {},
   "source": [
    "Параметр reach, отражающий охват пользователей, повлиял на порядок приоритизации гипотез. Это мы можем наблюдать сравнивая результаты 2х исследований.   \n",
    "Ввиду высоких показателей охвата поднялись в рейтинге гипотезы о добавлении формы подписки и добавлении блока рекомендаций, их показатель reach самый высокий.    \n",
    "Гипотезы о запуске акции, дающей скидку на товар в день и добавлении двух новых каналов привлечения трафика упали в рейтинге из-за низкого показателя охвата, но гипотеза о добавлении двух новых каналов снизилась не сильно, тк показатель влияния на пользователей максимальный.   \n",
    "Гипотеза о показе на главной странице баннеров осталась на своем 4м месте"
   ]
  },
  {
   "cell_type": "markdown",
   "metadata": {},
   "source": [
    "## 2 Часть. Анализ A/B-теста"
   ]
  },
  {
   "cell_type": "markdown",
   "metadata": {},
   "source": [
    "**Описание данных:**    \n",
    "    \n",
    "Файл /datasets/orders.csv.     \n",
    "\n",
    "transactionId — идентификатор заказа;    \n",
    "visitorId — идентификатор пользователя, совершившего заказ;    \n",
    "date — дата, когда был совершён заказ;    \n",
    "revenue — выручка заказа;    \n",
    "group — группа A/B-теста, в которую попал заказ.    \n",
    "    \n",
    "Файл /datasets/visitors.csv.    \n",
    "    \n",
    "date — дата;    \n",
    "group — группа A/B-теста;    \n",
    "visitors — количество пользователей в указанную дату в указанной группе A/B-теста.    "
   ]
  },
  {
   "cell_type": "markdown",
   "metadata": {},
   "source": [
    "### Обработаем данные"
   ]
  },
  {
   "cell_type": "code",
   "execution_count": 9,
   "metadata": {},
   "outputs": [
    {
     "data": {
      "text/html": [
       "<div>\n",
       "<style scoped>\n",
       "    .dataframe tbody tr th:only-of-type {\n",
       "        vertical-align: middle;\n",
       "    }\n",
       "\n",
       "    .dataframe tbody tr th {\n",
       "        vertical-align: top;\n",
       "    }\n",
       "\n",
       "    .dataframe thead th {\n",
       "        text-align: right;\n",
       "    }\n",
       "</style>\n",
       "<table border=\"1\" class=\"dataframe\">\n",
       "  <thead>\n",
       "    <tr style=\"text-align: right;\">\n",
       "      <th></th>\n",
       "      <th>transactionId</th>\n",
       "      <th>visitorId</th>\n",
       "      <th>date</th>\n",
       "      <th>revenue</th>\n",
       "      <th>group</th>\n",
       "    </tr>\n",
       "  </thead>\n",
       "  <tbody>\n",
       "    <tr>\n",
       "      <th>0</th>\n",
       "      <td>3667963787</td>\n",
       "      <td>3312258926</td>\n",
       "      <td>2019-08-15</td>\n",
       "      <td>1650</td>\n",
       "      <td>B</td>\n",
       "    </tr>\n",
       "    <tr>\n",
       "      <th>1</th>\n",
       "      <td>2804400009</td>\n",
       "      <td>3642806036</td>\n",
       "      <td>2019-08-15</td>\n",
       "      <td>730</td>\n",
       "      <td>B</td>\n",
       "    </tr>\n",
       "  </tbody>\n",
       "</table>\n",
       "</div>"
      ],
      "text/plain": [
       "   transactionId   visitorId        date  revenue group\n",
       "0     3667963787  3312258926  2019-08-15     1650     B\n",
       "1     2804400009  3642806036  2019-08-15      730     B"
      ]
     },
     "metadata": {},
     "output_type": "display_data"
    },
    {
     "data": {
      "text/html": [
       "<div>\n",
       "<style scoped>\n",
       "    .dataframe tbody tr th:only-of-type {\n",
       "        vertical-align: middle;\n",
       "    }\n",
       "\n",
       "    .dataframe tbody tr th {\n",
       "        vertical-align: top;\n",
       "    }\n",
       "\n",
       "    .dataframe thead th {\n",
       "        text-align: right;\n",
       "    }\n",
       "</style>\n",
       "<table border=\"1\" class=\"dataframe\">\n",
       "  <thead>\n",
       "    <tr style=\"text-align: right;\">\n",
       "      <th></th>\n",
       "      <th>date</th>\n",
       "      <th>group</th>\n",
       "      <th>visitors</th>\n",
       "    </tr>\n",
       "  </thead>\n",
       "  <tbody>\n",
       "    <tr>\n",
       "      <th>0</th>\n",
       "      <td>2019-08-01</td>\n",
       "      <td>A</td>\n",
       "      <td>719</td>\n",
       "    </tr>\n",
       "    <tr>\n",
       "      <th>1</th>\n",
       "      <td>2019-08-02</td>\n",
       "      <td>A</td>\n",
       "      <td>619</td>\n",
       "    </tr>\n",
       "  </tbody>\n",
       "</table>\n",
       "</div>"
      ],
      "text/plain": [
       "         date group  visitors\n",
       "0  2019-08-01     A       719\n",
       "1  2019-08-02     A       619"
      ]
     },
     "metadata": {},
     "output_type": "display_data"
    }
   ],
   "source": [
    "# откроем файлы\n",
    "orders = pd.read_csv(r'C:\\Users\\Юлия\\Desktop\\projects\\orders.csv')\n",
    "display(orders.head(2))\n",
    "\n",
    "visitors = pd.read_csv(r'C:\\Users\\Юлия\\Desktop\\projects\\visitors.csv')\n",
    "display(visitors.head(2))"
   ]
  },
  {
   "cell_type": "code",
   "execution_count": 10,
   "metadata": {},
   "outputs": [
    {
     "name": "stdout",
     "output_type": "stream",
     "text": [
      "<class 'pandas.core.frame.DataFrame'>\n",
      "RangeIndex: 1197 entries, 0 to 1196\n",
      "Data columns (total 5 columns):\n",
      " #   Column         Non-Null Count  Dtype \n",
      "---  ------         --------------  ----- \n",
      " 0   transactionId  1197 non-null   int64 \n",
      " 1   visitorId      1197 non-null   int64 \n",
      " 2   date           1197 non-null   object\n",
      " 3   revenue        1197 non-null   int64 \n",
      " 4   group          1197 non-null   object\n",
      "dtypes: int64(3), object(2)\n",
      "memory usage: 46.9+ KB\n"
     ]
    },
    {
     "data": {
      "text/plain": [
       "None"
      ]
     },
     "metadata": {},
     "output_type": "display_data"
    },
    {
     "name": "stdout",
     "output_type": "stream",
     "text": [
      "<class 'pandas.core.frame.DataFrame'>\n",
      "RangeIndex: 62 entries, 0 to 61\n",
      "Data columns (total 3 columns):\n",
      " #   Column    Non-Null Count  Dtype \n",
      "---  ------    --------------  ----- \n",
      " 0   date      62 non-null     object\n",
      " 1   group     62 non-null     object\n",
      " 2   visitors  62 non-null     int64 \n",
      "dtypes: int64(1), object(2)\n",
      "memory usage: 1.6+ KB\n"
     ]
    },
    {
     "data": {
      "text/plain": [
       "None"
      ]
     },
     "metadata": {},
     "output_type": "display_data"
    }
   ],
   "source": [
    "# посмотрим общую информацию\n",
    "display(orders.info())\n",
    "display(visitors.info())"
   ]
  },
  {
   "cell_type": "code",
   "execution_count": 11,
   "metadata": {},
   "outputs": [
    {
     "data": {
      "text/plain": [
       "dtype('<M8[ns]')"
      ]
     },
     "execution_count": 11,
     "metadata": {},
     "output_type": "execute_result"
    }
   ],
   "source": [
    "# изменим тип данных в столбце с датой таблицы orders\n",
    "orders['date'] = orders['date'].map(\n",
    "    lambda x: dt.datetime.strptime(x, '%Y-%m-%d')\n",
    ")\n",
    "orders.date.dtype"
   ]
  },
  {
   "cell_type": "code",
   "execution_count": 12,
   "metadata": {},
   "outputs": [
    {
     "data": {
      "text/plain": [
       "dtype('<M8[ns]')"
      ]
     },
     "execution_count": 12,
     "metadata": {},
     "output_type": "execute_result"
    }
   ],
   "source": [
    "# изменим тип данных в столбце с датой таблицы visitors\n",
    "visitors['date'] = visitors['date'].map(\n",
    "    lambda x: dt.datetime.strptime(x, '%Y-%m-%d')\n",
    ")\n",
    "visitors.date.dtype"
   ]
  },
  {
   "cell_type": "code",
   "execution_count": 13,
   "metadata": {},
   "outputs": [
    {
     "data": {
      "text/plain": [
       "0"
      ]
     },
     "metadata": {},
     "output_type": "display_data"
    },
    {
     "data": {
      "text/plain": [
       "0"
      ]
     },
     "metadata": {},
     "output_type": "display_data"
    }
   ],
   "source": [
    "# посмотрим дубликаты\n",
    "display(orders.duplicated().sum())\n",
    "display(visitors.duplicated().sum())"
   ]
  },
  {
   "cell_type": "code",
   "execution_count": 14,
   "metadata": {
    "scrolled": true
   },
   "outputs": [
    {
     "data": {
      "text/plain": [
       "transactionId    0\n",
       "visitorId        0\n",
       "date             0\n",
       "revenue          0\n",
       "group            0\n",
       "dtype: int64"
      ]
     },
     "metadata": {},
     "output_type": "display_data"
    },
    {
     "data": {
      "text/plain": [
       "date        0\n",
       "group       0\n",
       "visitors    0\n",
       "dtype: int64"
      ]
     },
     "metadata": {},
     "output_type": "display_data"
    }
   ],
   "source": [
    "# посмотрим пропуски\n",
    "display(orders.isna().sum())\n",
    "display(visitors.isna().sum())"
   ]
  },
  {
   "cell_type": "code",
   "execution_count": 15,
   "metadata": {
    "scrolled": false
   },
   "outputs": [],
   "source": [
    "# проверим не попали ли пользователи в несколько групп сразу\n",
    "user_AB = orders.groupby('visitorId', as_index=False)['group'].nunique()\n",
    "user_AB = user_AB.loc[user_AB['group'] > 1]\n",
    "user_AB_list = user_AB.visitorId.unique()"
   ]
  },
  {
   "cell_type": "code",
   "execution_count": 16,
   "metadata": {},
   "outputs": [
    {
     "data": {
      "text/plain": [
       "'% выручки:'"
      ]
     },
     "metadata": {},
     "output_type": "display_data"
    },
    {
     "data": {
      "text/plain": [
       "15.6"
      ]
     },
     "metadata": {},
     "output_type": "display_data"
    },
    {
     "data": {
      "text/plain": [
       "'% пользователей:'"
      ]
     },
     "metadata": {},
     "output_type": "display_data"
    },
    {
     "data": {
      "text/plain": [
       "5.6"
      ]
     },
     "metadata": {},
     "output_type": "display_data"
    },
    {
     "data": {
      "text/plain": [
       "group_name\n",
       "A    720147\n",
       "B    838788\n",
       "Name: revenue, dtype: int64"
      ]
     },
     "execution_count": 16,
     "metadata": {},
     "output_type": "execute_result"
    }
   ],
   "source": [
    "buy = user_AB.merge(orders, on='visitorId', how='left', suffixes=['_count', '_name'])\n",
    "\n",
    "# проверим, сколько процентов выручки заказа составляют пользователи обеих групп от общей сумму выручки\n",
    "display('% выручки:' ,round((buy.revenue.sum()/orders.revenue.sum()*100),1))\n",
    "\n",
    "# проверим, сколько процентов пользователи обеих групп составляют от общего чиса пользователей\n",
    "display('% пользователей:' ,round((buy.visitorId.nunique()/orders.visitorId.nunique()*100),1))\n",
    "\n",
    "# посмотрим какая сумма выручки относится к какой группе среди этих пользователей\n",
    "buy.groupby('group_name')['revenue'].sum()"
   ]
  },
  {
   "cell_type": "markdown",
   "metadata": {},
   "source": [
    "Даже не смотря на то, что процент от общей выучки ошибочно попавших в обе группы пользователей составляет 15%, общая разница распределенеия сумм выручки в разрезе групп не сильно велика. И, принимая во внимание, что это только 6% пользователей от общего числа, исключим некоректно попавших пользователей в обе группы теста из исследования."
   ]
  },
  {
   "cell_type": "code",
   "execution_count": 17,
   "metadata": {},
   "outputs": [
    {
     "name": "stdout",
     "output_type": "stream",
     "text": [
      "<class 'pandas.core.frame.DataFrame'>\n",
      "RangeIndex: 1197 entries, 0 to 1196\n",
      "Data columns (total 5 columns):\n",
      " #   Column         Non-Null Count  Dtype         \n",
      "---  ------         --------------  -----         \n",
      " 0   transactionId  1197 non-null   int64         \n",
      " 1   visitorId      1197 non-null   int64         \n",
      " 2   date           1197 non-null   datetime64[ns]\n",
      " 3   revenue        1197 non-null   int64         \n",
      " 4   group          1197 non-null   object        \n",
      "dtypes: datetime64[ns](1), int64(3), object(1)\n",
      "memory usage: 46.9+ KB\n"
     ]
    },
    {
     "data": {
      "text/plain": [
       "None"
      ]
     },
     "metadata": {},
     "output_type": "display_data"
    },
    {
     "name": "stdout",
     "output_type": "stream",
     "text": [
      "<class 'pandas.core.frame.DataFrame'>\n",
      "Int64Index: 1016 entries, 0 to 1196\n",
      "Data columns (total 5 columns):\n",
      " #   Column         Non-Null Count  Dtype         \n",
      "---  ------         --------------  -----         \n",
      " 0   transactionId  1016 non-null   int64         \n",
      " 1   visitorId      1016 non-null   int64         \n",
      " 2   date           1016 non-null   datetime64[ns]\n",
      " 3   revenue        1016 non-null   int64         \n",
      " 4   group          1016 non-null   object        \n",
      "dtypes: datetime64[ns](1), int64(3), object(1)\n",
      "memory usage: 47.6+ KB\n"
     ]
    }
   ],
   "source": [
    "# сохраним старые данные \n",
    "orders_before = orders.copy()\n",
    "# удалим пользователей из данных, которые оказались в 2х группах сразу\n",
    "orders = orders.query('visitorId not in @user_AB_list')\n",
    "display(orders_before.info())\n",
    "orders.info()"
   ]
  },
  {
   "cell_type": "markdown",
   "metadata": {},
   "source": [
    "### Построим график кумулятивной выручки по группам"
   ]
  },
  {
   "cell_type": "code",
   "execution_count": 18,
   "metadata": {},
   "outputs": [
    {
     "data": {
      "text/html": [
       "<div>\n",
       "<style scoped>\n",
       "    .dataframe tbody tr th:only-of-type {\n",
       "        vertical-align: middle;\n",
       "    }\n",
       "\n",
       "    .dataframe tbody tr th {\n",
       "        vertical-align: top;\n",
       "    }\n",
       "\n",
       "    .dataframe thead th {\n",
       "        text-align: right;\n",
       "    }\n",
       "</style>\n",
       "<table border=\"1\" class=\"dataframe\">\n",
       "  <thead>\n",
       "    <tr style=\"text-align: right;\">\n",
       "      <th></th>\n",
       "      <th>date</th>\n",
       "      <th>group</th>\n",
       "    </tr>\n",
       "  </thead>\n",
       "  <tbody>\n",
       "    <tr>\n",
       "      <th>0</th>\n",
       "      <td>2019-08-15</td>\n",
       "      <td>B</td>\n",
       "    </tr>\n",
       "    <tr>\n",
       "      <th>7</th>\n",
       "      <td>2019-08-15</td>\n",
       "      <td>A</td>\n",
       "    </tr>\n",
       "    <tr>\n",
       "      <th>45</th>\n",
       "      <td>2019-08-16</td>\n",
       "      <td>A</td>\n",
       "    </tr>\n",
       "    <tr>\n",
       "      <th>47</th>\n",
       "      <td>2019-08-16</td>\n",
       "      <td>B</td>\n",
       "    </tr>\n",
       "    <tr>\n",
       "      <th>55</th>\n",
       "      <td>2019-08-01</td>\n",
       "      <td>A</td>\n",
       "    </tr>\n",
       "  </tbody>\n",
       "</table>\n",
       "</div>"
      ],
      "text/plain": [
       "         date group\n",
       "0  2019-08-15     B\n",
       "7  2019-08-15     A\n",
       "45 2019-08-16     A\n",
       "47 2019-08-16     B\n",
       "55 2019-08-01     A"
      ]
     },
     "execution_count": 18,
     "metadata": {},
     "output_type": "execute_result"
    }
   ],
   "source": [
    "# создаем массив уникальных пар значений дат и групп теста\n",
    "datesGroups = orders[['date','group']].drop_duplicates()\n",
    "datesGroups.head()"
   ]
  },
  {
   "cell_type": "code",
   "execution_count": 19,
   "metadata": {},
   "outputs": [
    {
     "data": {
      "text/html": [
       "<div>\n",
       "<style scoped>\n",
       "    .dataframe tbody tr th:only-of-type {\n",
       "        vertical-align: middle;\n",
       "    }\n",
       "\n",
       "    .dataframe tbody tr th {\n",
       "        vertical-align: top;\n",
       "    }\n",
       "\n",
       "    .dataframe thead th {\n",
       "        text-align: right;\n",
       "    }\n",
       "</style>\n",
       "<table border=\"1\" class=\"dataframe\">\n",
       "  <thead>\n",
       "    <tr style=\"text-align: right;\">\n",
       "      <th></th>\n",
       "      <th>date</th>\n",
       "      <th>group</th>\n",
       "      <th>transactionId</th>\n",
       "      <th>visitorId</th>\n",
       "      <th>revenue</th>\n",
       "    </tr>\n",
       "  </thead>\n",
       "  <tbody>\n",
       "    <tr>\n",
       "      <th>55</th>\n",
       "      <td>2019-08-01</td>\n",
       "      <td>A</td>\n",
       "      <td>23</td>\n",
       "      <td>19</td>\n",
       "      <td>142779</td>\n",
       "    </tr>\n",
       "    <tr>\n",
       "      <th>66</th>\n",
       "      <td>2019-08-01</td>\n",
       "      <td>B</td>\n",
       "      <td>17</td>\n",
       "      <td>17</td>\n",
       "      <td>59758</td>\n",
       "    </tr>\n",
       "    <tr>\n",
       "      <th>175</th>\n",
       "      <td>2019-08-02</td>\n",
       "      <td>A</td>\n",
       "      <td>42</td>\n",
       "      <td>36</td>\n",
       "      <td>234381</td>\n",
       "    </tr>\n",
       "    <tr>\n",
       "      <th>173</th>\n",
       "      <td>2019-08-02</td>\n",
       "      <td>B</td>\n",
       "      <td>40</td>\n",
       "      <td>39</td>\n",
       "      <td>221801</td>\n",
       "    </tr>\n",
       "    <tr>\n",
       "      <th>291</th>\n",
       "      <td>2019-08-03</td>\n",
       "      <td>A</td>\n",
       "      <td>66</td>\n",
       "      <td>60</td>\n",
       "      <td>346854</td>\n",
       "    </tr>\n",
       "  </tbody>\n",
       "</table>\n",
       "</div>"
      ],
      "text/plain": [
       "          date group  transactionId  visitorId  revenue\n",
       "55  2019-08-01     A             23         19   142779\n",
       "66  2019-08-01     B             17         17    59758\n",
       "175 2019-08-02     A             42         36   234381\n",
       "173 2019-08-02     B             40         39   221801\n",
       "291 2019-08-03     A             66         60   346854"
      ]
     },
     "execution_count": 19,
     "metadata": {},
     "output_type": "execute_result"
    }
   ],
   "source": [
    "# соберём агрегированные кумулятивные по дням данные о заказах \n",
    "ordersAggregated = datesGroups.apply(\n",
    "    lambda x: orders[\n",
    "        np.logical_and(\n",
    "            orders['date'] <= x['date'], orders['group'] == x['group']\n",
    "        )\n",
    "    ].agg(\n",
    "        {\n",
    "            'date': 'max',\n",
    "            'group': 'max',\n",
    "            'transactionId': 'nunique',\n",
    "            'visitorId': 'nunique',\n",
    "            'revenue': 'sum',\n",
    "        }\n",
    "    ),\n",
    "    axis=1,\n",
    ").sort_values(by=['date', 'group'])\n",
    "\n",
    "ordersAggregated.head()"
   ]
  },
  {
   "cell_type": "code",
   "execution_count": 20,
   "metadata": {
    "scrolled": true
   },
   "outputs": [
    {
     "data": {
      "text/html": [
       "<div>\n",
       "<style scoped>\n",
       "    .dataframe tbody tr th:only-of-type {\n",
       "        vertical-align: middle;\n",
       "    }\n",
       "\n",
       "    .dataframe tbody tr th {\n",
       "        vertical-align: top;\n",
       "    }\n",
       "\n",
       "    .dataframe thead th {\n",
       "        text-align: right;\n",
       "    }\n",
       "</style>\n",
       "<table border=\"1\" class=\"dataframe\">\n",
       "  <thead>\n",
       "    <tr style=\"text-align: right;\">\n",
       "      <th></th>\n",
       "      <th>date</th>\n",
       "      <th>group</th>\n",
       "      <th>visitors</th>\n",
       "    </tr>\n",
       "  </thead>\n",
       "  <tbody>\n",
       "    <tr>\n",
       "      <th>55</th>\n",
       "      <td>2019-08-01</td>\n",
       "      <td>A</td>\n",
       "      <td>719</td>\n",
       "    </tr>\n",
       "    <tr>\n",
       "      <th>66</th>\n",
       "      <td>2019-08-01</td>\n",
       "      <td>B</td>\n",
       "      <td>713</td>\n",
       "    </tr>\n",
       "    <tr>\n",
       "      <th>175</th>\n",
       "      <td>2019-08-02</td>\n",
       "      <td>A</td>\n",
       "      <td>1338</td>\n",
       "    </tr>\n",
       "    <tr>\n",
       "      <th>173</th>\n",
       "      <td>2019-08-02</td>\n",
       "      <td>B</td>\n",
       "      <td>1294</td>\n",
       "    </tr>\n",
       "    <tr>\n",
       "      <th>291</th>\n",
       "      <td>2019-08-03</td>\n",
       "      <td>A</td>\n",
       "      <td>1845</td>\n",
       "    </tr>\n",
       "  </tbody>\n",
       "</table>\n",
       "</div>"
      ],
      "text/plain": [
       "          date group  visitors\n",
       "55  2019-08-01     A       719\n",
       "66  2019-08-01     B       713\n",
       "175 2019-08-02     A      1338\n",
       "173 2019-08-02     B      1294\n",
       "291 2019-08-03     A      1845"
      ]
     },
     "execution_count": 20,
     "metadata": {},
     "output_type": "execute_result"
    }
   ],
   "source": [
    "# получим агрегированные кумулятивные по дням данные о посетителях интернет-магазина\n",
    "visitorsAggregated = datesGroups.apply(\n",
    "    lambda x: visitors[\n",
    "        np.logical_and(\n",
    "            visitors['date'] <= x['date'], visitors['group'] == x['group']\n",
    "        )\n",
    "    ].agg({'date': 'max', 'group': 'max', 'visitors': 'sum'}),\n",
    "    axis=1,\n",
    ").sort_values(by=['date', 'group'])\n",
    "visitorsAggregated.head()"
   ]
  },
  {
   "cell_type": "code",
   "execution_count": 21,
   "metadata": {},
   "outputs": [
    {
     "data": {
      "text/html": [
       "<div>\n",
       "<style scoped>\n",
       "    .dataframe tbody tr th:only-of-type {\n",
       "        vertical-align: middle;\n",
       "    }\n",
       "\n",
       "    .dataframe tbody tr th {\n",
       "        vertical-align: top;\n",
       "    }\n",
       "\n",
       "    .dataframe thead th {\n",
       "        text-align: right;\n",
       "    }\n",
       "</style>\n",
       "<table border=\"1\" class=\"dataframe\">\n",
       "  <thead>\n",
       "    <tr style=\"text-align: right;\">\n",
       "      <th></th>\n",
       "      <th>date</th>\n",
       "      <th>group</th>\n",
       "      <th>orders</th>\n",
       "      <th>buyers</th>\n",
       "      <th>revenue</th>\n",
       "      <th>visitors</th>\n",
       "    </tr>\n",
       "  </thead>\n",
       "  <tbody>\n",
       "    <tr>\n",
       "      <th>0</th>\n",
       "      <td>2019-08-01</td>\n",
       "      <td>A</td>\n",
       "      <td>23</td>\n",
       "      <td>19</td>\n",
       "      <td>142779</td>\n",
       "      <td>719</td>\n",
       "    </tr>\n",
       "    <tr>\n",
       "      <th>1</th>\n",
       "      <td>2019-08-01</td>\n",
       "      <td>B</td>\n",
       "      <td>17</td>\n",
       "      <td>17</td>\n",
       "      <td>59758</td>\n",
       "      <td>713</td>\n",
       "    </tr>\n",
       "    <tr>\n",
       "      <th>2</th>\n",
       "      <td>2019-08-02</td>\n",
       "      <td>A</td>\n",
       "      <td>42</td>\n",
       "      <td>36</td>\n",
       "      <td>234381</td>\n",
       "      <td>1338</td>\n",
       "    </tr>\n",
       "    <tr>\n",
       "      <th>3</th>\n",
       "      <td>2019-08-02</td>\n",
       "      <td>B</td>\n",
       "      <td>40</td>\n",
       "      <td>39</td>\n",
       "      <td>221801</td>\n",
       "      <td>1294</td>\n",
       "    </tr>\n",
       "    <tr>\n",
       "      <th>4</th>\n",
       "      <td>2019-08-03</td>\n",
       "      <td>A</td>\n",
       "      <td>66</td>\n",
       "      <td>60</td>\n",
       "      <td>346854</td>\n",
       "      <td>1845</td>\n",
       "    </tr>\n",
       "  </tbody>\n",
       "</table>\n",
       "</div>"
      ],
      "text/plain": [
       "        date group  orders  buyers  revenue  visitors\n",
       "0 2019-08-01     A      23      19   142779       719\n",
       "1 2019-08-01     B      17      17    59758       713\n",
       "2 2019-08-02     A      42      36   234381      1338\n",
       "3 2019-08-02     B      40      39   221801      1294\n",
       "4 2019-08-03     A      66      60   346854      1845"
      ]
     },
     "execution_count": 21,
     "metadata": {},
     "output_type": "execute_result"
    }
   ],
   "source": [
    "# oбъединим обе таблицы в одну\n",
    "cumulativeData = ordersAggregated.merge(\n",
    "    visitorsAggregated, left_on=['date', 'group'], right_on=['date', 'group']\n",
    ")\n",
    "cumulativeData.columns = [\n",
    "    'date',\n",
    "    'group',\n",
    "    'orders',\n",
    "    'buyers',\n",
    "    'revenue',\n",
    "    'visitors',\n",
    "]\n",
    "cumulativeData.head()"
   ]
  },
  {
   "cell_type": "code",
   "execution_count": 22,
   "metadata": {},
   "outputs": [
    {
     "data": {
      "image/png": "[encoded data removed]",
      "text/plain": [
       "<Figure size 1500x500 with 1 Axes>"
      ]
     },
     "metadata": {},
     "output_type": "display_data"
    }
   ],
   "source": [
    "# создадим датафрейм с кумулятивным количеством заказов и кумулятивной выручкой по дням в группе А\n",
    "cumulativeRevenueA = cumulativeData[cumulativeData['group']=='A'][['date','revenue', 'orders']]\n",
    "\n",
    "# создадим датафрейм с кумулятивным количеством заказов и кумулятивной выручкой по дням в группе B\n",
    "cumulativeRevenueB = cumulativeData[cumulativeData['group']=='B'][['date','revenue', 'orders']]\n",
    "\n",
    "# построим график выручки группы А\n",
    "plt.plot(cumulativeRevenueA['date'], cumulativeRevenueA['revenue'], label='A')\n",
    "\n",
    "# построим график выручки группы B\n",
    "plt.plot(cumulativeRevenueB['date'], cumulativeRevenueB['revenue'], label='B')\n",
    "\n",
    "plt.legend(bbox_to_anchor=(1, 1))\n",
    "plt.gcf().set_size_inches(15, 5)\n",
    "plt.title('Кумулятивная выручка по группам') \n",
    "plt.xlabel('дата')\n",
    "plt.ylabel('выручка заказа')\n",
    "\n",
    "plt.show()"
   ]
  },
  {
   "cell_type": "markdown",
   "metadata": {},
   "source": [
    "В середине проводимого теста группа В вырвалась вперед и закрепила лидерство до конца теста. Скорее всего это свидетельствует о влиянии аномально больших заказов на результаты теста. При завершающем анализе следует их удалить."
   ]
  },
  {
   "cell_type": "markdown",
   "metadata": {},
   "source": [
    "### Построим график кумулятивного среднего чека по группам"
   ]
  },
  {
   "cell_type": "code",
   "execution_count": 23,
   "metadata": {},
   "outputs": [
    {
     "data": {
      "image/png": "[encoded data removed]",
      "text/plain": [
       "<Figure size 1500x500 with 1 Axes>"
      ]
     },
     "metadata": {},
     "output_type": "display_data"
    }
   ],
   "source": [
    "# разделим кумулятивную выручку на кумулятивное число заказов\n",
    "plt.plot(cumulativeRevenueA['date'], cumulativeRevenueA['revenue']/cumulativeRevenueA['orders'], label='A')\n",
    "plt.plot(cumulativeRevenueB['date'], cumulativeRevenueB['revenue']/cumulativeRevenueB['orders'], label='B')\n",
    "\n",
    "plt.legend(bbox_to_anchor=(1, 1))\n",
    "plt.gcf().set_size_inches(15, 5)\n",
    "plt.title('Кумулятивный средний чек по группам') \n",
    "plt.xlabel('дата')\n",
    "plt.ylabel('средний чек')\n",
    "\n",
    "plt.show()"
   ]
  },
  {
   "cell_type": "markdown",
   "metadata": {},
   "source": [
    "Средний чек в группе B значительно превышает средний чек в группе А к концу теста. Возможно, в группу B в середине теста попали крупные заказы (резкий всплеск на графике). Тогда ей нужно больше данных или дополнительный анализ выбросов, чтобы прийти к реальному среднему чеку и установиться на его уровне."
   ]
  },
  {
   "cell_type": "markdown",
   "metadata": {},
   "source": [
    "### Построим график относительного изменения кумулятивного среднего чека группы B к группе A."
   ]
  },
  {
   "cell_type": "code",
   "execution_count": 24,
   "metadata": {},
   "outputs": [
    {
     "data": {
      "image/png": "[encoded data removed]",
      "text/plain": [
       "<Figure size 1500x500 with 1 Axes>"
      ]
     },
     "metadata": {},
     "output_type": "display_data"
    }
   ],
   "source": [
    "# собирем данные в одном датафрейме\n",
    "mergedCumulativeRevenue = cumulativeRevenueA.merge(cumulativeRevenueB, on='date', how='left', suffixes=['A', 'B'])\n",
    "\n",
    "# cтроим отношение средних чеков\n",
    "plt.plot(mergedCumulativeRevenue['date'], (mergedCumulativeRevenue['revenueB']/mergedCumulativeRevenue['ordersB']) \\\n",
    "         /(mergedCumulativeRevenue['revenueA']/mergedCumulativeRevenue['ordersA'])-1)\n",
    "\n",
    "# добавим ось X\n",
    "plt.axhline(y=0, color='black', linestyle='--')\n",
    "\n",
    "plt.gcf().set_size_inches(15, 5)\n",
    "plt.title('Изменение кумулятивного среднего чека группы B к группе A') \n",
    "plt.xlabel('дата')\n",
    "plt.ylabel('изменение среднего чека')\n",
    "\n",
    "plt.show()"
   ]
  },
  {
   "cell_type": "markdown",
   "metadata": {},
   "source": [
    "Изменение среднего чека группы B к группе A сильно менялись в некоторые периоды теста. Возможно, тогда были совершены аномальные заказы, следует их найти."
   ]
  },
  {
   "cell_type": "markdown",
   "metadata": {},
   "source": [
    "### Построим график кумулятивного среднего количества заказов на посетителя по группам"
   ]
  },
  {
   "cell_type": "code",
   "execution_count": 25,
   "metadata": {},
   "outputs": [
    {
     "data": {
      "image/png": "[encoded data removed]",
      "text/plain": [
       "<Figure size 1500x500 with 1 Axes>"
      ]
     },
     "metadata": {},
     "output_type": "display_data"
    }
   ],
   "source": [
    "# посчитаем кумулятивную конверсию\n",
    "cumulativeData['conversion'] = cumulativeData['orders']/cumulativeData['visitors']\n",
    "\n",
    "# отделим данные по группе A\n",
    "cumulativeDataA = cumulativeData[cumulativeData['group']=='A']\n",
    "\n",
    "# отделим данные по группе B\n",
    "cumulativeDataB = cumulativeData[cumulativeData['group']=='B']\n",
    "\n",
    "# построим графики\n",
    "plt.plot(cumulativeDataA['date'], cumulativeDataA['conversion'], label='A')\n",
    "plt.plot(cumulativeDataB['date'], cumulativeDataB['conversion'], label='B')\n",
    "plt.legend()\n",
    "\n",
    "# зададим масштаб осей\n",
    "plt.axis([\"2019-08-01\", '2019-09-01', 0, 0.05])\n",
    "\n",
    "plt.gcf().set_size_inches(15, 5)\n",
    "plt.title('Кумулятивное среднее количество заказов на посетителя') \n",
    "plt.xlabel('дата')\n",
    "plt.ylabel('среднее количество заказов')\n",
    "\n",
    "plt.show()"
   ]
  },
  {
   "cell_type": "markdown",
   "metadata": {},
   "source": [
    "Масштаб графика изменен, чтобы наглядно посмотреть, что абсолютное значение колебания в начале и в конце теста не слишком большое:от 2% до 4%.\n",
    "Группы колебались около одного значения, но затем конверсия группы В стала расти и зафиксировалась, а конверсия группы А просела и также зафиксировалась."
   ]
  },
  {
   "cell_type": "markdown",
   "metadata": {},
   "source": [
    "### Построим график относительного изменения кумулятивного среднего количества заказов на посетителя группы B к группе A"
   ]
  },
  {
   "cell_type": "code",
   "execution_count": 26,
   "metadata": {},
   "outputs": [
    {
     "data": {
      "image/png": "[encoded data removed]",
      "text/plain": [
       "<Figure size 1500x500 with 1 Axes>"
      ]
     },
     "metadata": {},
     "output_type": "display_data"
    }
   ],
   "source": [
    "mergedCumulativeConversions = cumulativeDataA[['date','conversion']].merge(cumulativeDataB[['date','conversion']], \\\n",
    "    left_on='date', right_on='date', how='left', suffixes=['A', 'B'])\n",
    "\n",
    "plt.plot(mergedCumulativeConversions['date'], mergedCumulativeConversions['conversionB']/mergedCumulativeConversions\\\n",
    "         ['conversionA']-1, label=\"Относительный прирост конверсии группы B относительно группы A\")\n",
    "plt.legend()\n",
    "\n",
    "plt.axhline(y=0.1, color='black', linestyle='--')\n",
    "plt.axhline(y=-0.1, color='grey', linestyle='--')\n",
    "plt.axis([\"2019-08-01\", '2019-09-01', -0.3, 0.3])\n",
    "plt.gcf().set_size_inches(15, 5)\n",
    "plt.title('Относительное изменение кумулятивного среднего количества заказов на посетителя') \n",
    "plt.xlabel('дата')\n",
    "plt.ylabel('изменение количества заказов')\n",
    "\n",
    "plt.show()"
   ]
  },
  {
   "cell_type": "markdown",
   "metadata": {},
   "source": [
    "В начале теста группа B значительно лидировала относительно группы A и её конверсия зафиксировалась в районе 10% прироста относительно группы А."
   ]
  },
  {
   "cell_type": "markdown",
   "metadata": {},
   "source": [
    "### Проанализируем количество заказов по пользователям"
   ]
  },
  {
   "cell_type": "code",
   "execution_count": 27,
   "metadata": {},
   "outputs": [
    {
     "data": {
      "text/html": [
       "<div>\n",
       "<style scoped>\n",
       "    .dataframe tbody tr th:only-of-type {\n",
       "        vertical-align: middle;\n",
       "    }\n",
       "\n",
       "    .dataframe tbody tr th {\n",
       "        vertical-align: top;\n",
       "    }\n",
       "\n",
       "    .dataframe thead th {\n",
       "        text-align: right;\n",
       "    }\n",
       "</style>\n",
       "<table border=\"1\" class=\"dataframe\">\n",
       "  <thead>\n",
       "    <tr style=\"text-align: right;\">\n",
       "      <th></th>\n",
       "      <th>visitorId</th>\n",
       "      <th>orders</th>\n",
       "    </tr>\n",
       "  </thead>\n",
       "  <tbody>\n",
       "    <tr>\n",
       "      <th>908</th>\n",
       "      <td>3967698036</td>\n",
       "      <td>3</td>\n",
       "    </tr>\n",
       "    <tr>\n",
       "      <th>55</th>\n",
       "      <td>249864742</td>\n",
       "      <td>3</td>\n",
       "    </tr>\n",
       "    <tr>\n",
       "      <th>478</th>\n",
       "      <td>2108163459</td>\n",
       "      <td>3</td>\n",
       "    </tr>\n",
       "    <tr>\n",
       "      <th>687</th>\n",
       "      <td>2988190573</td>\n",
       "      <td>3</td>\n",
       "    </tr>\n",
       "    <tr>\n",
       "      <th>890</th>\n",
       "      <td>3908431265</td>\n",
       "      <td>3</td>\n",
       "    </tr>\n",
       "  </tbody>\n",
       "</table>\n",
       "</div>"
      ],
      "text/plain": [
       "      visitorId  orders\n",
       "908  3967698036       3\n",
       "55    249864742       3\n",
       "478  2108163459       3\n",
       "687  2988190573       3\n",
       "890  3908431265       3"
      ]
     },
     "execution_count": 27,
     "metadata": {},
     "output_type": "execute_result"
    }
   ],
   "source": [
    "# найдем число заказов по пользователям\n",
    "ordersByUsers = orders.groupby('visitorId', as_index=False).agg({'transactionId' : 'nunique',}) \\\n",
    "    .sort_values(by='transactionId',ascending=False)\n",
    "ordersByUsers.columns = ['visitorId', 'orders']\n",
    "ordersByUsers.head()"
   ]
  },
  {
   "cell_type": "code",
   "execution_count": 28,
   "metadata": {},
   "outputs": [
    {
     "data": {
      "image/png": "[encoded data removed]",
      "text/plain": [
       "<Figure size 640x480 with 1 Axes>"
      ]
     },
     "metadata": {},
     "output_type": "display_data"
    }
   ],
   "source": [
    "# построим точечный график количества заказов по пользователям\n",
    "# серия из чисел от 0 до количества наблюдений в ordersByUsers\n",
    "x_values = pd.Series(range(0, len(ordersByUsers)))\n",
    "plt.scatter(x_values, ordersByUsers['orders']) \n",
    "\n",
    "plt.show()"
   ]
  },
  {
   "cell_type": "markdown",
   "metadata": {},
   "source": [
    "На графике видно, что очень мало пользователей совершили больше 1 заказа, максимум совершенных заказов 3. Возможно, такие пользователи могут быть аномальными."
   ]
  },
  {
   "cell_type": "code",
   "execution_count": 29,
   "metadata": {},
   "outputs": [
    {
     "data": {
      "text/plain": [
       "array([1., 2.])"
      ]
     },
     "metadata": {},
     "output_type": "display_data"
    },
    {
     "data": {
      "text/plain": [
       "1.0"
      ]
     },
     "execution_count": 29,
     "metadata": {},
     "output_type": "execute_result"
    }
   ],
   "source": [
    "# посчитаем 95-й и 99-й перцентили количества заказов на пользователя\n",
    "percentile_orders = np.percentile(ordersByUsers['orders'], [95, 99])\n",
    "display(percentile_orders)\n",
    "\n",
    "# выберем нижнюю границу для определения аномальний\n",
    "percentile_orders = percentile_orders[0]\n",
    "percentile_orders"
   ]
  },
  {
   "cell_type": "markdown",
   "metadata": {},
   "source": [
    "Не более 5% пользователей совершали больше 1 заказа и не более 1% пользователей совершали больше 2 заказов.    \n",
    "Всего 95% пользователей сделали 1 заказ, остальных пользователей можно считать аномальными."
   ]
  },
  {
   "cell_type": "markdown",
   "metadata": {},
   "source": [
    "### Проанализируем стоимость заказов"
   ]
  },
  {
   "cell_type": "code",
   "execution_count": 30,
   "metadata": {
    "scrolled": false
   },
   "outputs": [
    {
     "data": {
      "image/png": "[encoded data removed]",
      "text/plain": [
       "<Figure size 640x480 with 1 Axes>"
      ]
     },
     "metadata": {},
     "output_type": "display_data"
    }
   ],
   "source": [
    "# построим точечный график стоимостей заказов\n",
    "x_values = pd.Series(range(0, len(orders['revenue'])))\n",
    "plt.scatter(x_values, orders['revenue']) \n",
    "\n",
    "plt.show()"
   ]
  },
  {
   "cell_type": "markdown",
   "metadata": {},
   "source": [
    "Есть 2 выброса в районе 200 тыс и 1.2 млн, их можно считать аномалиями."
   ]
  },
  {
   "cell_type": "code",
   "execution_count": 31,
   "metadata": {},
   "outputs": [
    {
     "data": {
      "text/plain": [
       "array([26785., 53904.])"
      ]
     },
     "metadata": {},
     "output_type": "display_data"
    },
    {
     "data": {
      "text/plain": [
       "26785.0"
      ]
     },
     "execution_count": 31,
     "metadata": {},
     "output_type": "execute_result"
    }
   ],
   "source": [
    "# посчитаем 95-й и 99-й перцентили стоимости заказов\n",
    "percentile_revenue = np.percentile(orders['revenue'], [95, 99])\n",
    "display(percentile_revenue)\n",
    "\n",
    "# выберем нижнюю границу для определения аномальний\n",
    "percentile_revenue = percentile_revenue[0]\n",
    "percentile_revenue"
   ]
  },
  {
   "cell_type": "markdown",
   "metadata": {},
   "source": [
    "Не более 5% заказов на сумму больше 26785 и не более 1% заказов а сумму больше 53904.\n",
    "Заказы больше 26785 можно считать аномальными."
   ]
  },
  {
   "cell_type": "markdown",
   "metadata": {},
   "source": [
    "### Рассчет статистической значимости различий в среднем количестве заказов на посетителя между группами по «сырым» данным"
   ]
  },
  {
   "cell_type": "markdown",
   "metadata": {},
   "source": [
    "Сформулируем гипотезы:    \n",
    "\n",
    "Нулевая: различий в среднем количестве заказов между группами нет.    \n",
    "Альтернативная: различия в среднем между группами есть."
   ]
  },
  {
   "cell_type": "code",
   "execution_count": 36,
   "metadata": {},
   "outputs": [
    {
     "name": "stdout",
     "output_type": "stream",
     "text": [
      "        date  ordersPerDateA  revenuePerDateA  ordersPerDateB  \\\n",
      "0 2019-08-01              23           142779              17   \n",
      "1 2019-08-02              19            91602              23   \n",
      "2 2019-08-03              24           112473              14   \n",
      "3 2019-08-04              11            41176              14   \n",
      "4 2019-08-05              22            86383              21   \n",
      "\n",
      "   revenuePerDateB  ordersCummulativeA  revenueCummulativeA  \\\n",
      "0            59758                  23               142779   \n",
      "1           162043                  42               234381   \n",
      "2            67049                  66               346854   \n",
      "3            96890                  77               388030   \n",
      "4            89908                  99               474413   \n",
      "\n",
      "   ordersCummulativeB  revenueCummulativeB  visitorsPerDateA  \\\n",
      "0                  17                59758               719   \n",
      "1                  40               221801               619   \n",
      "2                  54               288850               507   \n",
      "3                  68               385740               717   \n",
      "4                  89               475648               756   \n",
      "\n",
      "   visitorsPerDateB  visitorsCummulativeA  visitorsCummulativeB  \n",
      "0               713                   719                   713  \n",
      "1               581                  1338                  1294  \n",
      "2               509                  1845                  1803  \n",
      "3               770                  2562                  2573  \n",
      "4               707                  3318                  3280  \n"
     ]
    }
   ],
   "source": [
    "# подготовка данных\n",
    "\n",
    "visitorsADaily = visitors[visitors['group'] == 'A'][['date', 'visitors']]\n",
    "visitorsADaily.columns = ['date', 'visitorsPerDateA']\n",
    "\n",
    "visitorsACummulative = visitorsADaily.apply(\n",
    "    lambda x: visitorsADaily[visitorsADaily['date'] <= x['date']].agg(\n",
    "        {'date': 'max', 'visitorsPerDateA': 'sum'}\n",
    "    ),\n",
    "    axis=1,\n",
    ")\n",
    "visitorsACummulative.columns = ['date', 'visitorsCummulativeA']\n",
    "\n",
    "visitorsBDaily = visitors[visitors['group'] == 'B'][['date', 'visitors']]\n",
    "visitorsBDaily.columns = ['date', 'visitorsPerDateB']\n",
    "\n",
    "visitorsBCummulative = visitorsBDaily.apply(\n",
    "    lambda x: visitorsBDaily[visitorsBDaily['date'] <= x['date']].agg(\n",
    "        {'date': 'max', 'visitorsPerDateB': 'sum'}\n",
    "    ),\n",
    "    axis=1,\n",
    ")\n",
    "visitorsBCummulative.columns = ['date', 'visitorsCummulativeB']\n",
    "\n",
    "ordersADaily = (\n",
    "    orders[orders['group'] == 'A'][['date', 'transactionId', 'visitorId', 'revenue']]\n",
    "    .groupby('date', as_index=False)\n",
    "    .agg({'transactionId': pd.Series.nunique, 'revenue': 'sum'})\n",
    ")\n",
    "ordersADaily.columns = ['date', 'ordersPerDateA', 'revenuePerDateA']\n",
    "\n",
    "ordersACummulative = ordersADaily.apply(\n",
    "    lambda x: ordersADaily[ordersADaily['date'] <= x['date']].agg(\n",
    "        {'date': 'max', 'ordersPerDateA': 'sum', 'revenuePerDateA': 'sum'}\n",
    "    ),\n",
    "    axis=1,\n",
    ").sort_values(by=['date'])\n",
    "ordersACummulative.columns = [\n",
    "    'date',\n",
    "    'ordersCummulativeA',\n",
    "    'revenueCummulativeA',\n",
    "]\n",
    "\n",
    "ordersBDaily = (\n",
    "    orders[orders['group'] == 'B'][['date', 'transactionId', 'visitorId', 'revenue']]\n",
    "    .groupby('date', as_index=False)\n",
    "    .agg({'transactionId': pd.Series.nunique, 'revenue': 'sum'})\n",
    ")\n",
    "ordersBDaily.columns = ['date', 'ordersPerDateB', 'revenuePerDateB']\n",
    "\n",
    "ordersBCummulative = ordersBDaily.apply(\n",
    "    lambda x: ordersBDaily[ordersBDaily['date'] <= x['date']].agg(\n",
    "        {'date': 'max', 'ordersPerDateB': 'sum', 'revenuePerDateB': 'sum'}\n",
    "    ),\n",
    "    axis=1,\n",
    ").sort_values(by=['date'])\n",
    "ordersBCummulative.columns = [\n",
    "    'date',\n",
    "    'ordersCummulativeB',\n",
    "    'revenueCummulativeB',\n",
    "]\n",
    "\n",
    "data = (\n",
    "    ordersADaily.merge(\n",
    "        ordersBDaily, left_on='date', right_on='date', how='left'\n",
    "    )\n",
    "    .merge(ordersACummulative, left_on='date', right_on='date', how='left')\n",
    "    .merge(ordersBCummulative, left_on='date', right_on='date', how='left')\n",
    "    .merge(visitorsADaily, left_on='date', right_on='date', how='left')\n",
    "    .merge(visitorsBDaily, left_on='date', right_on='date', how='left')\n",
    "    .merge(visitorsACummulative, left_on='date', right_on='date', how='left')\n",
    "    .merge(visitorsBCummulative, left_on='date', right_on='date', how='left')\n",
    ")\n",
    "\n",
    "print(data.head(5))"
   ]
  },
  {
   "cell_type": "markdown",
   "metadata": {},
   "source": [
    "**Описание данных:**    \n",
    "\n",
    "date — дата;    \n",
    "ordersPerDateA — количество заказов в выбранную дату в группе A;    \n",
    "revenuePerDateA — суммарная выручка в выбранную дату в группе A;    \n",
    "ordersPerDateB — количество заказов в выбранную дату в группе B;    \n",
    "revenuePerDateB — суммарная выручка в выбранную дату в группе B;    \n",
    "ordersCummulativeA — суммарное число заказов до выбранной даты включительно в группе A;    \n",
    "revenueCummulativeA — суммарная выручка до выбранной даты включительно в группе A;    \n",
    "ordersCummulativeB — суммарное количество заказов до выбранной даты включительно в группе B;    \n",
    "revenueCummulativeB — суммарная выручка до выбранной даты включительно в группе B;    \n",
    "visitorsPerDateA — количество пользователей в выбранную дату в группе A;    \n",
    "visitorsPerDateB — количество пользователей в выбранную дату в группе B;    \n",
    "visitorsCummulativeA  — количество пользователей до выбранной даты включительно в группе A;    \n",
    "visitorsCummulativeB — количество пользователей до выбранной даты включительно в группе B."
   ]
  },
  {
   "cell_type": "code",
   "execution_count": 37,
   "metadata": {},
   "outputs": [
    {
     "name": "stdout",
     "output_type": "stream",
     "text": [
      "0.01102\n",
      "0.160\n"
     ]
    }
   ],
   "source": [
    "# посчитаем статистическую значимость различия в среднем количестве заказов между группами\n",
    "ordersByUsersA = (\n",
    "    orders[orders['group'] == 'A']\n",
    "    .groupby('visitorId', as_index=False)\n",
    "    .agg({'transactionId': pd.Series.nunique})\n",
    ")\n",
    "ordersByUsersA.columns = ['userId', 'orders']\n",
    "\n",
    "ordersByUsersB = (\n",
    "    orders[orders['group'] == 'B']\n",
    "    .groupby('visitorId', as_index=False)\n",
    "    .agg({'transactionId': pd.Series.nunique})\n",
    ")\n",
    "ordersByUsersB.columns = ['userId', 'orders']\n",
    "\n",
    "sampleA = pd.concat([ordersByUsersA['orders'],pd.Series(0, index=np.arange(data['visitorsPerDateA'].sum() - len(ordersByUsersA['orders'])), name='orders')],axis=0)\n",
    "\n",
    "sampleB = pd.concat([ordersByUsersB['orders'],pd.Series(0, index=np.arange(data['visitorsPerDateB'].sum() - len(ordersByUsersB['orders'])), name='orders')],axis=0)\n",
    "\n",
    "ordersByUsersA = (\n",
    "    orders[orders['group'] == 'A']\n",
    "    .groupby('visitorId', as_index=False)\n",
    "    .agg({'transactionId': pd.Series.nunique})\n",
    ")\n",
    "ordersByUsersA.columns = ['userId', 'orders']\n",
    "\n",
    "ordersByUsersB = (\n",
    "    orders[orders['group'] == 'B']\n",
    "    .groupby('visitorId', as_index=False)\n",
    "    .agg({'transactionId': pd.Series.nunique})\n",
    ")\n",
    "ordersByUsersB.columns = ['userId', 'orders']\n",
    "\n",
    "sampleA = pd.concat(\n",
    "    [\n",
    "        ordersByUsersA['orders'],\n",
    "        pd.Series(\n",
    "            0,\n",
    "            index=np.arange(\n",
    "                data['visitorsPerDateA'].sum() - len(ordersByUsersA['orders'])\n",
    "            ),\n",
    "            name='orders',\n",
    "        ),\n",
    "    ],\n",
    "    axis=0,\n",
    ")\n",
    "\n",
    "sampleB = pd.concat(\n",
    "    [\n",
    "        ordersByUsersB['orders'],\n",
    "        pd.Series(\n",
    "            0,\n",
    "            index=np.arange(\n",
    "                data['visitorsPerDateB'].sum() - len(ordersByUsersB['orders'])\n",
    "            ),\n",
    "            name='orders',\n",
    "        ),\n",
    "    ],\n",
    "    axis=0,\n",
    ")\n",
    "\n",
    "print(\"{0:.5f}\".format(stats.mannwhitneyu(sampleA, sampleB)[1]))\n",
    "\n",
    "print(\"{0:.3f}\".format(sampleB.mean() / sampleA.mean() - 1))"
   ]
  },
  {
   "cell_type": "markdown",
   "metadata": {},
   "source": [
    "P-value 0.01102 меньше 0.05, значит 0 гипотезу, что различий в среднем количестве заказов между группами нет, отвергаем.    \n",
    "Анализ \"сырых данных\" говорит, что в среднем количестве заказов на посетителя между группами есть статистически значимые различия. Относительный прирост среднего группы В к конверсии группы А сотавил 16%."
   ]
  },
  {
   "cell_type": "markdown",
   "metadata": {},
   "source": [
    "### Рассчет статистической значимости различий в среднем чеке заказа между группами по «сырым» данным"
   ]
  },
  {
   "cell_type": "markdown",
   "metadata": {},
   "source": [
    "Сформулируем гипотезы:    \n",
    "\n",
    "Нулевая: различий в среднем чеке заказа между группами нет.    \n",
    "Альтернативная: различия в среднем между группами есть."
   ]
  },
  {
   "cell_type": "code",
   "execution_count": 38,
   "metadata": {},
   "outputs": [
    {
     "data": {
      "text/plain": [
       "'0.829'"
      ]
     },
     "metadata": {},
     "output_type": "display_data"
    },
    {
     "data": {
      "text/plain": [
       "'0.287'"
      ]
     },
     "metadata": {},
     "output_type": "display_data"
    }
   ],
   "source": [
    "display('{0:.3f}'.format(stats.mannwhitneyu(orders[orders['group']=='A']['revenue'], orders[orders['group']=='B']['revenue'])[1]))\n",
    "display('{0:.3f}'.format(orders[orders['group']=='B']['revenue'].mean()/orders[orders['group']=='A']['revenue'].mean()-1))"
   ]
  },
  {
   "cell_type": "markdown",
   "metadata": {},
   "source": [
    "P-value больше 0.05, значит 0 гипотезу, что различий в среднем чеке заказа между группами нет, не отвергаем.    \n",
    "Относительный прирост среднего группы В к конверсии группы А сотавил 28,7%.\n",
    "Стоить провести исследование, исключив аномалии, возможно выбросы сильно искажают картину, что влияет на различие в среднем чеке."
   ]
  },
  {
   "cell_type": "markdown",
   "metadata": {},
   "source": [
    "### Обработка аномалий"
   ]
  },
  {
   "cell_type": "code",
   "execution_count": 39,
   "metadata": {},
   "outputs": [
    {
     "name": "stdout",
     "output_type": "stream",
     "text": [
      "568     113298937\n",
      "1099    148427295\n",
      "928     204675465\n",
      "33      249864742\n",
      "684     358944393\n",
      "dtype: int64\n"
     ]
    }
   ],
   "source": [
    "# создадим  список аномальных пользователей\n",
    "usersWithManyOrders = pd.concat(\n",
    "    [\n",
    "        ordersByUsersA.query('orders > @percentile_orders')['userId'],\n",
    "        ordersByUsersB.query('orders > @percentile_orders')['userId'],\n",
    "    ],\n",
    "    axis=0,\n",
    ")\n",
    "usersWithExpensiveOrders = orders.query('revenue > @percentile_revenue')['visitorId']\n",
    "abnormalUsers = (\n",
    "    pd.concat([usersWithManyOrders, usersWithExpensiveOrders], axis=0)\n",
    "    .drop_duplicates()\n",
    "    .sort_values()\n",
    ")\n",
    "print(abnormalUsers.head(5))"
   ]
  },
  {
   "cell_type": "markdown",
   "metadata": {},
   "source": [
    "### Рассчет статистической значимости различий в среднем количестве заказов на посетителя между группами по «очищенным» данным"
   ]
  },
  {
   "cell_type": "markdown",
   "metadata": {},
   "source": [
    "Сформулируем гипотезы:    \n",
    "\n",
    "Нулевая: различий в среднем количестве заказов между группами нет.    \n",
    "Альтернативная: различия в среднем между группами есть."
   ]
  },
  {
   "cell_type": "code",
   "execution_count": 40,
   "metadata": {},
   "outputs": [
    {
     "name": "stdout",
     "output_type": "stream",
     "text": [
      "0.01593\n",
      "0.174\n"
     ]
    }
   ],
   "source": [
    "sampleAFiltered = pd.concat(\n",
    "    [\n",
    "        ordersByUsersA[\n",
    "            np.logical_not(ordersByUsersA['userId'].isin(abnormalUsers))\n",
    "        ]['orders'],\n",
    "        pd.Series(\n",
    "            0,\n",
    "            index=np.arange(\n",
    "                data['visitorsPerDateA'].sum() - len(ordersByUsersA['orders'])\n",
    "            ),\n",
    "            name='orders',\n",
    "        ),\n",
    "    ],\n",
    "    axis=0,\n",
    ")\n",
    "\n",
    "sampleBFiltered = pd.concat(\n",
    "    [\n",
    "        ordersByUsersB[\n",
    "            np.logical_not(ordersByUsersB['userId'].isin(abnormalUsers))\n",
    "        ]['orders'],\n",
    "        pd.Series(\n",
    "            0,\n",
    "            index=np.arange(\n",
    "                data['visitorsPerDateB'].sum() - len(ordersByUsersB['orders'])\n",
    "            ),\n",
    "            name='orders',\n",
    "        ),\n",
    "    ],\n",
    "    axis=0,\n",
    ")\n",
    "\n",
    "print('{0:.5f}'.format(stats.mannwhitneyu(sampleAFiltered, sampleBFiltered)[1]))\n",
    "print('{0:.3f}'.format(sampleBFiltered.mean()/sampleAFiltered.mean()-1))"
   ]
  },
  {
   "cell_type": "markdown",
   "metadata": {},
   "source": [
    "Итог исследования практически не отличается от изначального исследования по «сырым» данным.    \n",
    "P-value 0.01593 меньше 0.05, значит 0 гипотезу, что различий в среднем количестве заказов между группами нет, отвергаем.\n",
    "Относительный прирост среднего группы В к конверсии группы А чуть выше «сырых» данных и сотавил 17,4%.    \n",
    "Сегмент В значительно лучше сегмента А."
   ]
  },
  {
   "cell_type": "markdown",
   "metadata": {},
   "source": [
    "### Рассчет статистической значимости различий в среднем чеке заказа между группами по «очищенным» данным"
   ]
  },
  {
   "cell_type": "markdown",
   "metadata": {},
   "source": [
    "Сформулируем гипотезы:    \n",
    "\n",
    "Нулевая: различий в среднем чеке заказа между группами нет.    \n",
    "Альтернативная: различия в среднем между группами есть."
   ]
  },
  {
   "cell_type": "code",
   "execution_count": 41,
   "metadata": {},
   "outputs": [
    {
     "data": {
      "text/plain": [
       "'0.727'"
      ]
     },
     "metadata": {},
     "output_type": "display_data"
    },
    {
     "data": {
      "text/plain": [
       "'-0.034'"
      ]
     },
     "metadata": {},
     "output_type": "display_data"
    }
   ],
   "source": [
    "display(\n",
    "    '{0:.3f}'.format(\n",
    "        stats.mannwhitneyu(\n",
    "            orders[\n",
    "                np.logical_and(\n",
    "                    orders['group'] == 'A',\n",
    "                    np.logical_not(orders['visitorId'].isin(abnormalUsers)),\n",
    "                )\n",
    "            ]['revenue'],\n",
    "            orders[\n",
    "                np.logical_and(\n",
    "                    orders['group'] == 'B',\n",
    "                    np.logical_not(orders['visitorId'].isin(abnormalUsers)),\n",
    "                )\n",
    "            ]['revenue'],\n",
    "        )[1]\n",
    "    )\n",
    ")\n",
    "\n",
    "display(\n",
    "    \"{0:.3f}\".format(\n",
    "        orders[\n",
    "            np.logical_and(\n",
    "                orders['group'] == 'B',\n",
    "                np.logical_not(orders['visitorId'].isin(abnormalUsers)),\n",
    "            )\n",
    "        ]['revenue'].mean()\n",
    "        / orders[\n",
    "            np.logical_and(\n",
    "                orders['group'] == 'A',\n",
    "                np.logical_not(orders['visitorId'].isin(abnormalUsers)),\n",
    "            )\n",
    "        ]['revenue'].mean()\n",
    "        - 1\n",
    "    )\n",
    ")"
   ]
  },
  {
   "cell_type": "markdown",
   "metadata": {},
   "source": [
    "Итог исследования отличается от изначального исследования по «сырым» данным.    \n",
    "P-value также больше 0.05, 0 гипотезу, что различий в среднем чеке заказа между группами нет, не отвергаем.\n",
    "Относительный прирост среднего группы В к конверсии группы А отрицательный и сотавил - 3,4% (в «сырых» данных прирост был положительный и составил 28,7%)."
   ]
  },
  {
   "cell_type": "markdown",
   "metadata": {},
   "source": [
    "## Вывод"
   ]
  },
  {
   "cell_type": "markdown",
   "metadata": {},
   "source": [
    "**Следует остановить тест и зафиксировать победу группы В.**\n",
    "\n",
    "Аргументы и рекомендации:    \n",
    "\n",
    "1. Сегмент В лучше сегмента А по среднему количеству заказов на 16% до фильтрации аномалий и 17,4% после. Гипотеза, что различий в среднем количестве заказов между группами нет, отвергнута;\n",
    "2. График различия среднего количества заказов между группами сообщает, что результаты группы B лучше группы A. Конверсия группы В зафиксировалась в районе 10% прироста относительно группы А с середины и до конца теста;\n",
    "3. До фильтрации аномалий относительный прирост среднего группы В к конверсии группы А был 28,7%. А после фильтрации аномалий стал отрицательный и составил 3,4%. Гипотеза, что различий в среднем чеке заказа между группами нет, не отвергнута. Следовательно, стоит уделить этому особое внимание и сделать упор на увеличение среднего чека пользователя."
   ]
  }
 ],
 "metadata": {
  "ExecuteTimeLog": [
   {
    "duration": 1396,
    "start_time": "2023-01-17T13:10:31.392Z"
   },
   {
    "duration": 105,
    "start_time": "2023-01-17T13:10:51.766Z"
   },
   {
    "duration": 43,
    "start_time": "2023-01-17T13:13:08.201Z"
   },
   {
    "duration": 4,
    "start_time": "2023-01-17T13:13:21.278Z"
   },
   {
    "duration": 6,
    "start_time": "2023-01-17T13:13:48.352Z"
   },
   {
    "duration": 13,
    "start_time": "2023-01-17T13:14:20.159Z"
   },
   {
    "duration": 6,
    "start_time": "2023-01-17T13:15:01.419Z"
   },
   {
    "duration": 4,
    "start_time": "2023-01-17T13:15:23.560Z"
   },
   {
    "duration": 147,
    "start_time": "2023-01-17T13:15:24.646Z"
   },
   {
    "duration": 31,
    "start_time": "2023-01-17T13:15:27.676Z"
   },
   {
    "duration": 4,
    "start_time": "2023-01-17T13:15:28.055Z"
   },
   {
    "duration": 6,
    "start_time": "2023-01-17T13:15:28.490Z"
   },
   {
    "duration": 11,
    "start_time": "2023-01-17T13:15:28.949Z"
   },
   {
    "duration": 6,
    "start_time": "2023-01-17T13:15:34.529Z"
   },
   {
    "duration": 8,
    "start_time": "2023-01-17T13:15:56.480Z"
   },
   {
    "duration": 18,
    "start_time": "2023-01-17T13:20:49.360Z"
   },
   {
    "duration": 13,
    "start_time": "2023-01-17T13:23:12.383Z"
   },
   {
    "duration": 14,
    "start_time": "2023-01-17T13:30:40.446Z"
   },
   {
    "duration": 97,
    "start_time": "2023-01-17T13:31:13.576Z"
   },
   {
    "duration": 9,
    "start_time": "2023-01-17T13:31:16.418Z"
   },
   {
    "duration": 9,
    "start_time": "2023-01-17T13:31:20.347Z"
   },
   {
    "duration": 10,
    "start_time": "2023-01-17T13:31:29.524Z"
   },
   {
    "duration": 31,
    "start_time": "2023-01-17T13:36:49.759Z"
   },
   {
    "duration": 182,
    "start_time": "2023-01-17T13:50:13.121Z"
   },
   {
    "duration": 26,
    "start_time": "2023-01-17T13:51:18.435Z"
   },
   {
    "duration": 214,
    "start_time": "2023-01-17T13:52:48.261Z"
   },
   {
    "duration": 9,
    "start_time": "2023-01-17T13:53:38.056Z"
   },
   {
    "duration": 208,
    "start_time": "2023-01-17T13:53:44.281Z"
   },
   {
    "duration": 212,
    "start_time": "2023-01-17T13:54:54.332Z"
   },
   {
    "duration": 301,
    "start_time": "2023-01-17T13:55:09.088Z"
   },
   {
    "duration": 240,
    "start_time": "2023-01-17T15:26:32.505Z"
   },
   {
    "duration": 213,
    "start_time": "2023-01-17T15:26:53.575Z"
   },
   {
    "duration": 236,
    "start_time": "2023-01-17T15:36:46.744Z"
   },
   {
    "duration": 59,
    "start_time": "2023-01-17T20:20:34.444Z"
   },
   {
    "duration": 884,
    "start_time": "2023-01-17T20:20:44.855Z"
   },
   {
    "duration": 75,
    "start_time": "2023-01-17T20:20:45.742Z"
   },
   {
    "duration": 6,
    "start_time": "2023-01-17T20:20:45.819Z"
   },
   {
    "duration": 15,
    "start_time": "2023-01-17T20:20:45.827Z"
   },
   {
    "duration": 11,
    "start_time": "2023-01-17T20:20:45.844Z"
   },
   {
    "duration": 19,
    "start_time": "2023-01-17T20:20:45.858Z"
   },
   {
    "duration": 23,
    "start_time": "2023-01-17T20:20:45.880Z"
   },
   {
    "duration": 14,
    "start_time": "2023-01-17T20:20:45.905Z"
   },
   {
    "duration": 136,
    "start_time": "2023-01-17T20:20:45.921Z"
   },
   {
    "duration": 29,
    "start_time": "2023-01-17T20:20:46.060Z"
   },
   {
    "duration": 429,
    "start_time": "2023-01-17T20:20:46.091Z"
   },
   {
    "duration": 0,
    "start_time": "2023-01-17T20:20:46.522Z"
   },
   {
    "duration": 0,
    "start_time": "2023-01-17T20:20:46.523Z"
   },
   {
    "duration": 4,
    "start_time": "2023-01-17T20:20:51.790Z"
   },
   {
    "duration": 27,
    "start_time": "2023-01-17T20:20:52.615Z"
   },
   {
    "duration": 6,
    "start_time": "2023-01-17T20:20:52.829Z"
   },
   {
    "duration": 15,
    "start_time": "2023-01-17T20:20:53.046Z"
   },
   {
    "duration": 8,
    "start_time": "2023-01-17T20:20:53.262Z"
   },
   {
    "duration": 12,
    "start_time": "2023-01-17T20:20:53.685Z"
   },
   {
    "duration": 16,
    "start_time": "2023-01-17T20:20:53.921Z"
   },
   {
    "duration": 14,
    "start_time": "2023-01-17T20:20:54.591Z"
   },
   {
    "duration": 61,
    "start_time": "2023-01-17T20:20:55.697Z"
   },
   {
    "duration": 30,
    "start_time": "2023-01-17T20:20:55.892Z"
   },
   {
    "duration": 294,
    "start_time": "2023-01-17T20:20:56.110Z"
   },
   {
    "duration": 0,
    "start_time": "2023-01-17T20:20:56.406Z"
   },
   {
    "duration": 30,
    "start_time": "2023-01-17T20:21:16.341Z"
   },
   {
    "duration": 300,
    "start_time": "2023-01-17T20:22:04.767Z"
   },
   {
    "duration": 343,
    "start_time": "2023-01-17T20:22:32.893Z"
   },
   {
    "duration": 298,
    "start_time": "2023-01-17T20:22:40.739Z"
   },
   {
    "duration": 291,
    "start_time": "2023-01-17T20:26:21.742Z"
   },
   {
    "duration": 321,
    "start_time": "2023-01-17T20:28:51.318Z"
   },
   {
    "duration": 294,
    "start_time": "2023-01-17T20:29:09.767Z"
   },
   {
    "duration": 837,
    "start_time": "2023-01-17T20:29:34.730Z"
   },
   {
    "duration": 40,
    "start_time": "2023-01-17T20:29:35.570Z"
   },
   {
    "duration": 7,
    "start_time": "2023-01-17T20:29:35.612Z"
   },
   {
    "duration": 18,
    "start_time": "2023-01-17T20:29:35.621Z"
   },
   {
    "duration": 15,
    "start_time": "2023-01-17T20:29:35.642Z"
   },
   {
    "duration": 18,
    "start_time": "2023-01-17T20:29:35.660Z"
   },
   {
    "duration": 21,
    "start_time": "2023-01-17T20:29:35.681Z"
   },
   {
    "duration": 19,
    "start_time": "2023-01-17T20:29:35.705Z"
   },
   {
    "duration": 77,
    "start_time": "2023-01-17T20:29:35.726Z"
   },
   {
    "duration": 29,
    "start_time": "2023-01-17T20:29:35.806Z"
   },
   {
    "duration": 19,
    "start_time": "2023-01-17T20:29:35.837Z"
   },
   {
    "duration": 80,
    "start_time": "2023-01-17T20:29:35.858Z"
   },
   {
    "duration": 5,
    "start_time": "2023-01-17T20:29:40.878Z"
   },
   {
    "duration": 31,
    "start_time": "2023-01-17T20:29:41.680Z"
   },
   {
    "duration": 6,
    "start_time": "2023-01-17T20:29:41.834Z"
   },
   {
    "duration": 12,
    "start_time": "2023-01-17T20:29:42.022Z"
   },
   {
    "duration": 7,
    "start_time": "2023-01-17T20:29:42.209Z"
   },
   {
    "duration": 10,
    "start_time": "2023-01-17T20:29:42.570Z"
   },
   {
    "duration": 12,
    "start_time": "2023-01-17T20:29:42.756Z"
   },
   {
    "duration": 16,
    "start_time": "2023-01-17T20:29:43.331Z"
   },
   {
    "duration": 63,
    "start_time": "2023-01-17T20:29:44.379Z"
   },
   {
    "duration": 28,
    "start_time": "2023-01-17T20:29:44.566Z"
   },
   {
    "duration": 15,
    "start_time": "2023-01-17T20:29:44.786Z"
   },
   {
    "duration": 402,
    "start_time": "2023-01-17T20:29:49.998Z"
   },
   {
    "duration": 753,
    "start_time": "2023-01-17T20:30:03.435Z"
   },
   {
    "duration": 33,
    "start_time": "2023-01-17T20:30:04.191Z"
   },
   {
    "duration": 6,
    "start_time": "2023-01-17T20:30:04.226Z"
   },
   {
    "duration": 16,
    "start_time": "2023-01-17T20:30:04.235Z"
   },
   {
    "duration": 8,
    "start_time": "2023-01-17T20:30:04.253Z"
   },
   {
    "duration": 16,
    "start_time": "2023-01-17T20:30:04.264Z"
   },
   {
    "duration": 20,
    "start_time": "2023-01-17T20:30:04.283Z"
   },
   {
    "duration": 14,
    "start_time": "2023-01-17T20:30:04.305Z"
   },
   {
    "duration": 98,
    "start_time": "2023-01-17T20:30:04.321Z"
   },
   {
    "duration": 28,
    "start_time": "2023-01-17T20:30:04.422Z"
   },
   {
    "duration": 22,
    "start_time": "2023-01-17T20:30:04.452Z"
   },
   {
    "duration": 79,
    "start_time": "2023-01-17T20:30:04.477Z"
   },
   {
    "duration": 4,
    "start_time": "2023-01-17T20:30:06.399Z"
   },
   {
    "duration": 29,
    "start_time": "2023-01-17T20:30:07.227Z"
   },
   {
    "duration": 6,
    "start_time": "2023-01-17T20:30:07.395Z"
   },
   {
    "duration": 15,
    "start_time": "2023-01-17T20:30:07.619Z"
   },
   {
    "duration": 7,
    "start_time": "2023-01-17T20:30:07.832Z"
   },
   {
    "duration": 14,
    "start_time": "2023-01-17T20:30:08.296Z"
   },
   {
    "duration": 16,
    "start_time": "2023-01-17T20:30:08.525Z"
   },
   {
    "duration": 18,
    "start_time": "2023-01-17T20:30:09.357Z"
   },
   {
    "duration": 70,
    "start_time": "2023-01-17T20:30:11.137Z"
   },
   {
    "duration": 32,
    "start_time": "2023-01-17T20:30:11.410Z"
   },
   {
    "duration": 25,
    "start_time": "2023-01-17T20:30:11.667Z"
   },
   {
    "duration": 18,
    "start_time": "2023-01-17T20:30:27.411Z"
   },
   {
    "duration": 85,
    "start_time": "2023-01-17T20:30:59.421Z"
   },
   {
    "duration": 7,
    "start_time": "2023-01-17T20:31:03.694Z"
   },
   {
    "duration": 5,
    "start_time": "2023-01-17T20:31:18.055Z"
   },
   {
    "duration": 7,
    "start_time": "2023-01-17T20:31:58.097Z"
   },
   {
    "duration": 23,
    "start_time": "2023-01-17T20:34:18.769Z"
   },
   {
    "duration": 844,
    "start_time": "2023-01-17T20:34:46.751Z"
   },
   {
    "duration": 40,
    "start_time": "2023-01-17T20:34:47.598Z"
   },
   {
    "duration": 6,
    "start_time": "2023-01-17T20:34:47.640Z"
   },
   {
    "duration": 23,
    "start_time": "2023-01-17T20:34:47.654Z"
   },
   {
    "duration": 19,
    "start_time": "2023-01-17T20:34:47.679Z"
   },
   {
    "duration": 14,
    "start_time": "2023-01-17T20:34:47.700Z"
   },
   {
    "duration": 18,
    "start_time": "2023-01-17T20:34:47.716Z"
   },
   {
    "duration": 22,
    "start_time": "2023-01-17T20:34:47.752Z"
   },
   {
    "duration": 52,
    "start_time": "2023-01-17T20:34:47.776Z"
   },
   {
    "duration": 24,
    "start_time": "2023-01-17T20:34:47.831Z"
   },
   {
    "duration": 36,
    "start_time": "2023-01-17T20:34:47.857Z"
   },
   {
    "duration": 10,
    "start_time": "2023-01-17T20:34:47.895Z"
   },
   {
    "duration": 24,
    "start_time": "2023-01-17T20:34:47.908Z"
   },
   {
    "duration": 82,
    "start_time": "2023-01-17T20:34:47.958Z"
   },
   {
    "duration": 3,
    "start_time": "2023-01-17T20:34:50.840Z"
   },
   {
    "duration": 29,
    "start_time": "2023-01-17T20:34:51.754Z"
   },
   {
    "duration": 6,
    "start_time": "2023-01-17T20:34:52.003Z"
   },
   {
    "duration": 13,
    "start_time": "2023-01-17T20:34:52.265Z"
   },
   {
    "duration": 7,
    "start_time": "2023-01-17T20:34:52.513Z"
   },
   {
    "duration": 11,
    "start_time": "2023-01-17T20:34:52.979Z"
   },
   {
    "duration": 12,
    "start_time": "2023-01-17T20:34:53.194Z"
   },
   {
    "duration": 19,
    "start_time": "2023-01-17T20:34:53.882Z"
   },
   {
    "duration": 71,
    "start_time": "2023-01-17T20:34:55.111Z"
   },
   {
    "duration": 27,
    "start_time": "2023-01-17T20:34:55.349Z"
   },
   {
    "duration": 15,
    "start_time": "2023-01-17T20:34:55.599Z"
   },
   {
    "duration": 9,
    "start_time": "2023-01-17T20:34:55.864Z"
   },
   {
    "duration": 28,
    "start_time": "2023-01-17T20:34:56.595Z"
   },
   {
    "duration": 10,
    "start_time": "2023-01-17T20:36:31.013Z"
   },
   {
    "duration": 12,
    "start_time": "2023-01-17T20:37:06.622Z"
   },
   {
    "duration": 13,
    "start_time": "2023-01-17T20:37:14.369Z"
   },
   {
    "duration": 8,
    "start_time": "2023-01-17T20:40:32.621Z"
   },
   {
    "duration": 137,
    "start_time": "2023-01-17T20:42:22.385Z"
   },
   {
    "duration": 247,
    "start_time": "2023-01-17T20:45:10.878Z"
   },
   {
    "duration": 195,
    "start_time": "2023-01-17T20:46:36.062Z"
   },
   {
    "duration": 14,
    "start_time": "2023-01-17T20:46:43.495Z"
   },
   {
    "duration": 14,
    "start_time": "2023-01-17T20:46:54.345Z"
   },
   {
    "duration": 205,
    "start_time": "2023-01-17T20:47:09.867Z"
   },
   {
    "duration": 13,
    "start_time": "2023-01-17T20:47:18.574Z"
   },
   {
    "duration": 15,
    "start_time": "2023-01-17T20:47:22.899Z"
   },
   {
    "duration": 169,
    "start_time": "2023-01-17T20:49:40.542Z"
   },
   {
    "duration": 20,
    "start_time": "2023-01-17T20:51:48.400Z"
   },
   {
    "duration": 15,
    "start_time": "2023-01-17T20:52:59.033Z"
   },
   {
    "duration": 287,
    "start_time": "2023-01-17T20:54:29.294Z"
   },
   {
    "duration": 11,
    "start_time": "2023-01-17T21:05:36.488Z"
   },
   {
    "duration": 232,
    "start_time": "2023-01-17T21:06:15.237Z"
   },
   {
    "duration": 239,
    "start_time": "2023-01-17T21:07:33.309Z"
   },
   {
    "duration": 267,
    "start_time": "2023-01-17T21:09:10.695Z"
   },
   {
    "duration": 288,
    "start_time": "2023-01-17T21:09:49.609Z"
   },
   {
    "duration": 234,
    "start_time": "2023-01-17T21:10:00.954Z"
   },
   {
    "duration": 240,
    "start_time": "2023-01-17T21:10:12.647Z"
   },
   {
    "duration": 200,
    "start_time": "2023-01-17T21:10:37.329Z"
   },
   {
    "duration": 223,
    "start_time": "2023-01-17T21:11:34.847Z"
   },
   {
    "duration": 220,
    "start_time": "2023-01-17T21:12:03.008Z"
   },
   {
    "duration": 96,
    "start_time": "2023-01-17T21:14:39.973Z"
   },
   {
    "duration": 166,
    "start_time": "2023-01-17T21:14:46.688Z"
   },
   {
    "duration": 195,
    "start_time": "2023-01-17T21:15:01.882Z"
   },
   {
    "duration": 243,
    "start_time": "2023-01-17T21:15:15.193Z"
   },
   {
    "duration": 213,
    "start_time": "2023-01-17T21:16:43.365Z"
   },
   {
    "duration": 338,
    "start_time": "2023-01-17T21:18:12.130Z"
   },
   {
    "duration": 216,
    "start_time": "2023-01-17T21:18:23.524Z"
   },
   {
    "duration": 228,
    "start_time": "2023-01-17T21:18:26.039Z"
   },
   {
    "duration": 226,
    "start_time": "2023-01-17T21:26:28.562Z"
   },
   {
    "duration": 290,
    "start_time": "2023-01-17T21:36:55.570Z"
   },
   {
    "duration": 284,
    "start_time": "2023-01-17T21:37:15.477Z"
   },
   {
    "duration": 321,
    "start_time": "2023-01-17T21:39:39.905Z"
   },
   {
    "duration": 305,
    "start_time": "2023-01-17T21:40:00.888Z"
   },
   {
    "duration": 185,
    "start_time": "2023-01-17T21:52:38.108Z"
   },
   {
    "duration": 231,
    "start_time": "2023-01-17T21:53:53.477Z"
   },
   {
    "duration": 185,
    "start_time": "2023-01-17T21:59:36.300Z"
   },
   {
    "duration": 301,
    "start_time": "2023-01-17T22:00:30.072Z"
   },
   {
    "duration": 14,
    "start_time": "2023-01-17T22:25:43.438Z"
   },
   {
    "duration": 14,
    "start_time": "2023-01-17T22:28:25.245Z"
   },
   {
    "duration": 13,
    "start_time": "2023-01-17T22:28:31.932Z"
   },
   {
    "duration": 12,
    "start_time": "2023-01-17T22:39:55.579Z"
   },
   {
    "duration": 5,
    "start_time": "2023-01-17T22:40:05.573Z"
   },
   {
    "duration": 7,
    "start_time": "2023-01-17T22:40:57.036Z"
   },
   {
    "duration": 7,
    "start_time": "2023-01-17T22:42:25.351Z"
   },
   {
    "duration": 7,
    "start_time": "2023-01-17T22:43:03.447Z"
   },
   {
    "duration": 865,
    "start_time": "2023-01-17T22:44:30.502Z"
   },
   {
    "duration": 8,
    "start_time": "2023-01-17T22:46:02.146Z"
   },
   {
    "duration": 8,
    "start_time": "2023-01-17T22:46:59.231Z"
   },
   {
    "duration": 1180,
    "start_time": "2023-01-17T22:47:41.103Z"
   },
   {
    "duration": 913,
    "start_time": "2023-01-17T22:48:41.026Z"
   },
   {
    "duration": 891,
    "start_time": "2023-01-17T22:49:00.910Z"
   },
   {
    "duration": 898,
    "start_time": "2023-01-17T22:49:40.212Z"
   },
   {
    "duration": 291,
    "start_time": "2023-01-17T22:50:57.902Z"
   },
   {
    "duration": 852,
    "start_time": "2023-01-17T22:51:20.408Z"
   },
   {
    "duration": 890,
    "start_time": "2023-01-17T22:52:08.480Z"
   },
   {
    "duration": 10,
    "start_time": "2023-01-17T22:52:15.238Z"
   },
   {
    "duration": 14,
    "start_time": "2023-01-17T22:54:54.120Z"
   },
   {
    "duration": 10,
    "start_time": "2023-01-17T22:55:14.594Z"
   },
   {
    "duration": 14,
    "start_time": "2023-01-17T22:55:19.963Z"
   },
   {
    "duration": 14,
    "start_time": "2023-01-17T22:55:54.520Z"
   },
   {
    "duration": 14,
    "start_time": "2023-01-17T22:56:05.820Z"
   },
   {
    "duration": 82,
    "start_time": "2023-01-17T22:56:20.108Z"
   },
   {
    "duration": 23,
    "start_time": "2023-01-17T22:56:24.006Z"
   },
   {
    "duration": 12,
    "start_time": "2023-01-17T22:56:29.973Z"
   },
   {
    "duration": 10,
    "start_time": "2023-01-17T22:56:47.208Z"
   },
   {
    "duration": 14,
    "start_time": "2023-01-17T22:57:02.351Z"
   },
   {
    "duration": 12,
    "start_time": "2023-01-17T22:57:53.564Z"
   },
   {
    "duration": 9,
    "start_time": "2023-01-17T23:00:44.220Z"
   },
   {
    "duration": 19,
    "start_time": "2023-01-17T23:01:04.528Z"
   },
   {
    "duration": 13,
    "start_time": "2023-01-17T23:01:24.829Z"
   },
   {
    "duration": 11,
    "start_time": "2023-01-17T23:01:51.500Z"
   },
   {
    "duration": 18,
    "start_time": "2023-01-17T23:02:29.830Z"
   },
   {
    "duration": 10,
    "start_time": "2023-01-17T23:02:41.998Z"
   },
   {
    "duration": 12,
    "start_time": "2023-01-17T23:02:51.531Z"
   },
   {
    "duration": 12,
    "start_time": "2023-01-17T23:02:53.869Z"
   },
   {
    "duration": 13,
    "start_time": "2023-01-17T23:03:25.036Z"
   },
   {
    "duration": 14,
    "start_time": "2023-01-17T23:03:26.635Z"
   },
   {
    "duration": 10,
    "start_time": "2023-01-17T23:03:44.140Z"
   },
   {
    "duration": 9,
    "start_time": "2023-01-17T23:03:59.051Z"
   },
   {
    "duration": 12,
    "start_time": "2023-01-17T23:04:40.678Z"
   },
   {
    "duration": 9,
    "start_time": "2023-01-17T23:05:16.018Z"
   },
   {
    "duration": 12,
    "start_time": "2023-01-17T23:05:23.492Z"
   },
   {
    "duration": 10,
    "start_time": "2023-01-17T23:05:32.333Z"
   },
   {
    "duration": 11,
    "start_time": "2023-01-17T23:05:43.716Z"
   },
   {
    "duration": 12,
    "start_time": "2023-01-17T23:05:47.721Z"
   },
   {
    "duration": 11,
    "start_time": "2023-01-17T23:08:46.911Z"
   },
   {
    "duration": 21,
    "start_time": "2023-01-17T23:09:54.422Z"
   },
   {
    "duration": 21,
    "start_time": "2023-01-17T23:10:15.866Z"
   },
   {
    "duration": 25,
    "start_time": "2023-01-17T23:11:10.214Z"
   },
   {
    "duration": 25,
    "start_time": "2023-01-17T23:11:17.575Z"
   },
   {
    "duration": 15,
    "start_time": "2023-01-17T23:11:34.037Z"
   },
   {
    "duration": 15,
    "start_time": "2023-01-17T23:12:58.621Z"
   },
   {
    "duration": 6,
    "start_time": "2023-01-17T23:17:00.429Z"
   },
   {
    "duration": 14,
    "start_time": "2023-01-17T23:17:16.336Z"
   },
   {
    "duration": 11,
    "start_time": "2023-01-17T23:18:07.189Z"
   },
   {
    "duration": 11,
    "start_time": "2023-01-17T23:18:29.432Z"
   },
   {
    "duration": 26,
    "start_time": "2023-01-17T23:20:50.611Z"
   },
   {
    "duration": 282,
    "start_time": "2023-01-17T23:30:03.998Z"
   },
   {
    "duration": 220,
    "start_time": "2023-01-17T23:31:36.405Z"
   },
   {
    "duration": 346,
    "start_time": "2023-01-17T23:32:47.947Z"
   },
   {
    "duration": 371,
    "start_time": "2023-01-17T23:33:20.119Z"
   },
   {
    "duration": 297,
    "start_time": "2023-01-17T23:33:28.981Z"
   },
   {
    "duration": 329,
    "start_time": "2023-01-17T23:33:36.482Z"
   },
   {
    "duration": 326,
    "start_time": "2023-01-17T23:35:13.685Z"
   },
   {
    "duration": 352,
    "start_time": "2023-01-17T23:35:23.618Z"
   },
   {
    "duration": 342,
    "start_time": "2023-01-17T23:35:57.180Z"
   },
   {
    "duration": 314,
    "start_time": "2023-01-17T23:36:37.498Z"
   },
   {
    "duration": 430,
    "start_time": "2023-01-17T23:36:45.475Z"
   },
   {
    "duration": 379,
    "start_time": "2023-01-17T23:41:37.417Z"
   },
   {
    "duration": 18,
    "start_time": "2023-01-17T23:45:40.607Z"
   },
   {
    "duration": 19,
    "start_time": "2023-01-17T23:47:35.038Z"
   },
   {
    "duration": 20,
    "start_time": "2023-01-17T23:47:54.899Z"
   },
   {
    "duration": 708,
    "start_time": "2023-01-17T23:48:24.131Z"
   },
   {
    "duration": 30,
    "start_time": "2023-01-17T23:48:24.841Z"
   },
   {
    "duration": 5,
    "start_time": "2023-01-17T23:48:24.873Z"
   },
   {
    "duration": 14,
    "start_time": "2023-01-17T23:48:24.881Z"
   },
   {
    "duration": 7,
    "start_time": "2023-01-17T23:48:24.897Z"
   },
   {
    "duration": 11,
    "start_time": "2023-01-17T23:48:24.905Z"
   },
   {
    "duration": 16,
    "start_time": "2023-01-17T23:48:24.918Z"
   },
   {
    "duration": 24,
    "start_time": "2023-01-17T23:48:24.936Z"
   },
   {
    "duration": 82,
    "start_time": "2023-01-17T23:48:24.962Z"
   },
   {
    "duration": 0,
    "start_time": "2023-01-17T23:48:25.047Z"
   },
   {
    "duration": 0,
    "start_time": "2023-01-17T23:48:25.049Z"
   },
   {
    "duration": 0,
    "start_time": "2023-01-17T23:48:25.051Z"
   },
   {
    "duration": 0,
    "start_time": "2023-01-17T23:48:25.052Z"
   },
   {
    "duration": 0,
    "start_time": "2023-01-17T23:48:25.054Z"
   },
   {
    "duration": 0,
    "start_time": "2023-01-17T23:48:25.056Z"
   },
   {
    "duration": 0,
    "start_time": "2023-01-17T23:48:25.057Z"
   },
   {
    "duration": 0,
    "start_time": "2023-01-17T23:48:25.058Z"
   },
   {
    "duration": 0,
    "start_time": "2023-01-17T23:48:25.060Z"
   },
   {
    "duration": 0,
    "start_time": "2023-01-17T23:48:25.061Z"
   },
   {
    "duration": 0,
    "start_time": "2023-01-17T23:48:25.063Z"
   },
   {
    "duration": 0,
    "start_time": "2023-01-17T23:48:25.064Z"
   },
   {
    "duration": 0,
    "start_time": "2023-01-17T23:48:25.065Z"
   },
   {
    "duration": 0,
    "start_time": "2023-01-17T23:48:25.067Z"
   },
   {
    "duration": 0,
    "start_time": "2023-01-17T23:48:25.068Z"
   },
   {
    "duration": 0,
    "start_time": "2023-01-17T23:48:25.069Z"
   },
   {
    "duration": 0,
    "start_time": "2023-01-17T23:48:25.071Z"
   },
   {
    "duration": 0,
    "start_time": "2023-01-17T23:48:25.072Z"
   },
   {
    "duration": 0,
    "start_time": "2023-01-17T23:48:25.074Z"
   },
   {
    "duration": 1,
    "start_time": "2023-01-17T23:48:25.075Z"
   },
   {
    "duration": 4,
    "start_time": "2023-01-17T23:48:28.511Z"
   },
   {
    "duration": 27,
    "start_time": "2023-01-17T23:48:29.256Z"
   },
   {
    "duration": 5,
    "start_time": "2023-01-17T23:48:29.453Z"
   },
   {
    "duration": 14,
    "start_time": "2023-01-17T23:48:29.650Z"
   },
   {
    "duration": 5,
    "start_time": "2023-01-17T23:48:29.865Z"
   },
   {
    "duration": 8,
    "start_time": "2023-01-17T23:48:30.346Z"
   },
   {
    "duration": 13,
    "start_time": "2023-01-17T23:48:30.585Z"
   },
   {
    "duration": 13,
    "start_time": "2023-01-17T23:48:31.252Z"
   },
   {
    "duration": 78,
    "start_time": "2023-01-17T23:48:31.695Z"
   },
   {
    "duration": 61,
    "start_time": "2023-01-17T23:48:32.560Z"
   },
   {
    "duration": 21,
    "start_time": "2023-01-17T23:48:32.797Z"
   },
   {
    "duration": 15,
    "start_time": "2023-01-17T23:48:37.745Z"
   },
   {
    "duration": 6,
    "start_time": "2023-01-17T23:48:38.011Z"
   },
   {
    "duration": 9,
    "start_time": "2023-01-17T23:48:38.241Z"
   },
   {
    "duration": 11,
    "start_time": "2023-01-17T23:48:38.473Z"
   },
   {
    "duration": 7,
    "start_time": "2023-01-17T23:48:38.724Z"
   },
   {
    "duration": 8,
    "start_time": "2023-01-17T23:48:38.943Z"
   },
   {
    "duration": 19,
    "start_time": "2023-01-17T23:48:39.166Z"
   },
   {
    "duration": 26,
    "start_time": "2023-01-17T23:48:39.685Z"
   },
   {
    "duration": 21,
    "start_time": "2023-01-17T23:49:28.155Z"
   },
   {
    "duration": 938,
    "start_time": "2023-01-18T17:10:37.466Z"
   },
   {
    "duration": 70,
    "start_time": "2023-01-18T17:10:38.407Z"
   },
   {
    "duration": 5,
    "start_time": "2023-01-18T17:10:38.479Z"
   },
   {
    "duration": 15,
    "start_time": "2023-01-18T17:10:38.486Z"
   },
   {
    "duration": 12,
    "start_time": "2023-01-18T17:10:38.504Z"
   },
   {
    "duration": 17,
    "start_time": "2023-01-18T17:10:38.518Z"
   },
   {
    "duration": 18,
    "start_time": "2023-01-18T17:10:38.537Z"
   },
   {
    "duration": 38,
    "start_time": "2023-01-18T17:10:38.557Z"
   },
   {
    "duration": 75,
    "start_time": "2023-01-18T17:10:38.597Z"
   },
   {
    "duration": 0,
    "start_time": "2023-01-18T17:10:38.675Z"
   },
   {
    "duration": 0,
    "start_time": "2023-01-18T17:10:38.677Z"
   },
   {
    "duration": 0,
    "start_time": "2023-01-18T17:10:38.680Z"
   },
   {
    "duration": 0,
    "start_time": "2023-01-18T17:10:38.681Z"
   },
   {
    "duration": 0,
    "start_time": "2023-01-18T17:10:38.683Z"
   },
   {
    "duration": 0,
    "start_time": "2023-01-18T17:10:38.685Z"
   },
   {
    "duration": 0,
    "start_time": "2023-01-18T17:10:38.686Z"
   },
   {
    "duration": 0,
    "start_time": "2023-01-18T17:10:38.687Z"
   },
   {
    "duration": 0,
    "start_time": "2023-01-18T17:10:38.689Z"
   },
   {
    "duration": 0,
    "start_time": "2023-01-18T17:10:38.691Z"
   },
   {
    "duration": 0,
    "start_time": "2023-01-18T17:10:38.692Z"
   },
   {
    "duration": 0,
    "start_time": "2023-01-18T17:10:38.694Z"
   },
   {
    "duration": 0,
    "start_time": "2023-01-18T17:10:38.695Z"
   },
   {
    "duration": 0,
    "start_time": "2023-01-18T17:10:38.696Z"
   },
   {
    "duration": 0,
    "start_time": "2023-01-18T17:10:38.698Z"
   },
   {
    "duration": 0,
    "start_time": "2023-01-18T17:10:38.699Z"
   },
   {
    "duration": 0,
    "start_time": "2023-01-18T17:10:38.700Z"
   },
   {
    "duration": 0,
    "start_time": "2023-01-18T17:10:38.702Z"
   },
   {
    "duration": 0,
    "start_time": "2023-01-18T17:10:38.704Z"
   },
   {
    "duration": 0,
    "start_time": "2023-01-18T17:10:38.705Z"
   },
   {
    "duration": 5,
    "start_time": "2023-01-18T17:10:47.946Z"
   },
   {
    "duration": 29,
    "start_time": "2023-01-18T17:10:48.808Z"
   },
   {
    "duration": 6,
    "start_time": "2023-01-18T17:10:49.053Z"
   },
   {
    "duration": 11,
    "start_time": "2023-01-18T17:10:49.328Z"
   },
   {
    "duration": 7,
    "start_time": "2023-01-18T17:10:49.926Z"
   },
   {
    "duration": 11,
    "start_time": "2023-01-18T17:10:50.870Z"
   },
   {
    "duration": 15,
    "start_time": "2023-01-18T17:10:52.780Z"
   },
   {
    "duration": 19,
    "start_time": "2023-01-18T17:10:54.325Z"
   },
   {
    "duration": 85,
    "start_time": "2023-01-18T17:11:12.902Z"
   },
   {
    "duration": 19,
    "start_time": "2023-01-18T17:52:08.484Z"
   },
   {
    "duration": 18,
    "start_time": "2023-01-18T17:53:03.664Z"
   },
   {
    "duration": 152,
    "start_time": "2023-01-18T17:56:46.578Z"
   },
   {
    "duration": 33,
    "start_time": "2023-01-18T17:56:47.601Z"
   },
   {
    "duration": 20,
    "start_time": "2023-01-18T17:56:48.292Z"
   },
   {
    "duration": 7,
    "start_time": "2023-01-18T17:56:48.882Z"
   },
   {
    "duration": 13,
    "start_time": "2023-01-18T17:56:49.496Z"
   },
   {
    "duration": 14,
    "start_time": "2023-01-18T17:56:50.015Z"
   },
   {
    "duration": 10,
    "start_time": "2023-01-18T17:56:50.794Z"
   },
   {
    "duration": 8,
    "start_time": "2023-01-18T17:56:51.451Z"
   },
   {
    "duration": 3,
    "start_time": "2023-01-18T17:57:32.262Z"
   },
   {
    "duration": 12,
    "start_time": "2023-01-18T17:57:34.269Z"
   },
   {
    "duration": 25,
    "start_time": "2023-01-18T17:57:35.594Z"
   },
   {
    "duration": 36,
    "start_time": "2023-01-18T17:57:52.597Z"
   },
   {
    "duration": 15,
    "start_time": "2023-01-18T17:57:55.889Z"
   },
   {
    "duration": 216,
    "start_time": "2023-01-18T17:57:56.426Z"
   },
   {
    "duration": 185,
    "start_time": "2023-01-18T17:57:56.878Z"
   },
   {
    "duration": 15,
    "start_time": "2023-01-18T17:57:57.908Z"
   },
   {
    "duration": 331,
    "start_time": "2023-01-18T17:57:58.341Z"
   },
   {
    "duration": 277,
    "start_time": "2023-01-18T17:58:00.203Z"
   },
   {
    "duration": 247,
    "start_time": "2023-01-18T17:58:31.051Z"
   },
   {
    "duration": 504,
    "start_time": "2023-01-18T17:58:51.396Z"
   },
   {
    "duration": 332,
    "start_time": "2023-01-18T17:59:03.178Z"
   },
   {
    "duration": 430,
    "start_time": "2023-01-18T17:59:06.951Z"
   },
   {
    "duration": 103,
    "start_time": "2023-01-18T18:02:43.587Z"
   },
   {
    "duration": 13,
    "start_time": "2023-01-18T18:03:41.469Z"
   },
   {
    "duration": 8,
    "start_time": "2023-01-18T18:03:46.095Z"
   },
   {
    "duration": 14,
    "start_time": "2023-01-18T18:03:59.195Z"
   },
   {
    "duration": 12,
    "start_time": "2023-01-18T18:04:02.643Z"
   },
   {
    "duration": 16,
    "start_time": "2023-01-18T18:04:10.371Z"
   },
   {
    "duration": 11,
    "start_time": "2023-01-18T18:05:04.521Z"
   },
   {
    "duration": 14,
    "start_time": "2023-01-18T18:06:22.104Z"
   },
   {
    "duration": 137,
    "start_time": "2023-01-18T18:07:04.312Z"
   },
   {
    "duration": 150,
    "start_time": "2023-01-18T18:08:38.277Z"
   },
   {
    "duration": 280,
    "start_time": "2023-01-18T18:09:11.497Z"
   },
   {
    "duration": 160,
    "start_time": "2023-01-18T18:09:18.857Z"
   },
   {
    "duration": 6,
    "start_time": "2023-01-18T18:16:06.535Z"
   },
   {
    "duration": 157,
    "start_time": "2023-01-18T18:30:49.017Z"
   },
   {
    "duration": 4,
    "start_time": "2023-01-18T18:38:39.058Z"
   },
   {
    "duration": 7,
    "start_time": "2023-01-18T18:38:44.466Z"
   },
   {
    "duration": 6,
    "start_time": "2023-01-18T18:38:51.669Z"
   },
   {
    "duration": 4,
    "start_time": "2023-01-18T18:42:03.477Z"
   },
   {
    "duration": 6,
    "start_time": "2023-01-18T18:42:08.002Z"
   },
   {
    "duration": 8,
    "start_time": "2023-01-18T18:42:24.837Z"
   },
   {
    "duration": 8,
    "start_time": "2023-01-18T18:43:28.804Z"
   },
   {
    "duration": 8,
    "start_time": "2023-01-18T18:43:59.086Z"
   },
   {
    "duration": 26,
    "start_time": "2023-01-18T18:56:36.886Z"
   },
   {
    "duration": 8,
    "start_time": "2023-01-18T18:57:16.432Z"
   },
   {
    "duration": 3,
    "start_time": "2023-01-18T18:58:24.944Z"
   },
   {
    "duration": 43,
    "start_time": "2023-01-18T18:58:53.310Z"
   },
   {
    "duration": 21,
    "start_time": "2023-01-18T18:59:02.430Z"
   },
   {
    "duration": 10,
    "start_time": "2023-01-18T19:00:30.762Z"
   },
   {
    "duration": 11,
    "start_time": "2023-01-18T19:00:40.838Z"
   },
   {
    "duration": 7,
    "start_time": "2023-01-18T19:04:02.672Z"
   },
   {
    "duration": 17,
    "start_time": "2023-01-18T19:04:19.684Z"
   },
   {
    "duration": 32,
    "start_time": "2023-01-18T19:12:21.639Z"
   },
   {
    "duration": 740,
    "start_time": "2023-01-18T19:12:29.003Z"
   },
   {
    "duration": 34,
    "start_time": "2023-01-18T19:12:29.746Z"
   },
   {
    "duration": 9,
    "start_time": "2023-01-18T19:12:29.783Z"
   },
   {
    "duration": 21,
    "start_time": "2023-01-18T19:12:29.804Z"
   },
   {
    "duration": 8,
    "start_time": "2023-01-18T19:12:29.828Z"
   },
   {
    "duration": 18,
    "start_time": "2023-01-18T19:12:29.838Z"
   },
   {
    "duration": 20,
    "start_time": "2023-01-18T19:12:29.858Z"
   },
   {
    "duration": 24,
    "start_time": "2023-01-18T19:12:29.885Z"
   },
   {
    "duration": 64,
    "start_time": "2023-01-18T19:12:29.911Z"
   },
   {
    "duration": 27,
    "start_time": "2023-01-18T19:12:29.978Z"
   },
   {
    "duration": 39,
    "start_time": "2023-01-18T19:12:30.007Z"
   },
   {
    "duration": 15,
    "start_time": "2023-01-18T19:12:30.048Z"
   },
   {
    "duration": 23,
    "start_time": "2023-01-18T19:12:30.065Z"
   },
   {
    "duration": 26,
    "start_time": "2023-01-18T19:12:30.089Z"
   },
   {
    "duration": 23,
    "start_time": "2023-01-18T19:12:30.117Z"
   },
   {
    "duration": 29,
    "start_time": "2023-01-18T19:12:30.142Z"
   },
   {
    "duration": 35,
    "start_time": "2023-01-18T19:12:30.174Z"
   },
   {
    "duration": 35,
    "start_time": "2023-01-18T19:12:30.211Z"
   },
   {
    "duration": 212,
    "start_time": "2023-01-18T19:12:30.248Z"
   },
   {
    "duration": 160,
    "start_time": "2023-01-18T19:12:30.462Z"
   },
   {
    "duration": 15,
    "start_time": "2023-01-18T19:12:30.624Z"
   },
   {
    "duration": 362,
    "start_time": "2023-01-18T19:12:30.642Z"
   },
   {
    "duration": 243,
    "start_time": "2023-01-18T19:12:31.006Z"
   },
   {
    "duration": 383,
    "start_time": "2023-01-18T19:12:31.251Z"
   },
   {
    "duration": 309,
    "start_time": "2023-01-18T19:12:31.636Z"
   },
   {
    "duration": 388,
    "start_time": "2023-01-18T19:12:31.947Z"
   },
   {
    "duration": 13,
    "start_time": "2023-01-18T19:12:32.337Z"
   },
   {
    "duration": 161,
    "start_time": "2023-01-18T19:12:32.353Z"
   },
   {
    "duration": 7,
    "start_time": "2023-01-18T19:12:32.515Z"
   },
   {
    "duration": 148,
    "start_time": "2023-01-18T19:12:32.524Z"
   },
   {
    "duration": 28,
    "start_time": "2023-01-18T19:12:32.673Z"
   },
   {
    "duration": 3,
    "start_time": "2023-01-18T19:12:32.703Z"
   },
   {
    "duration": 29,
    "start_time": "2023-01-18T19:12:32.708Z"
   },
   {
    "duration": 23,
    "start_time": "2023-01-18T19:12:32.738Z"
   },
   {
    "duration": 102,
    "start_time": "2023-01-18T19:12:32.763Z"
   },
   {
    "duration": 4,
    "start_time": "2023-01-18T19:12:35.363Z"
   },
   {
    "duration": 37,
    "start_time": "2023-01-18T19:12:36.359Z"
   },
   {
    "duration": 5,
    "start_time": "2023-01-18T19:12:36.599Z"
   },
   {
    "duration": 11,
    "start_time": "2023-01-18T19:12:36.858Z"
   },
   {
    "duration": 6,
    "start_time": "2023-01-18T19:12:37.120Z"
   },
   {
    "duration": 8,
    "start_time": "2023-01-18T19:12:37.615Z"
   },
   {
    "duration": 13,
    "start_time": "2023-01-18T19:12:37.898Z"
   },
   {
    "duration": 14,
    "start_time": "2023-01-18T19:12:38.653Z"
   },
   {
    "duration": 75,
    "start_time": "2023-01-18T19:12:40.145Z"
   },
   {
    "duration": 24,
    "start_time": "2023-01-18T19:12:40.389Z"
   },
   {
    "duration": 16,
    "start_time": "2023-01-18T19:12:40.654Z"
   },
   {
    "duration": 12,
    "start_time": "2023-01-18T19:12:40.883Z"
   },
   {
    "duration": 10,
    "start_time": "2023-01-18T19:12:41.147Z"
   },
   {
    "duration": 10,
    "start_time": "2023-01-18T19:12:41.401Z"
   },
   {
    "duration": 9,
    "start_time": "2023-01-18T19:12:41.673Z"
   },
   {
    "duration": 22,
    "start_time": "2023-01-18T19:12:41.929Z"
   },
   {
    "duration": 28,
    "start_time": "2023-01-18T19:12:42.478Z"
   },
   {
    "duration": 12,
    "start_time": "2023-01-18T19:12:43.416Z"
   },
   {
    "duration": 183,
    "start_time": "2023-01-18T19:12:43.799Z"
   },
   {
    "duration": 140,
    "start_time": "2023-01-18T19:12:44.128Z"
   },
   {
    "duration": 15,
    "start_time": "2023-01-18T19:12:44.498Z"
   },
   {
    "duration": 245,
    "start_time": "2023-01-18T19:12:44.798Z"
   },
   {
    "duration": 235,
    "start_time": "2023-01-18T19:12:45.698Z"
   },
   {
    "duration": 344,
    "start_time": "2023-01-18T19:12:46.467Z"
   },
   {
    "duration": 234,
    "start_time": "2023-01-18T19:12:47.228Z"
   },
   {
    "duration": 382,
    "start_time": "2023-01-18T19:12:47.963Z"
   },
   {
    "duration": 12,
    "start_time": "2023-01-18T19:12:48.728Z"
   },
   {
    "duration": 143,
    "start_time": "2023-01-18T19:12:48.964Z"
   },
   {
    "duration": 6,
    "start_time": "2023-01-18T19:12:49.471Z"
   },
   {
    "duration": 205,
    "start_time": "2023-01-18T19:12:50.221Z"
   },
   {
    "duration": 7,
    "start_time": "2023-01-18T19:12:50.762Z"
   },
   {
    "duration": 4,
    "start_time": "2023-01-18T19:12:51.804Z"
   },
   {
    "duration": 32,
    "start_time": "2023-01-18T19:12:52.099Z"
   },
   {
    "duration": 10,
    "start_time": "2023-01-18T19:13:42.825Z"
   },
   {
    "duration": 1321,
    "start_time": "2023-01-18T19:14:18.441Z"
   },
   {
    "duration": 1166,
    "start_time": "2023-01-18T19:15:54.434Z"
   },
   {
    "duration": 16,
    "start_time": "2023-01-18T19:16:25.261Z"
   },
   {
    "duration": 175,
    "start_time": "2023-01-18T19:16:49.849Z"
   },
   {
    "duration": 6,
    "start_time": "2023-01-18T19:17:19.427Z"
   },
   {
    "duration": 10,
    "start_time": "2023-01-18T19:17:26.418Z"
   },
   {
    "duration": 8,
    "start_time": "2023-01-18T19:17:51.672Z"
   },
   {
    "duration": 13,
    "start_time": "2023-01-18T19:18:03.227Z"
   },
   {
    "duration": 13,
    "start_time": "2023-01-18T19:18:07.435Z"
   },
   {
    "duration": 213,
    "start_time": "2023-01-18T19:18:15.567Z"
   },
   {
    "duration": 781,
    "start_time": "2023-01-18T19:18:54.054Z"
   },
   {
    "duration": 33,
    "start_time": "2023-01-18T19:18:54.838Z"
   },
   {
    "duration": 6,
    "start_time": "2023-01-18T19:18:54.872Z"
   },
   {
    "duration": 14,
    "start_time": "2023-01-18T19:18:54.881Z"
   },
   {
    "duration": 13,
    "start_time": "2023-01-18T19:18:54.897Z"
   },
   {
    "duration": 11,
    "start_time": "2023-01-18T19:18:54.912Z"
   },
   {
    "duration": 17,
    "start_time": "2023-01-18T19:18:54.924Z"
   },
   {
    "duration": 41,
    "start_time": "2023-01-18T19:18:54.943Z"
   },
   {
    "duration": 60,
    "start_time": "2023-01-18T19:18:54.986Z"
   },
   {
    "duration": 29,
    "start_time": "2023-01-18T19:18:55.050Z"
   },
   {
    "duration": 17,
    "start_time": "2023-01-18T19:18:55.081Z"
   },
   {
    "duration": 30,
    "start_time": "2023-01-18T19:18:55.101Z"
   },
   {
    "duration": 17,
    "start_time": "2023-01-18T19:18:55.133Z"
   },
   {
    "duration": 11,
    "start_time": "2023-01-18T19:18:55.152Z"
   },
   {
    "duration": 25,
    "start_time": "2023-01-18T19:18:55.165Z"
   },
   {
    "duration": 20,
    "start_time": "2023-01-18T19:18:55.192Z"
   },
   {
    "duration": 27,
    "start_time": "2023-01-18T19:18:55.214Z"
   },
   {
    "duration": 52,
    "start_time": "2023-01-18T19:18:55.243Z"
   },
   {
    "duration": 219,
    "start_time": "2023-01-18T19:18:55.297Z"
   },
   {
    "duration": 175,
    "start_time": "2023-01-18T19:18:55.518Z"
   },
   {
    "duration": 17,
    "start_time": "2023-01-18T19:18:55.695Z"
   },
   {
    "duration": 392,
    "start_time": "2023-01-18T19:18:55.715Z"
   },
   {
    "duration": 268,
    "start_time": "2023-01-18T19:18:56.109Z"
   },
   {
    "duration": 353,
    "start_time": "2023-01-18T19:18:56.384Z"
   },
   {
    "duration": 304,
    "start_time": "2023-01-18T19:18:56.739Z"
   },
   {
    "duration": 419,
    "start_time": "2023-01-18T19:18:57.045Z"
   },
   {
    "duration": 24,
    "start_time": "2023-01-18T19:18:57.467Z"
   },
   {
    "duration": 162,
    "start_time": "2023-01-18T19:18:57.495Z"
   },
   {
    "duration": 8,
    "start_time": "2023-01-18T19:18:57.659Z"
   },
   {
    "duration": 147,
    "start_time": "2023-01-18T19:18:57.685Z"
   },
   {
    "duration": 8,
    "start_time": "2023-01-18T19:18:57.835Z"
   },
   {
    "duration": 23,
    "start_time": "2023-01-18T19:18:57.845Z"
   },
   {
    "duration": 43,
    "start_time": "2023-01-18T19:18:57.870Z"
   },
   {
    "duration": 34,
    "start_time": "2023-01-18T19:18:57.915Z"
   },
   {
    "duration": 76,
    "start_time": "2023-01-18T19:18:57.951Z"
   },
   {
    "duration": 4,
    "start_time": "2023-01-18T19:18:59.538Z"
   },
   {
    "duration": 29,
    "start_time": "2023-01-18T19:19:01.010Z"
   },
   {
    "duration": 6,
    "start_time": "2023-01-18T19:19:01.278Z"
   },
   {
    "duration": 15,
    "start_time": "2023-01-18T19:19:01.559Z"
   },
   {
    "duration": 7,
    "start_time": "2023-01-18T19:19:01.826Z"
   },
   {
    "duration": 10,
    "start_time": "2023-01-18T19:19:02.348Z"
   },
   {
    "duration": 13,
    "start_time": "2023-01-18T19:19:02.590Z"
   },
   {
    "duration": 15,
    "start_time": "2023-01-18T19:19:03.245Z"
   },
   {
    "duration": 61,
    "start_time": "2023-01-18T19:19:04.665Z"
   },
   {
    "duration": 24,
    "start_time": "2023-01-18T19:19:04.866Z"
   },
   {
    "duration": 15,
    "start_time": "2023-01-18T19:19:05.042Z"
   },
   {
    "duration": 6,
    "start_time": "2023-01-18T19:19:05.242Z"
   },
   {
    "duration": 10,
    "start_time": "2023-01-18T19:19:05.428Z"
   },
   {
    "duration": 10,
    "start_time": "2023-01-18T19:19:05.650Z"
   },
   {
    "duration": 9,
    "start_time": "2023-01-18T19:19:05.871Z"
   },
   {
    "duration": 19,
    "start_time": "2023-01-18T19:19:06.121Z"
   },
   {
    "duration": 29,
    "start_time": "2023-01-18T19:19:06.488Z"
   },
   {
    "duration": 16,
    "start_time": "2023-01-18T19:19:06.838Z"
   },
   {
    "duration": 231,
    "start_time": "2023-01-18T19:19:07.099Z"
   },
   {
    "duration": 179,
    "start_time": "2023-01-18T19:19:07.332Z"
   },
   {
    "duration": 20,
    "start_time": "2023-01-18T19:19:07.554Z"
   },
   {
    "duration": 275,
    "start_time": "2023-01-18T19:19:07.773Z"
   },
   {
    "duration": 228,
    "start_time": "2023-01-18T19:19:08.248Z"
   },
   {
    "duration": 305,
    "start_time": "2023-01-18T19:19:08.725Z"
   },
   {
    "duration": 284,
    "start_time": "2023-01-18T19:19:09.468Z"
   },
   {
    "duration": 338,
    "start_time": "2023-01-18T19:19:11.318Z"
   },
   {
    "duration": 16,
    "start_time": "2023-01-18T19:19:12.131Z"
   },
   {
    "duration": 156,
    "start_time": "2023-01-18T19:19:12.393Z"
   },
   {
    "duration": 9,
    "start_time": "2023-01-18T19:19:12.926Z"
   },
   {
    "duration": 225,
    "start_time": "2023-01-18T19:19:14.740Z"
   },
   {
    "duration": 9,
    "start_time": "2023-01-18T19:19:15.993Z"
   },
   {
    "duration": 4,
    "start_time": "2023-01-18T19:19:17.455Z"
   },
   {
    "duration": 25,
    "start_time": "2023-01-18T19:19:18.406Z"
   },
   {
    "duration": 25,
    "start_time": "2023-01-18T19:19:24.106Z"
   },
   {
    "duration": 9,
    "start_time": "2023-01-18T19:19:51.625Z"
   },
   {
    "duration": 17,
    "start_time": "2023-01-18T19:21:20.520Z"
   },
   {
    "duration": 10,
    "start_time": "2023-01-18T19:21:54.481Z"
   },
   {
    "duration": 10,
    "start_time": "2023-01-18T19:22:16.315Z"
   },
   {
    "duration": 6,
    "start_time": "2023-01-18T19:23:14.448Z"
   },
   {
    "duration": 752,
    "start_time": "2023-01-18T19:23:32.761Z"
   },
   {
    "duration": 34,
    "start_time": "2023-01-18T19:23:33.515Z"
   },
   {
    "duration": 6,
    "start_time": "2023-01-18T19:23:33.551Z"
   },
   {
    "duration": 23,
    "start_time": "2023-01-18T19:23:33.560Z"
   },
   {
    "duration": 17,
    "start_time": "2023-01-18T19:23:33.585Z"
   },
   {
    "duration": 11,
    "start_time": "2023-01-18T19:23:33.604Z"
   },
   {
    "duration": 27,
    "start_time": "2023-01-18T19:23:33.617Z"
   },
   {
    "duration": 18,
    "start_time": "2023-01-18T19:23:33.646Z"
   },
   {
    "duration": 72,
    "start_time": "2023-01-18T19:23:33.666Z"
   },
   {
    "duration": 26,
    "start_time": "2023-01-18T19:23:33.742Z"
   },
   {
    "duration": 23,
    "start_time": "2023-01-18T19:23:33.771Z"
   },
   {
    "duration": 8,
    "start_time": "2023-01-18T19:23:33.796Z"
   },
   {
    "duration": 14,
    "start_time": "2023-01-18T19:23:33.806Z"
   },
   {
    "duration": 10,
    "start_time": "2023-01-18T19:23:33.822Z"
   },
   {
    "duration": 9,
    "start_time": "2023-01-18T19:23:33.834Z"
   },
   {
    "duration": 61,
    "start_time": "2023-01-18T19:23:33.845Z"
   },
   {
    "duration": 25,
    "start_time": "2023-01-18T19:23:33.908Z"
   },
   {
    "duration": 12,
    "start_time": "2023-01-18T19:23:33.936Z"
   },
   {
    "duration": 200,
    "start_time": "2023-01-18T19:23:33.985Z"
   },
   {
    "duration": 150,
    "start_time": "2023-01-18T19:23:34.188Z"
   },
   {
    "duration": 16,
    "start_time": "2023-01-18T19:23:34.340Z"
   },
   {
    "duration": 344,
    "start_time": "2023-01-18T19:23:34.359Z"
   },
   {
    "duration": 249,
    "start_time": "2023-01-18T19:23:34.705Z"
   },
   {
    "duration": 364,
    "start_time": "2023-01-18T19:23:34.956Z"
   },
   {
    "duration": 307,
    "start_time": "2023-01-18T19:23:35.323Z"
   },
   {
    "duration": 342,
    "start_time": "2023-01-18T19:23:35.632Z"
   },
   {
    "duration": 17,
    "start_time": "2023-01-18T19:23:35.976Z"
   },
   {
    "duration": 161,
    "start_time": "2023-01-18T19:23:35.996Z"
   },
   {
    "duration": 8,
    "start_time": "2023-01-18T19:23:36.159Z"
   },
   {
    "duration": 152,
    "start_time": "2023-01-18T19:23:36.169Z"
   },
   {
    "duration": 7,
    "start_time": "2023-01-18T19:23:36.323Z"
   },
   {
    "duration": 8,
    "start_time": "2023-01-18T19:23:36.332Z"
   },
   {
    "duration": 42,
    "start_time": "2023-01-18T19:23:36.342Z"
   },
   {
    "duration": 9,
    "start_time": "2023-01-18T19:23:36.387Z"
   },
   {
    "duration": 79,
    "start_time": "2023-01-18T19:23:36.398Z"
   },
   {
    "duration": 4,
    "start_time": "2023-01-18T19:23:39.742Z"
   },
   {
    "duration": 27,
    "start_time": "2023-01-18T19:23:40.723Z"
   },
   {
    "duration": 6,
    "start_time": "2023-01-18T19:23:40.970Z"
   },
   {
    "duration": 16,
    "start_time": "2023-01-18T19:23:41.234Z"
   },
   {
    "duration": 8,
    "start_time": "2023-01-18T19:23:41.454Z"
   },
   {
    "duration": 9,
    "start_time": "2023-01-18T19:23:41.986Z"
   },
   {
    "duration": 16,
    "start_time": "2023-01-18T19:23:42.250Z"
   },
   {
    "duration": 15,
    "start_time": "2023-01-18T19:23:42.968Z"
   },
   {
    "duration": 64,
    "start_time": "2023-01-18T19:23:44.426Z"
   },
   {
    "duration": 28,
    "start_time": "2023-01-18T19:23:44.689Z"
   },
   {
    "duration": 20,
    "start_time": "2023-01-18T19:23:44.948Z"
   },
   {
    "duration": 8,
    "start_time": "2023-01-18T19:23:45.205Z"
   },
   {
    "duration": 12,
    "start_time": "2023-01-18T19:23:45.448Z"
   },
   {
    "duration": 10,
    "start_time": "2023-01-18T19:23:45.732Z"
   },
   {
    "duration": 9,
    "start_time": "2023-01-18T19:23:45.989Z"
   },
   {
    "duration": 20,
    "start_time": "2023-01-18T19:23:46.229Z"
   },
   {
    "duration": 26,
    "start_time": "2023-01-18T19:23:46.744Z"
   },
   {
    "duration": 14,
    "start_time": "2023-01-18T19:23:47.292Z"
   },
   {
    "duration": 195,
    "start_time": "2023-01-18T19:23:47.556Z"
   },
   {
    "duration": 152,
    "start_time": "2023-01-18T19:23:47.853Z"
   },
   {
    "duration": 15,
    "start_time": "2023-01-18T19:23:48.115Z"
   },
   {
    "duration": 310,
    "start_time": "2023-01-18T19:23:48.377Z"
   },
   {
    "duration": 248,
    "start_time": "2023-01-18T19:23:49.129Z"
   },
   {
    "duration": 355,
    "start_time": "2023-01-18T19:23:49.930Z"
   },
   {
    "duration": 244,
    "start_time": "2023-01-18T19:23:51.070Z"
   },
   {
    "duration": 409,
    "start_time": "2023-01-18T19:23:52.551Z"
   },
   {
    "duration": 14,
    "start_time": "2023-01-18T19:23:54.148Z"
   },
   {
    "duration": 148,
    "start_time": "2023-01-18T19:23:54.622Z"
   },
   {
    "duration": 8,
    "start_time": "2023-01-18T19:23:56.093Z"
   },
   {
    "duration": 150,
    "start_time": "2023-01-18T19:24:03.784Z"
   },
   {
    "duration": 8,
    "start_time": "2023-01-18T19:24:06.536Z"
   },
   {
    "duration": 7,
    "start_time": "2023-01-18T19:24:07.723Z"
   },
   {
    "duration": 22,
    "start_time": "2023-01-18T19:24:08.097Z"
   },
   {
    "duration": 10,
    "start_time": "2023-01-18T19:24:08.527Z"
   },
   {
    "duration": 748,
    "start_time": "2023-01-18T19:34:01.779Z"
   },
   {
    "duration": 32,
    "start_time": "2023-01-18T19:34:02.530Z"
   },
   {
    "duration": 5,
    "start_time": "2023-01-18T19:34:02.564Z"
   },
   {
    "duration": 29,
    "start_time": "2023-01-18T19:34:02.571Z"
   },
   {
    "duration": 11,
    "start_time": "2023-01-18T19:34:02.602Z"
   },
   {
    "duration": 13,
    "start_time": "2023-01-18T19:34:02.615Z"
   },
   {
    "duration": 19,
    "start_time": "2023-01-18T19:34:02.630Z"
   },
   {
    "duration": 37,
    "start_time": "2023-01-18T19:34:02.651Z"
   },
   {
    "duration": 54,
    "start_time": "2023-01-18T19:34:02.691Z"
   },
   {
    "duration": 29,
    "start_time": "2023-01-18T19:34:02.749Z"
   },
   {
    "duration": 17,
    "start_time": "2023-01-18T19:34:02.780Z"
   },
   {
    "duration": 10,
    "start_time": "2023-01-18T19:34:02.799Z"
   },
   {
    "duration": 13,
    "start_time": "2023-01-18T19:34:02.811Z"
   },
   {
    "duration": 10,
    "start_time": "2023-01-18T19:34:02.826Z"
   },
   {
    "duration": 11,
    "start_time": "2023-01-18T19:34:02.838Z"
   },
   {
    "duration": 50,
    "start_time": "2023-01-18T19:34:02.851Z"
   },
   {
    "duration": 47,
    "start_time": "2023-01-18T19:34:02.902Z"
   },
   {
    "duration": 11,
    "start_time": "2023-01-18T19:34:02.951Z"
   },
   {
    "duration": 310,
    "start_time": "2023-01-18T19:34:02.964Z"
   },
   {
    "duration": 159,
    "start_time": "2023-01-18T19:34:03.276Z"
   },
   {
    "duration": 19,
    "start_time": "2023-01-18T19:34:03.438Z"
   },
   {
    "duration": 379,
    "start_time": "2023-01-18T19:34:03.458Z"
   },
   {
    "duration": 275,
    "start_time": "2023-01-18T19:34:03.839Z"
   },
   {
    "duration": 320,
    "start_time": "2023-01-18T19:34:04.118Z"
   },
   {
    "duration": 357,
    "start_time": "2023-01-18T19:34:04.440Z"
   },
   {
    "duration": 362,
    "start_time": "2023-01-18T19:34:04.799Z"
   },
   {
    "duration": 25,
    "start_time": "2023-01-18T19:34:05.163Z"
   },
   {
    "duration": 161,
    "start_time": "2023-01-18T19:34:05.191Z"
   },
   {
    "duration": 9,
    "start_time": "2023-01-18T19:34:05.354Z"
   },
   {
    "duration": 161,
    "start_time": "2023-01-18T19:34:05.366Z"
   },
   {
    "duration": 9,
    "start_time": "2023-01-18T19:34:05.530Z"
   },
   {
    "duration": 5,
    "start_time": "2023-01-18T19:34:05.541Z"
   },
   {
    "duration": 6,
    "start_time": "2023-01-18T19:34:05.548Z"
   },
   {
    "duration": 30,
    "start_time": "2023-01-18T19:34:05.556Z"
   },
   {
    "duration": 113,
    "start_time": "2023-01-18T19:34:05.589Z"
   },
   {
    "duration": 0,
    "start_time": "2023-01-18T19:34:05.705Z"
   },
   {
    "duration": 4,
    "start_time": "2023-01-18T19:34:08.383Z"
   },
   {
    "duration": 31,
    "start_time": "2023-01-18T19:34:09.089Z"
   },
   {
    "duration": 6,
    "start_time": "2023-01-18T19:34:09.283Z"
   },
   {
    "duration": 16,
    "start_time": "2023-01-18T19:34:09.467Z"
   },
   {
    "duration": 8,
    "start_time": "2023-01-18T19:34:09.646Z"
   },
   {
    "duration": 9,
    "start_time": "2023-01-18T19:34:10.018Z"
   },
   {
    "duration": 12,
    "start_time": "2023-01-18T19:34:10.183Z"
   },
   {
    "duration": 15,
    "start_time": "2023-01-18T19:34:10.750Z"
   },
   {
    "duration": 63,
    "start_time": "2023-01-18T19:34:11.884Z"
   },
   {
    "duration": 27,
    "start_time": "2023-01-18T19:34:12.085Z"
   },
   {
    "duration": 15,
    "start_time": "2023-01-18T19:34:12.263Z"
   },
   {
    "duration": 10,
    "start_time": "2023-01-18T19:34:12.437Z"
   },
   {
    "duration": 11,
    "start_time": "2023-01-18T19:34:12.630Z"
   },
   {
    "duration": 10,
    "start_time": "2023-01-18T19:34:12.842Z"
   },
   {
    "duration": 9,
    "start_time": "2023-01-18T19:34:13.025Z"
   },
   {
    "duration": 20,
    "start_time": "2023-01-18T19:34:13.193Z"
   },
   {
    "duration": 28,
    "start_time": "2023-01-18T19:34:13.585Z"
   },
   {
    "duration": 13,
    "start_time": "2023-01-18T19:34:13.959Z"
   },
   {
    "duration": 206,
    "start_time": "2023-01-18T19:34:14.150Z"
   },
   {
    "duration": 187,
    "start_time": "2023-01-18T19:34:14.359Z"
   },
   {
    "duration": 18,
    "start_time": "2023-01-18T19:34:14.549Z"
   },
   {
    "duration": 260,
    "start_time": "2023-01-18T19:34:14.721Z"
   },
   {
    "duration": 246,
    "start_time": "2023-01-18T19:34:15.318Z"
   },
   {
    "duration": 349,
    "start_time": "2023-01-18T19:34:15.870Z"
   },
   {
    "duration": 252,
    "start_time": "2023-01-18T19:34:16.467Z"
   },
   {
    "duration": 396,
    "start_time": "2023-01-18T19:34:17.064Z"
   },
   {
    "duration": 15,
    "start_time": "2023-01-18T19:34:17.629Z"
   },
   {
    "duration": 145,
    "start_time": "2023-01-18T19:34:17.877Z"
   },
   {
    "duration": 10,
    "start_time": "2023-01-18T19:34:18.257Z"
   },
   {
    "duration": 214,
    "start_time": "2023-01-18T19:34:18.941Z"
   },
   {
    "duration": 11,
    "start_time": "2023-01-18T19:34:19.662Z"
   },
   {
    "duration": 3,
    "start_time": "2023-01-18T19:34:20.433Z"
   },
   {
    "duration": 3,
    "start_time": "2023-01-18T19:34:21.240Z"
   },
   {
    "duration": 3,
    "start_time": "2023-01-18T19:34:21.834Z"
   },
   {
    "duration": 19,
    "start_time": "2023-01-18T19:34:25.538Z"
   },
   {
    "duration": 188,
    "start_time": "2023-01-18T19:35:12.045Z"
   },
   {
    "duration": 255,
    "start_time": "2023-01-18T19:35:41.829Z"
   },
   {
    "duration": 111,
    "start_time": "2023-01-18T19:59:05.049Z"
   },
   {
    "duration": 150,
    "start_time": "2023-01-18T19:59:59.049Z"
   },
   {
    "duration": 249,
    "start_time": "2023-01-18T20:00:37.445Z"
   },
   {
    "duration": 19,
    "start_time": "2023-01-18T20:04:03.821Z"
   },
   {
    "duration": 207,
    "start_time": "2023-01-18T20:05:52.447Z"
   },
   {
    "duration": 320,
    "start_time": "2023-01-18T20:06:14.219Z"
   },
   {
    "duration": 464,
    "start_time": "2023-01-18T20:06:50.435Z"
   },
   {
    "duration": 338,
    "start_time": "2023-01-18T20:07:00.637Z"
   },
   {
    "duration": 15,
    "start_time": "2023-01-18T20:15:15.342Z"
   },
   {
    "duration": 14,
    "start_time": "2023-01-18T20:18:00.215Z"
   },
   {
    "duration": 1388,
    "start_time": "2023-01-18T20:29:29.970Z"
   },
   {
    "duration": 1284,
    "start_time": "2023-01-18T20:29:48.822Z"
   },
   {
    "duration": 15,
    "start_time": "2023-01-18T20:30:01.750Z"
   },
   {
    "duration": 30,
    "start_time": "2023-01-18T20:33:06.316Z"
   },
   {
    "duration": 1236,
    "start_time": "2023-01-18T20:40:56.302Z"
   },
   {
    "duration": 19,
    "start_time": "2023-01-18T20:41:29.400Z"
   },
   {
    "duration": 1289,
    "start_time": "2023-01-18T21:11:27.875Z"
   },
   {
    "duration": 49,
    "start_time": "2023-01-18T21:11:29.166Z"
   },
   {
    "duration": 7,
    "start_time": "2023-01-18T21:11:29.220Z"
   },
   {
    "duration": 25,
    "start_time": "2023-01-18T21:11:29.229Z"
   },
   {
    "duration": 14,
    "start_time": "2023-01-18T21:11:29.256Z"
   },
   {
    "duration": 11,
    "start_time": "2023-01-18T21:11:29.271Z"
   },
   {
    "duration": 44,
    "start_time": "2023-01-18T21:11:29.284Z"
   },
   {
    "duration": 13,
    "start_time": "2023-01-18T21:11:29.330Z"
   },
   {
    "duration": 82,
    "start_time": "2023-01-18T21:11:29.346Z"
   },
   {
    "duration": 21,
    "start_time": "2023-01-18T21:11:29.431Z"
   },
   {
    "duration": 14,
    "start_time": "2023-01-18T21:11:29.454Z"
   },
   {
    "duration": 8,
    "start_time": "2023-01-18T21:11:29.470Z"
   },
   {
    "duration": 28,
    "start_time": "2023-01-18T21:11:29.479Z"
   },
   {
    "duration": 19,
    "start_time": "2023-01-18T21:11:29.508Z"
   },
   {
    "duration": 16,
    "start_time": "2023-01-18T21:11:29.529Z"
   },
   {
    "duration": 19,
    "start_time": "2023-01-18T21:11:29.547Z"
   },
   {
    "duration": 59,
    "start_time": "2023-01-18T21:11:29.570Z"
   },
   {
    "duration": 13,
    "start_time": "2023-01-18T21:11:29.634Z"
   },
   {
    "duration": 240,
    "start_time": "2023-01-18T21:11:29.649Z"
   },
   {
    "duration": 172,
    "start_time": "2023-01-18T21:11:29.895Z"
   },
   {
    "duration": 44,
    "start_time": "2023-01-18T21:11:30.069Z"
   },
   {
    "duration": 390,
    "start_time": "2023-01-18T21:11:30.118Z"
   },
   {
    "duration": 264,
    "start_time": "2023-01-18T21:11:30.512Z"
   },
   {
    "duration": 356,
    "start_time": "2023-01-18T21:11:30.778Z"
   },
   {
    "duration": 276,
    "start_time": "2023-01-18T21:11:31.136Z"
   },
   {
    "duration": 355,
    "start_time": "2023-01-18T21:11:31.416Z"
   },
   {
    "duration": 24,
    "start_time": "2023-01-18T21:11:31.773Z"
   },
   {
    "duration": 199,
    "start_time": "2023-01-18T21:11:31.807Z"
   },
   {
    "duration": 13,
    "start_time": "2023-01-18T21:11:32.007Z"
   },
   {
    "duration": 228,
    "start_time": "2023-01-18T21:11:32.022Z"
   },
   {
    "duration": 7,
    "start_time": "2023-01-18T21:11:32.251Z"
   },
   {
    "duration": 12,
    "start_time": "2023-01-18T21:11:32.259Z"
   },
   {
    "duration": 33,
    "start_time": "2023-01-18T21:11:32.274Z"
   },
   {
    "duration": 16,
    "start_time": "2023-01-18T21:11:32.308Z"
   },
   {
    "duration": 274,
    "start_time": "2023-01-18T21:11:32.325Z"
   },
   {
    "duration": 372,
    "start_time": "2023-01-18T21:11:32.600Z"
   },
   {
    "duration": 29,
    "start_time": "2023-01-18T21:11:32.974Z"
   },
   {
    "duration": 38,
    "start_time": "2023-01-18T21:11:33.005Z"
   },
   {
    "duration": 48,
    "start_time": "2023-01-18T21:11:33.045Z"
   },
   {
    "duration": 29,
    "start_time": "2023-01-18T21:11:33.099Z"
   },
   {
    "duration": 10,
    "start_time": "2023-01-18T21:11:37.284Z"
   },
   {
    "duration": 28,
    "start_time": "2023-01-18T21:11:38.511Z"
   },
   {
    "duration": 9,
    "start_time": "2023-01-18T21:11:38.812Z"
   },
   {
    "duration": 18,
    "start_time": "2023-01-18T21:11:39.023Z"
   },
   {
    "duration": 8,
    "start_time": "2023-01-18T21:11:39.266Z"
   },
   {
    "duration": 25,
    "start_time": "2023-01-18T21:11:39.690Z"
   },
   {
    "duration": 17,
    "start_time": "2023-01-18T21:11:39.917Z"
   },
   {
    "duration": 28,
    "start_time": "2023-01-18T21:11:40.569Z"
   },
   {
    "duration": 80,
    "start_time": "2023-01-18T21:11:41.862Z"
   },
   {
    "duration": 40,
    "start_time": "2023-01-18T21:11:42.071Z"
   },
   {
    "duration": 28,
    "start_time": "2023-01-18T21:11:42.289Z"
   },
   {
    "duration": 15,
    "start_time": "2023-01-18T21:11:42.503Z"
   },
   {
    "duration": 10,
    "start_time": "2023-01-18T21:11:42.728Z"
   },
   {
    "duration": 10,
    "start_time": "2023-01-18T21:11:42.943Z"
   },
   {
    "duration": 8,
    "start_time": "2023-01-18T21:11:43.158Z"
   },
   {
    "duration": 19,
    "start_time": "2023-01-18T21:11:43.412Z"
   },
   {
    "duration": 33,
    "start_time": "2023-01-18T21:11:43.812Z"
   },
   {
    "duration": 11,
    "start_time": "2023-01-18T21:11:44.239Z"
   },
   {
    "duration": 186,
    "start_time": "2023-01-18T21:11:44.457Z"
   },
   {
    "duration": 143,
    "start_time": "2023-01-18T21:11:44.657Z"
   },
   {
    "duration": 18,
    "start_time": "2023-01-18T21:11:44.907Z"
   },
   {
    "duration": 245,
    "start_time": "2023-01-18T21:11:45.115Z"
   },
   {
    "duration": 327,
    "start_time": "2023-01-18T21:11:45.814Z"
   },
   {
    "duration": 324,
    "start_time": "2023-01-18T21:11:46.420Z"
   },
   {
    "duration": 241,
    "start_time": "2023-01-18T21:11:47.114Z"
   },
   {
    "duration": 384,
    "start_time": "2023-01-18T21:11:47.784Z"
   },
   {
    "duration": 14,
    "start_time": "2023-01-18T21:11:48.406Z"
   },
   {
    "duration": 153,
    "start_time": "2023-01-18T21:11:48.598Z"
   },
   {
    "duration": 9,
    "start_time": "2023-01-18T21:11:49.034Z"
   },
   {
    "duration": 185,
    "start_time": "2023-01-18T21:11:49.642Z"
   },
   {
    "duration": 9,
    "start_time": "2023-01-18T21:11:50.070Z"
   },
   {
    "duration": 5,
    "start_time": "2023-01-18T21:11:50.705Z"
   },
   {
    "duration": 3,
    "start_time": "2023-01-18T21:11:50.925Z"
   },
   {
    "duration": 3,
    "start_time": "2023-01-18T21:11:51.157Z"
   },
   {
    "duration": 278,
    "start_time": "2023-01-18T21:11:51.826Z"
   },
   {
    "duration": 306,
    "start_time": "2023-01-18T21:11:52.280Z"
   },
   {
    "duration": 25,
    "start_time": "2023-01-18T21:11:53.173Z"
   },
   {
    "duration": 14,
    "start_time": "2023-01-18T21:11:53.831Z"
   },
   {
    "duration": 51,
    "start_time": "2023-01-18T21:11:54.281Z"
   },
   {
    "duration": 20,
    "start_time": "2023-01-18T21:11:55.022Z"
   },
   {
    "duration": 3,
    "start_time": "2023-01-18T21:12:19.667Z"
   },
   {
    "duration": 3,
    "start_time": "2023-01-18T22:10:27.191Z"
   },
   {
    "duration": 101,
    "start_time": "2023-01-18T22:10:34.222Z"
   },
   {
    "duration": 12,
    "start_time": "2023-01-18T22:10:47.224Z"
   },
   {
    "duration": 12,
    "start_time": "2023-01-18T22:11:27.417Z"
   },
   {
    "duration": 13,
    "start_time": "2023-01-18T22:36:15.535Z"
   },
   {
    "duration": 14,
    "start_time": "2023-01-18T22:36:24.395Z"
   }
  ],
  "kernelspec": {
   "display_name": "Python 3 (ipykernel)",
   "language": "python",
   "name": "python3"
  },
  "language_info": {
   "codemirror_mode": {
    "name": "ipython",
    "version": 3
   },
   "file_extension": ".py",
   "mimetype": "text/x-python",
   "name": "python",
   "nbconvert_exporter": "python",
   "pygments_lexer": "ipython3",
   "version": "3.9.13"
  },
  "toc": {
   "base_numbering": 1,
   "nav_menu": {},
   "number_sections": true,
   "sideBar": true,
   "skip_h1_title": true,
   "title_cell": "Table of Contents",
   "title_sidebar": "Contents",
   "toc_cell": false,
   "toc_position": {},
   "toc_section_display": true,
   "toc_window_display": false
  }
 },
 "nbformat": 4,
 "nbformat_minor": 2
}
